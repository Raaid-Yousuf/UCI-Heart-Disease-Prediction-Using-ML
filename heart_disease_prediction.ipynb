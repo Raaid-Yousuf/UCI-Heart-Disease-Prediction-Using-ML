{
 "cells": [
  {
   "cell_type": "markdown",
   "id": "7d31c4c8",
   "metadata": {},
   "source": [
    "# Title: Heart Disease Prediction\n",
    "\n",
    "`Author:` [Raaid Yousuf]()\\\n",
    "`Date:` 12.Sept.2025\\\n",
    "`Dataset:`[Heart Disease UCI](https://www.kaggle.com/datasets/redwankarimsony/heart-disease-data?resource=download) \n"
   ]
  },
  {
   "cell_type": "markdown",
   "id": "b5cef9db",
   "metadata": {},
   "source": [
    "## Meta-Data (About Dataset)\n",
    "\n",
    "### Context\n",
    "This is a multivariate type of dataset which means providing or involving a variety of separate mathematical or statistical variables, multivariate numerical data analysis. It is composed of 14 attributes which are age, sex, chest pain type, resting blood pressure, serum cholesterol, fasting blood sugar, resting electrocardiographic results, maximum heart rate achieved, exercise-induced angina, oldpeak — ST depression induced by exercise relative to rest, the slope of the peak exercise ST segment, number of major vessels and Thalassemia. This database includes 76 attributes, but all published studies relate to the use of a subset of 14 of them. The Cleveland database is the only one used by ML researchers to date. One of the major tasks on this dataset is to predict based on the given attributes of a patient that whether that particular person has heart disease or not and other is the experimental task to diagnose and find out various insights from this dataset which could help in understanding the problem more.\n",
    "\n",
    "### Content\n",
    "#### Column Descriptions:\n",
    "* `id` (Unique id for each patient)\n",
    "* `age` (Age of the patient in years)\n",
    "* `origin` (place of study)\n",
    "* `sex` (Male/Female)\n",
    "* `cp` chest pain type\n",
    "   1. ypical angina \n",
    "   2. atypical angina \n",
    "   3. non-anginal \n",
    "   4. asymptomatic\n",
    "* `trestbps` resting blood pressure (resting blood pressure (in mm Hg on admission to the hospital))\n",
    "* `chol` (serum cholesterol in mg/dl)\n",
    "* `fbs` (if fasting blood sugar > 120 mg/dl)\n",
    "* `restecg` (resting electrocardiographic results)\n",
    "* -- `Values:` [normal, stt abnormality, lv hypertrophy]\n",
    "* `thalach:` maximum heart rate achieved\n",
    "* `exang:` exercise-induced angina (True/ False)\n",
    "* `oldpeak:` ST depression induced by exercise relative to rest\n",
    "* `slope:` the slope of the peak exercise ST segment\n",
    "* `ca:` number of major vessels (0-3) colored by fluoroscopy\n",
    "* `thal:` [normal; fixed defect; reversible defect]\n",
    "* `num:` the predicted attribute\n",
    "### Acknowledgements\n",
    "#### Creators:\n",
    "* Hungarian Institute of Cardiology. Budapest: Andras Janosi, M.D.\n",
    "* University Hospital, Zurich, Switzerland: William Steinbrunn, M.D.\n",
    "* University Hospital, Basel, Switzerland: Matthias Pfisterer, M.D.\n",
    "* V.A. Medical Center, Long Beach and Cleveland Clinic Foundation: Robert Detrano, M.D., Ph.D.\n",
    "#### Relevant Papers:\n",
    "* Detrano, R., Janosi, A., Steinbrunn, W., Pfisterer, M., Schmid, J., Sandhu, S., Guppy, K., Lee, S., & Froelicher, V. (1989). International application of a new probability algorithm for the diagnosis of coronary artery disease. American Journal of Cardiology, 64,304--310.\n",
    "\n",
    "* David W. Aha & Dennis Kibler. \"Instance-based prediction of heart-disease presence with the Cleveland database.\" \n",
    "* Gennari, J.H., Langley, P, & Fisher, D. (1989). Models of incremental concept formation. Artificial Intelligence, 40, 11--61. \n",
    "#### Citation Request:\n",
    "The authors of the databases have requested that any publications resulting from the use of the data include the names of the principal investigator responsible for the data collection at each institution. They would be:\n",
    "\n",
    "* Hungarian Institute of Cardiology. Budapest: Andras Janosi, M.D.\n",
    "* University Hospital, Zurich, Switzerland: William Steinbrunn, M.D.\n",
    "* University Hospital, Basel, Switzerland: Matthias Pfisterer, M.D.\n",
    "* V.A. Medical Center, Long Beach and Cleveland Clinic Foundation:Robert Detrano, M.D., Ph.D."
   ]
  },
  {
   "cell_type": "markdown",
   "id": "50468e77",
   "metadata": {},
   "source": [
    "## Aims and Objectives"
   ]
  },
  {
   "cell_type": "markdown",
   "id": "5cf437bc",
   "metadata": {},
   "source": [
    "### Import Libraries\n",
    "\n",
    "Let's start th eproject by importing all the libraries we will need in this project."
   ]
  },
  {
   "cell_type": "code",
   "execution_count": 110,
   "id": "ac9ac1ff",
   "metadata": {},
   "outputs": [],
   "source": [
    "# Import libraries\n",
    "\n",
    "# 1. to handle the data\n",
    "import pandas as pd\n",
    "import numpy as np\n",
    "\n",
    "# to visualize the data\n",
    "import matplotlib.pyplot as plt\n",
    "import seaborn as sns\n",
    "import plotly.express as px\n",
    "\n",
    "# to preprocess the data\n",
    "from sklearn.preprocessing import StandardScaler, MinMaxScaler, LabelEncoder\n",
    "from sklearn.impute import SimpleImputer, KNNImputer\n",
    "\n",
    "# import iterative imputer from sklearn\n",
    "from sklearn.experimental import enable_iterative_imputer\n",
    "from sklearn.impute import IterativeImputer\n",
    "\n",
    "# machine learning\n",
    "from sklearn.model_selection import train_test_split, GridSearchCV, RandomizedSearchCV, cross_val_score\n",
    "\n",
    "# machine learning models\n",
    "from sklearn.linear_model import LogisticRegression\n",
    "from sklearn.tree import DecisionTreeClassifier\n",
    "from sklearn.ensemble import RandomForestClassifier, GradientBoostingClassifier, AdaBoostClassifier, RandomForestRegressor\n",
    "from sklearn.svm import SVC\n",
    "from xgboost import XGBClassifier\n",
    "from sklearn.neighbors import KNeighborsClassifier\n",
    "\n",
    "\n",
    "# metrics\n",
    "from sklearn.metrics import accuracy_score, classification_report, confusion_matrix, mean_squared_error, mean_absolute_error, r2_score\n",
    "\n",
    "# ignore warnings\n",
    "import warnings\n",
    "warnings.filterwarnings('ignore')"
   ]
  },
  {
   "cell_type": "markdown",
   "id": "a2224d0a",
   "metadata": {},
   "source": [
    "### Load the dataset"
   ]
  },
  {
   "cell_type": "code",
   "execution_count": 111,
   "id": "0e81e9a5",
   "metadata": {},
   "outputs": [
    {
     "data": {
      "text/html": [
       "<div>\n",
       "<style scoped>\n",
       "    .dataframe tbody tr th:only-of-type {\n",
       "        vertical-align: middle;\n",
       "    }\n",
       "\n",
       "    .dataframe tbody tr th {\n",
       "        vertical-align: top;\n",
       "    }\n",
       "\n",
       "    .dataframe thead th {\n",
       "        text-align: right;\n",
       "    }\n",
       "</style>\n",
       "<table border=\"1\" class=\"dataframe\">\n",
       "  <thead>\n",
       "    <tr style=\"text-align: right;\">\n",
       "      <th></th>\n",
       "      <th>id</th>\n",
       "      <th>age</th>\n",
       "      <th>sex</th>\n",
       "      <th>dataset</th>\n",
       "      <th>cp</th>\n",
       "      <th>trestbps</th>\n",
       "      <th>chol</th>\n",
       "      <th>fbs</th>\n",
       "      <th>restecg</th>\n",
       "      <th>thalch</th>\n",
       "      <th>exang</th>\n",
       "      <th>oldpeak</th>\n",
       "      <th>slope</th>\n",
       "      <th>ca</th>\n",
       "      <th>thal</th>\n",
       "      <th>num</th>\n",
       "    </tr>\n",
       "  </thead>\n",
       "  <tbody>\n",
       "    <tr>\n",
       "      <th>0</th>\n",
       "      <td>1</td>\n",
       "      <td>63</td>\n",
       "      <td>Male</td>\n",
       "      <td>Cleveland</td>\n",
       "      <td>typical angina</td>\n",
       "      <td>145.0</td>\n",
       "      <td>233.0</td>\n",
       "      <td>True</td>\n",
       "      <td>lv hypertrophy</td>\n",
       "      <td>150.0</td>\n",
       "      <td>False</td>\n",
       "      <td>2.3</td>\n",
       "      <td>downsloping</td>\n",
       "      <td>0.0</td>\n",
       "      <td>fixed defect</td>\n",
       "      <td>0</td>\n",
       "    </tr>\n",
       "    <tr>\n",
       "      <th>1</th>\n",
       "      <td>2</td>\n",
       "      <td>67</td>\n",
       "      <td>Male</td>\n",
       "      <td>Cleveland</td>\n",
       "      <td>asymptomatic</td>\n",
       "      <td>160.0</td>\n",
       "      <td>286.0</td>\n",
       "      <td>False</td>\n",
       "      <td>lv hypertrophy</td>\n",
       "      <td>108.0</td>\n",
       "      <td>True</td>\n",
       "      <td>1.5</td>\n",
       "      <td>flat</td>\n",
       "      <td>3.0</td>\n",
       "      <td>normal</td>\n",
       "      <td>2</td>\n",
       "    </tr>\n",
       "    <tr>\n",
       "      <th>2</th>\n",
       "      <td>3</td>\n",
       "      <td>67</td>\n",
       "      <td>Male</td>\n",
       "      <td>Cleveland</td>\n",
       "      <td>asymptomatic</td>\n",
       "      <td>120.0</td>\n",
       "      <td>229.0</td>\n",
       "      <td>False</td>\n",
       "      <td>lv hypertrophy</td>\n",
       "      <td>129.0</td>\n",
       "      <td>True</td>\n",
       "      <td>2.6</td>\n",
       "      <td>flat</td>\n",
       "      <td>2.0</td>\n",
       "      <td>reversable defect</td>\n",
       "      <td>1</td>\n",
       "    </tr>\n",
       "    <tr>\n",
       "      <th>3</th>\n",
       "      <td>4</td>\n",
       "      <td>37</td>\n",
       "      <td>Male</td>\n",
       "      <td>Cleveland</td>\n",
       "      <td>non-anginal</td>\n",
       "      <td>130.0</td>\n",
       "      <td>250.0</td>\n",
       "      <td>False</td>\n",
       "      <td>normal</td>\n",
       "      <td>187.0</td>\n",
       "      <td>False</td>\n",
       "      <td>3.5</td>\n",
       "      <td>downsloping</td>\n",
       "      <td>0.0</td>\n",
       "      <td>normal</td>\n",
       "      <td>0</td>\n",
       "    </tr>\n",
       "    <tr>\n",
       "      <th>4</th>\n",
       "      <td>5</td>\n",
       "      <td>41</td>\n",
       "      <td>Female</td>\n",
       "      <td>Cleveland</td>\n",
       "      <td>atypical angina</td>\n",
       "      <td>130.0</td>\n",
       "      <td>204.0</td>\n",
       "      <td>False</td>\n",
       "      <td>lv hypertrophy</td>\n",
       "      <td>172.0</td>\n",
       "      <td>False</td>\n",
       "      <td>1.4</td>\n",
       "      <td>upsloping</td>\n",
       "      <td>0.0</td>\n",
       "      <td>normal</td>\n",
       "      <td>0</td>\n",
       "    </tr>\n",
       "  </tbody>\n",
       "</table>\n",
       "</div>"
      ],
      "text/plain": [
       "   id  age     sex    dataset  ...        slope   ca               thal num\n",
       "0   1   63    Male  Cleveland  ...  downsloping  0.0       fixed defect   0\n",
       "1   2   67    Male  Cleveland  ...         flat  3.0             normal   2\n",
       "2   3   67    Male  Cleveland  ...         flat  2.0  reversable defect   1\n",
       "3   4   37    Male  Cleveland  ...  downsloping  0.0             normal   0\n",
       "4   5   41  Female  Cleveland  ...    upsloping  0.0             normal   0\n",
       "\n",
       "[5 rows x 16 columns]"
      ]
     },
     "execution_count": 111,
     "metadata": {},
     "output_type": "execute_result"
    }
   ],
   "source": [
    "# load the data from csv file placed locally in our pc\n",
    "df = pd.read_csv('heart_disease_uci.csv') \n",
    "\n",
    "# display the first 5 rows of the dataframe\n",
    "df.head()"
   ]
  },
  {
   "cell_type": "markdown",
   "id": "25ec4bab",
   "metadata": {},
   "source": [
    "## Exploratory Data  Analysis\n",
    "\n",
    "### explore each column"
   ]
  },
  {
   "cell_type": "code",
   "execution_count": 112,
   "id": "079c2837",
   "metadata": {},
   "outputs": [
    {
     "name": "stdout",
     "output_type": "stream",
     "text": [
      "<class 'pandas.core.frame.DataFrame'>\n",
      "RangeIndex: 920 entries, 0 to 919\n",
      "Data columns (total 16 columns):\n",
      " #   Column    Non-Null Count  Dtype  \n",
      "---  ------    --------------  -----  \n",
      " 0   id        920 non-null    int64  \n",
      " 1   age       920 non-null    int64  \n",
      " 2   sex       920 non-null    object \n",
      " 3   dataset   920 non-null    object \n",
      " 4   cp        920 non-null    object \n",
      " 5   trestbps  861 non-null    float64\n",
      " 6   chol      890 non-null    float64\n",
      " 7   fbs       830 non-null    object \n",
      " 8   restecg   918 non-null    object \n",
      " 9   thalch    865 non-null    float64\n",
      " 10  exang     865 non-null    object \n",
      " 11  oldpeak   858 non-null    float64\n",
      " 12  slope     611 non-null    object \n",
      " 13  ca        309 non-null    float64\n",
      " 14  thal      434 non-null    object \n",
      " 15  num       920 non-null    int64  \n",
      "dtypes: float64(5), int64(3), object(8)\n",
      "memory usage: 115.1+ KB\n"
     ]
    }
   ],
   "source": [
    "# exploring the datatype of each column\n",
    "df.info()"
   ]
  },
  {
   "cell_type": "code",
   "execution_count": 113,
   "id": "f84f3878",
   "metadata": {},
   "outputs": [
    {
     "data": {
      "text/plain": [
       "(920, 16)"
      ]
     },
     "execution_count": 113,
     "metadata": {},
     "output_type": "execute_result"
    }
   ],
   "source": [
    "# data shape\n",
    "df.shape"
   ]
  },
  {
   "cell_type": "code",
   "execution_count": 114,
   "id": "34bfeeb7",
   "metadata": {},
   "outputs": [
    {
     "data": {
      "text/plain": [
       "(1, 920)"
      ]
     },
     "execution_count": 114,
     "metadata": {},
     "output_type": "execute_result"
    }
   ],
   "source": [
    "# id column\n",
    "df['id'].min(), df['id'].max()"
   ]
  },
  {
   "cell_type": "code",
   "execution_count": 115,
   "id": "1f00ced0",
   "metadata": {},
   "outputs": [
    {
     "data": {
      "text/plain": [
       "(28, 77)"
      ]
     },
     "execution_count": 115,
     "metadata": {},
     "output_type": "execute_result"
    }
   ],
   "source": [
    "# age column\n",
    "df['age'].min(), df['age'].max()"
   ]
  },
  {
   "cell_type": "code",
   "execution_count": 116,
   "id": "2e6152dd",
   "metadata": {},
   "outputs": [
    {
     "data": {
      "text/plain": [
       "count    920.000000\n",
       "mean      53.510870\n",
       "std        9.424685\n",
       "min       28.000000\n",
       "25%       47.000000\n",
       "50%       54.000000\n",
       "75%       60.000000\n",
       "max       77.000000\n",
       "Name: age, dtype: float64"
      ]
     },
     "execution_count": 116,
     "metadata": {},
     "output_type": "execute_result"
    }
   ],
   "source": [
    "# lets summarize the age column and transpose the result\n",
    "df['age'].describe()"
   ]
  },
  {
   "cell_type": "code",
   "execution_count": 117,
   "id": "cd1c55ff",
   "metadata": {},
   "outputs": [
    {
     "data": {
      "text/plain": [
       "Text(0.5, 1.0, 'Age Distribution')"
      ]
     },
     "execution_count": 117,
     "metadata": {},
     "output_type": "execute_result"
    },
    {
     "data": {
      "image/png": "[encoded data removed]",
      "text/plain": [
       "<Figure size 640x480 with 1 Axes>"
      ]
     },
     "metadata": {},
     "output_type": "display_data"
    }
   ],
   "source": [
    "# draw a histogram plot for age column\n",
    "sns.histplot(data=df, x='age', bins=20, kde=True)\n",
    "plt.title('Age Distribution')"
   ]
  },
  {
   "cell_type": "code",
   "execution_count": 118,
   "id": "c3601448",
   "metadata": {},
   "outputs": [
    {
     "name": "stdout",
     "output_type": "stream",
     "text": [
      "Mean age: 53.51086956521739\n",
      "Median age: 54.0\n",
      "Mode age: 54\n"
     ]
    },
    {
     "data": {
      "image/png": "[encoded data removed]",
      "text/plain": [
       "<Figure size 640x480 with 1 Axes>"
      ]
     },
     "metadata": {},
     "output_type": "display_data"
    }
   ],
   "source": [
    "# plot the mean, median, mode on the histogram\n",
    "sns.histplot(data=df, x='age', bins=20, kde=True)\n",
    "plt.axvline(df['age'].mean(), color='r', linestyle='--', label='Mean')\n",
    "plt.axvline(df['age'].median(), color='g', linestyle='-', label='Median')\n",
    "plt.axvline(df['age'].mode()[0], color='b', linestyle='-', label='Mode')\n",
    "plt.title('Age Distribution with Mean, Median, Mode')\n",
    "\n",
    "# print mean, median, mode of age column\n",
    "print(\"Mean age:\", df['age'].mean())\n",
    "print(\"Median age:\", df['age'].median())\n",
    "print(\"Mode age:\", df['age'].mode()[0])"
   ]
  },
  {
   "cell_type": "markdown",
   "id": "0f9d13df",
   "metadata": {},
   "source": [
    "let's explore the gender based distribution of the dataset for age column"
   ]
  },
  {
   "cell_type": "code",
   "execution_count": 119,
   "id": "408cb61d",
   "metadata": {},
   "outputs": [
    {
     "data": {
      "application/vnd.plotly.v1+json": {
       "config": {
        "plotlyServerURL": "https://plot.ly"
       },
       "data": [
        {
         "bingroup": "x",
         "hovertemplate": "sex=Male<br>age=%{x}<br>count=%{y}<extra></extra>",
         "legendgroup": "Male",
         "marker": {
          "color": "#636efa",
          "pattern": {
           "shape": ""
          }
         },
         "name": "Male",
         "orientation": "v",
         "showlegend": true,
         "type": "histogram",
         "x": {
          "bdata": "P0NDJTg/NTk4LDQ5MDYxQDo6PCsoPEA7LCorOTc9KDs6MzI1QSwsPDYyKTYzOjY8PDY7LkM+QSw8MDotJ0Q0LC9CPjQ7NDAtIjE2Ozk9Jzg0KTo/QTAzN0E2LDYzHTNGPiMzOzs0QDovOSktNDdARjM6PEQuTTA5NCNGNUA5NDgrNTAqOypCNkUyMytDRTs5Ky06MjcmKTQ4OzUvNkIxNjguKik9QzovND45OkArRjksPSo0OygqPUIuO0A5OS8jPTo6ODhDLD8pOy1EOSYcHR0gICEiIiMjJCQkJCUlJSUmJicnJycnJycnJygoKCgoKSkpKSoqKioqKissLCwtLS0tLi4uLi4uLy8vMDAwMDExMTEyMjIyMjMzMzQ0NDQ1NTU1NTU2NjY2NjY2NjY3Nzc3Nzc3ODg4ODk6Ojo6Ozs7Ozw9Ph8iIyQlJiYmKCkpKy4uLi8vMDAwMTEyNDY2Nzk6PD9BICYnKy0uLjAwMDAyNDQ1NjY2NjY3ODk6OikrLCwuMTEzNDQ0NDU1Njc3Nzg4Ojs7QUIpKywvMTEyMjQ0OEEgIiMkJiYmJigpKiorKystLi4vLy8vMDIyMjMzMzMzMzQ0NDQ1NTU1NTU1NTY2Njc3Nzc4ODg4ODg4ODk5OTk5OTo6Ojs7Ozs7PDw8PDw8PT09PT09PT09Pj4+Pj4/Pz8/P0BBQUFBQkNEREVFRkZISj8sPDdCQkE8PDw4Oz4/OT4/Lj88OkA/SjRFMzw4NzZNPzc0QDw8Ojs9KD0pOT87MzsqNz44NUQ1PD47Mz05ODpFQzpBPzc5QTZISzEzPDo9Qz5BP0UzPjdLKEM6PD8jPis/REEwP0A9Mjs3LUE9MUgyQDc/Ozg+SjY5PkxGMDA9QkQ3PkdKNTpLODpANjY7Nzk9KUcmNzhFQEhFOD5DOUUzMEVFQDk1JUNKPzo9QDo8OTc3ODk9PTpKRD41Pi4+Nzo+",
          "dtype": "i1"
         },
         "xaxis": "x",
         "yaxis": "y"
        },
        {
         "bingroup": "x",
         "hovertemplate": "sex=Female<br>age=%{x}<br>count=%{y}<extra></extra>",
         "legendgroup": "Female",
         "marker": {
          "color": "#EF553B",
          "pattern": {
           "shape": ""
          }
         },
         "name": "Female",
         "orientation": "v",
         "showlegend": true,
         "type": "histogram",
         "x": {
          "bdata": "KT45ODA6MjpCRUFHPUEpMy42QUEzNTU1Mz4sPzw5Rz0rPiM/LTg+Kzc8KkM2OjYtOz44PD8+RC0yMkBAPiVCLi5AKTYnPyJDNDdKNjEpMTwzKkNMLDo8R0InOjc6Nz85OR4fICIjIyUlJSYnKSkpKisrKysrKyssLS0tLi8vMDAwMDAwMDExMTEyMjMzMzM0NDQ0NTU1NjY2NjY2Njc3Nzg5OTs9PiExMjM7KC8wOC82OiYmMjM+PkBAQkk/QDY9MzY=",
          "dtype": "i1"
         },
         "xaxis": "x",
         "yaxis": "y"
        }
       ],
       "layout": {
        "barmode": "relative",
        "legend": {
         "title": {
          "text": "sex"
         },
         "tracegroupgap": 0
        },
        "margin": {
         "t": 60
        },
        "template": {
         "data": {
          "bar": [
           {
            "error_x": {
             "color": "#2a3f5f"
            },
            "error_y": {
             "color": "#2a3f5f"
            },
            "marker": {
             "line": {
              "color": "#E5ECF6",
              "width": 0.5
             },
             "pattern": {
              "fillmode": "overlay",
              "size": 10,
              "solidity": 0.2
             }
            },
            "type": "bar"
           }
          ],
          "barpolar": [
           {
            "marker": {
             "line": {
              "color": "#E5ECF6",
              "width": 0.5
             },
             "pattern": {
              "fillmode": "overlay",
              "size": 10,
              "solidity": 0.2
             }
            },
            "type": "barpolar"
           }
          ],
          "carpet": [
           {
            "aaxis": {
             "endlinecolor": "#2a3f5f",
             "gridcolor": "white",
             "linecolor": "white",
             "minorgridcolor": "white",
             "startlinecolor": "#2a3f5f"
            },
            "baxis": {
             "endlinecolor": "#2a3f5f",
             "gridcolor": "white",
             "linecolor": "white",
             "minorgridcolor": "white",
             "startlinecolor": "#2a3f5f"
            },
            "type": "carpet"
           }
          ],
          "choropleth": [
           {
            "colorbar": {
             "outlinewidth": 0,
             "ticks": ""
            },
            "type": "choropleth"
           }
          ],
          "contour": [
           {
            "colorbar": {
             "outlinewidth": 0,
             "ticks": ""
            },
            "colorscale": [
             [
              0,
              "#0d0887"
             ],
             [
              0.1111111111111111,
              "#46039f"
             ],
             [
              0.2222222222222222,
              "#7201a8"
             ],
             [
              0.3333333333333333,
              "#9c179e"
             ],
             [
              0.4444444444444444,
              "#bd3786"
             ],
             [
              0.5555555555555556,
              "#d8576b"
             ],
             [
              0.6666666666666666,
              "#ed7953"
             ],
             [
              0.7777777777777778,
              "#fb9f3a"
             ],
             [
              0.8888888888888888,
              "#fdca26"
             ],
             [
              1,
              "#f0f921"
             ]
            ],
            "type": "contour"
           }
          ],
          "contourcarpet": [
           {
            "colorbar": {
             "outlinewidth": 0,
             "ticks": ""
            },
            "type": "contourcarpet"
           }
          ],
          "heatmap": [
           {
            "colorbar": {
             "outlinewidth": 0,
             "ticks": ""
            },
            "colorscale": [
             [
              0,
              "#0d0887"
             ],
             [
              0.1111111111111111,
              "#46039f"
             ],
             [
              0.2222222222222222,
              "#7201a8"
             ],
             [
              0.3333333333333333,
              "#9c179e"
             ],
             [
              0.4444444444444444,
              "#bd3786"
             ],
             [
              0.5555555555555556,
              "#d8576b"
             ],
             [
              0.6666666666666666,
              "#ed7953"
             ],
             [
              0.7777777777777778,
              "#fb9f3a"
             ],
             [
              0.8888888888888888,
              "#fdca26"
             ],
             [
              1,
              "#f0f921"
             ]
            ],
            "type": "heatmap"
           }
          ],
          "histogram": [
           {
            "marker": {
             "pattern": {
              "fillmode": "overlay",
              "size": 10,
              "solidity": 0.2
             }
            },
            "type": "histogram"
           }
          ],
          "histogram2d": [
           {
            "colorbar": {
             "outlinewidth": 0,
             "ticks": ""
            },
            "colorscale": [
             [
              0,
              "#0d0887"
             ],
             [
              0.1111111111111111,
              "#46039f"
             ],
             [
              0.2222222222222222,
              "#7201a8"
             ],
             [
              0.3333333333333333,
              "#9c179e"
             ],
             [
              0.4444444444444444,
              "#bd3786"
             ],
             [
              0.5555555555555556,
              "#d8576b"
             ],
             [
              0.6666666666666666,
              "#ed7953"
             ],
             [
              0.7777777777777778,
              "#fb9f3a"
             ],
             [
              0.8888888888888888,
              "#fdca26"
             ],
             [
              1,
              "#f0f921"
             ]
            ],
            "type": "histogram2d"
           }
          ],
          "histogram2dcontour": [
           {
            "colorbar": {
             "outlinewidth": 0,
             "ticks": ""
            },
            "colorscale": [
             [
              0,
              "#0d0887"
             ],
             [
              0.1111111111111111,
              "#46039f"
             ],
             [
              0.2222222222222222,
              "#7201a8"
             ],
             [
              0.3333333333333333,
              "#9c179e"
             ],
             [
              0.4444444444444444,
              "#bd3786"
             ],
             [
              0.5555555555555556,
              "#d8576b"
             ],
             [
              0.6666666666666666,
              "#ed7953"
             ],
             [
              0.7777777777777778,
              "#fb9f3a"
             ],
             [
              0.8888888888888888,
              "#fdca26"
             ],
             [
              1,
              "#f0f921"
             ]
            ],
            "type": "histogram2dcontour"
           }
          ],
          "mesh3d": [
           {
            "colorbar": {
             "outlinewidth": 0,
             "ticks": ""
            },
            "type": "mesh3d"
           }
          ],
          "parcoords": [
           {
            "line": {
             "colorbar": {
              "outlinewidth": 0,
              "ticks": ""
             }
            },
            "type": "parcoords"
           }
          ],
          "pie": [
           {
            "automargin": true,
            "type": "pie"
           }
          ],
          "scatter": [
           {
            "fillpattern": {
             "fillmode": "overlay",
             "size": 10,
             "solidity": 0.2
            },
            "type": "scatter"
           }
          ],
          "scatter3d": [
           {
            "line": {
             "colorbar": {
              "outlinewidth": 0,
              "ticks": ""
             }
            },
            "marker": {
             "colorbar": {
              "outlinewidth": 0,
              "ticks": ""
             }
            },
            "type": "scatter3d"
           }
          ],
          "scattercarpet": [
           {
            "marker": {
             "colorbar": {
              "outlinewidth": 0,
              "ticks": ""
             }
            },
            "type": "scattercarpet"
           }
          ],
          "scattergeo": [
           {
            "marker": {
             "colorbar": {
              "outlinewidth": 0,
              "ticks": ""
             }
            },
            "type": "scattergeo"
           }
          ],
          "scattergl": [
           {
            "marker": {
             "colorbar": {
              "outlinewidth": 0,
              "ticks": ""
             }
            },
            "type": "scattergl"
           }
          ],
          "scattermap": [
           {
            "marker": {
             "colorbar": {
              "outlinewidth": 0,
              "ticks": ""
             }
            },
            "type": "scattermap"
           }
          ],
          "scattermapbox": [
           {
            "marker": {
             "colorbar": {
              "outlinewidth": 0,
              "ticks": ""
             }
            },
            "type": "scattermapbox"
           }
          ],
          "scatterpolar": [
           {
            "marker": {
             "colorbar": {
              "outlinewidth": 0,
              "ticks": ""
             }
            },
            "type": "scatterpolar"
           }
          ],
          "scatterpolargl": [
           {
            "marker": {
             "colorbar": {
              "outlinewidth": 0,
              "ticks": ""
             }
            },
            "type": "scatterpolargl"
           }
          ],
          "scatterternary": [
           {
            "marker": {
             "colorbar": {
              "outlinewidth": 0,
              "ticks": ""
             }
            },
            "type": "scatterternary"
           }
          ],
          "surface": [
           {
            "colorbar": {
             "outlinewidth": 0,
             "ticks": ""
            },
            "colorscale": [
             [
              0,
              "#0d0887"
             ],
             [
              0.1111111111111111,
              "#46039f"
             ],
             [
              0.2222222222222222,
              "#7201a8"
             ],
             [
              0.3333333333333333,
              "#9c179e"
             ],
             [
              0.4444444444444444,
              "#bd3786"
             ],
             [
              0.5555555555555556,
              "#d8576b"
             ],
             [
              0.6666666666666666,
              "#ed7953"
             ],
             [
              0.7777777777777778,
              "#fb9f3a"
             ],
             [
              0.8888888888888888,
              "#fdca26"
             ],
             [
              1,
              "#f0f921"
             ]
            ],
            "type": "surface"
           }
          ],
          "table": [
           {
            "cells": {
             "fill": {
              "color": "#EBF0F8"
             },
             "line": {
              "color": "white"
             }
            },
            "header": {
             "fill": {
              "color": "#C8D4E3"
             },
             "line": {
              "color": "white"
             }
            },
            "type": "table"
           }
          ]
         },
         "layout": {
          "annotationdefaults": {
           "arrowcolor": "#2a3f5f",
           "arrowhead": 0,
           "arrowwidth": 1
          },
          "autotypenumbers": "strict",
          "coloraxis": {
           "colorbar": {
            "outlinewidth": 0,
            "ticks": ""
           }
          },
          "colorscale": {
           "diverging": [
            [
             0,
             "#8e0152"
            ],
            [
             0.1,
             "#c51b7d"
            ],
            [
             0.2,
             "#de77ae"
            ],
            [
             0.3,
             "#f1b6da"
            ],
            [
             0.4,
             "#fde0ef"
            ],
            [
             0.5,
             "#f7f7f7"
            ],
            [
             0.6,
             "#e6f5d0"
            ],
            [
             0.7,
             "#b8e186"
            ],
            [
             0.8,
             "#7fbc41"
            ],
            [
             0.9,
             "#4d9221"
            ],
            [
             1,
             "#276419"
            ]
           ],
           "sequential": [
            [
             0,
             "#0d0887"
            ],
            [
             0.1111111111111111,
             "#46039f"
            ],
            [
             0.2222222222222222,
             "#7201a8"
            ],
            [
             0.3333333333333333,
             "#9c179e"
            ],
            [
             0.4444444444444444,
             "#bd3786"
            ],
            [
             0.5555555555555556,
             "#d8576b"
            ],
            [
             0.6666666666666666,
             "#ed7953"
            ],
            [
             0.7777777777777778,
             "#fb9f3a"
            ],
            [
             0.8888888888888888,
             "#fdca26"
            ],
            [
             1,
             "#f0f921"
            ]
           ],
           "sequentialminus": [
            [
             0,
             "#0d0887"
            ],
            [
             0.1111111111111111,
             "#46039f"
            ],
            [
             0.2222222222222222,
             "#7201a8"
            ],
            [
             0.3333333333333333,
             "#9c179e"
            ],
            [
             0.4444444444444444,
             "#bd3786"
            ],
            [
             0.5555555555555556,
             "#d8576b"
            ],
            [
             0.6666666666666666,
             "#ed7953"
            ],
            [
             0.7777777777777778,
             "#fb9f3a"
            ],
            [
             0.8888888888888888,
             "#fdca26"
            ],
            [
             1,
             "#f0f921"
            ]
           ]
          },
          "colorway": [
           "#636efa",
           "#EF553B",
           "#00cc96",
           "#ab63fa",
           "#FFA15A",
           "#19d3f3",
           "#FF6692",
           "#B6E880",
           "#FF97FF",
           "#FECB52"
          ],
          "font": {
           "color": "#2a3f5f"
          },
          "geo": {
           "bgcolor": "white",
           "lakecolor": "white",
           "landcolor": "#E5ECF6",
           "showlakes": true,
           "showland": true,
           "subunitcolor": "white"
          },
          "hoverlabel": {
           "align": "left"
          },
          "hovermode": "closest",
          "mapbox": {
           "style": "light"
          },
          "paper_bgcolor": "white",
          "plot_bgcolor": "#E5ECF6",
          "polar": {
           "angularaxis": {
            "gridcolor": "white",
            "linecolor": "white",
            "ticks": ""
           },
           "bgcolor": "#E5ECF6",
           "radialaxis": {
            "gridcolor": "white",
            "linecolor": "white",
            "ticks": ""
           }
          },
          "scene": {
           "xaxis": {
            "backgroundcolor": "#E5ECF6",
            "gridcolor": "white",
            "gridwidth": 2,
            "linecolor": "white",
            "showbackground": true,
            "ticks": "",
            "zerolinecolor": "white"
           },
           "yaxis": {
            "backgroundcolor": "#E5ECF6",
            "gridcolor": "white",
            "gridwidth": 2,
            "linecolor": "white",
            "showbackground": true,
            "ticks": "",
            "zerolinecolor": "white"
           },
           "zaxis": {
            "backgroundcolor": "#E5ECF6",
            "gridcolor": "white",
            "gridwidth": 2,
            "linecolor": "white",
            "showbackground": true,
            "ticks": "",
            "zerolinecolor": "white"
           }
          },
          "shapedefaults": {
           "line": {
            "color": "#2a3f5f"
           }
          },
          "ternary": {
           "aaxis": {
            "gridcolor": "white",
            "linecolor": "white",
            "ticks": ""
           },
           "baxis": {
            "gridcolor": "white",
            "linecolor": "white",
            "ticks": ""
           },
           "bgcolor": "#E5ECF6",
           "caxis": {
            "gridcolor": "white",
            "linecolor": "white",
            "ticks": ""
           }
          },
          "title": {
           "x": 0.05
          },
          "xaxis": {
           "automargin": true,
           "gridcolor": "white",
           "linecolor": "white",
           "ticks": "",
           "title": {
            "standoff": 15
           },
           "zerolinecolor": "white",
           "zerolinewidth": 2
          },
          "yaxis": {
           "automargin": true,
           "gridcolor": "white",
           "linecolor": "white",
           "ticks": "",
           "title": {
            "standoff": 15
           },
           "zerolinecolor": "white",
           "zerolinewidth": 2
          }
         }
        },
        "xaxis": {
         "anchor": "y",
         "domain": [
          0,
          1
         ],
         "title": {
          "text": "age"
         }
        },
        "yaxis": {
         "anchor": "x",
         "domain": [
          0,
          1
         ],
         "title": {
          "text": "count"
         }
        }
       }
      }
     },
     "metadata": {},
     "output_type": "display_data"
    }
   ],
   "source": [
    "# plot the histogram for age column using plotly and coloring this by gender\n",
    "fig = px.histogram(df, x='age', color='sex' )\n",
    "fig.show()"
   ]
  },
  {
   "cell_type": "code",
   "execution_count": 120,
   "id": "5a7db59e",
   "metadata": {},
   "outputs": [
    {
     "data": {
      "text/plain": [
       "sex\n",
       "Male      726\n",
       "Female    194\n",
       "Name: count, dtype: int64"
      ]
     },
     "execution_count": 120,
     "metadata": {},
     "output_type": "execute_result"
    }
   ],
   "source": [
    "# find the values of sex column\n",
    "df['sex'].value_counts()"
   ]
  },
  {
   "cell_type": "code",
   "execution_count": 121,
   "id": "55e94cc3",
   "metadata": {},
   "outputs": [
    {
     "name": "stdout",
     "output_type": "stream",
     "text": [
      "Male percentage: 78.91%\n",
      "Female percentage: 21.09%\n"
     ]
    }
   ],
   "source": [
    "# calculate the percentage of male and female\n",
    "male_count = 726\n",
    "female_count = 194\n",
    "total_count = male_count + female_count\n",
    "male_percentage = (male_count / total_count) * 100\n",
    "female_percentage = (female_count / total_count) * 100\n",
    "\n",
    "print(f\"Male percentage: {male_percentage:.2f}%\")\n",
    "print(f\"Female percentage: {female_percentage:.2f}%\")"
   ]
  },
  {
   "cell_type": "code",
   "execution_count": 122,
   "id": "2bcfe8b9",
   "metadata": {},
   "outputs": [
    {
     "data": {
      "text/plain": [
       "sex     age\n",
       "Female  54     15\n",
       "        51     11\n",
       "        62     10\n",
       "        43      9\n",
       "        48      9\n",
       "               ..\n",
       "Male    77      2\n",
       "        28      1\n",
       "        31      1\n",
       "        33      1\n",
       "        76      1\n",
       "Name: count, Length: 91, dtype: int64"
      ]
     },
     "execution_count": 122,
     "metadata": {},
     "output_type": "execute_result"
    }
   ],
   "source": [
    "# find the value count of age column grouping by sex column\n",
    "df.groupby('sex')['age'].value_counts()"
   ]
  },
  {
   "cell_type": "code",
   "execution_count": 123,
   "id": "1eb7db80",
   "metadata": {},
   "outputs": [
    {
     "data": {
      "text/plain": [
       "array(['Cleveland', 'Hungary', 'Switzerland', 'VA Long Beach'],\n",
       "      dtype=object)"
      ]
     },
     "execution_count": 123,
     "metadata": {},
     "output_type": "execute_result"
    }
   ],
   "source": [
    "# lets deal with the dataset column\n",
    "\n",
    "df['dataset'].unique()"
   ]
  },
  {
   "cell_type": "code",
   "execution_count": 124,
   "id": "2365ec82",
   "metadata": {},
   "outputs": [
    {
     "data": {
      "text/plain": [
       "dataset\n",
       "Cleveland        304\n",
       "Hungary          293\n",
       "VA Long Beach    200\n",
       "Switzerland      123\n",
       "Name: count, dtype: int64"
      ]
     },
     "execution_count": 124,
     "metadata": {},
     "output_type": "execute_result"
    }
   ],
   "source": [
    "# find the unique value count of dataset column\n",
    "df['dataset'].value_counts()"
   ]
  },
  {
   "cell_type": "code",
   "execution_count": 125,
   "id": "232f31aa",
   "metadata": {},
   "outputs": [
    {
     "data": {
      "application/vnd.plotly.v1+json": {
       "config": {
        "plotlyServerURL": "https://plot.ly"
       },
       "data": [
        {
         "hovertemplate": "sex=Male<br>dataset=%{x}<br>count=%{y}<extra></extra>",
         "legendgroup": "Male",
         "marker": {
          "color": "#636efa",
          "pattern": {
           "shape": ""
          }
         },
         "name": "Male",
         "orientation": "v",
         "showlegend": true,
         "textposition": "auto",
         "type": "bar",
         "x": [
          "Cleveland",
          "Cleveland",
          "Cleveland",
          "Cleveland",
          "Cleveland",
          "Cleveland",
          "Cleveland",
          "Cleveland",
          "Cleveland",
          "Cleveland",
          "Cleveland",
          "Cleveland",
          "Cleveland",
          "Cleveland",
          "Cleveland",
          "Cleveland",
          "Cleveland",
          "Cleveland",
          "Cleveland",
          "Cleveland",
          "Cleveland",
          "Cleveland",
          "Cleveland",
          "Cleveland",
          "Cleveland",
          "Cleveland",
          "Cleveland",
          "Cleveland",
          "Cleveland",
          "Cleveland",
          "Cleveland",
          "Cleveland",
          "Cleveland",
          "Cleveland",
          "Cleveland",
          "Cleveland",
          "Cleveland",
          "Cleveland",
          "Cleveland",
          "Cleveland",
          "Cleveland",
          "Cleveland",
          "Cleveland",
          "Cleveland",
          "Cleveland",
          "Cleveland",
          "Cleveland",
          "Cleveland",
          "Cleveland",
          "Cleveland",
          "Cleveland",
          "Cleveland",
          "Cleveland",
          "Cleveland",
          "Cleveland",
          "Cleveland",
          "Cleveland",
          "Cleveland",
          "Cleveland",
          "Cleveland",
          "Cleveland",
          "Cleveland",
          "Cleveland",
          "Cleveland",
          "Cleveland",
          "Cleveland",
          "Cleveland",
          "Cleveland",
          "Cleveland",
          "Cleveland",
          "Cleveland",
          "Cleveland",
          "Cleveland",
          "Cleveland",
          "Cleveland",
          "Cleveland",
          "Cleveland",
          "Cleveland",
          "Cleveland",
          "Cleveland",
          "Cleveland",
          "Cleveland",
          "Cleveland",
          "Cleveland",
          "Cleveland",
          "Cleveland",
          "Cleveland",
          "Cleveland",
          "Cleveland",
          "Cleveland",
          "Cleveland",
          "Cleveland",
          "Cleveland",
          "Cleveland",
          "Cleveland",
          "Cleveland",
          "Cleveland",
          "Cleveland",
          "Cleveland",
          "Cleveland",
          "Cleveland",
          "Cleveland",
          "Cleveland",
          "Cleveland",
          "Cleveland",
          "Cleveland",
          "Cleveland",
          "Cleveland",
          "Cleveland",
          "Cleveland",
          "Cleveland",
          "Cleveland",
          "Cleveland",
          "Cleveland",
          "Cleveland",
          "Cleveland",
          "Cleveland",
          "Cleveland",
          "Cleveland",
          "Cleveland",
          "Cleveland",
          "Cleveland",
          "Cleveland",
          "Cleveland",
          "Cleveland",
          "Cleveland",
          "Cleveland",
          "Cleveland",
          "Cleveland",
          "Cleveland",
          "Cleveland",
          "Cleveland",
          "Cleveland",
          "Cleveland",
          "Cleveland",
          "Cleveland",
          "Cleveland",
          "Cleveland",
          "Cleveland",
          "Cleveland",
          "Cleveland",
          "Cleveland",
          "Cleveland",
          "Cleveland",
          "Cleveland",
          "Cleveland",
          "Cleveland",
          "Cleveland",
          "Cleveland",
          "Cleveland",
          "Cleveland",
          "Cleveland",
          "Cleveland",
          "Cleveland",
          "Cleveland",
          "Cleveland",
          "Cleveland",
          "Cleveland",
          "Cleveland",
          "Cleveland",
          "Cleveland",
          "Cleveland",
          "Cleveland",
          "Cleveland",
          "Cleveland",
          "Cleveland",
          "Cleveland",
          "Cleveland",
          "Cleveland",
          "Cleveland",
          "Cleveland",
          "Cleveland",
          "Cleveland",
          "Cleveland",
          "Cleveland",
          "Cleveland",
          "Cleveland",
          "Cleveland",
          "Cleveland",
          "Cleveland",
          "Cleveland",
          "Cleveland",
          "Cleveland",
          "Cleveland",
          "Cleveland",
          "Cleveland",
          "Cleveland",
          "Cleveland",
          "Cleveland",
          "Cleveland",
          "Cleveland",
          "Cleveland",
          "Cleveland",
          "Cleveland",
          "Cleveland",
          "Cleveland",
          "Cleveland",
          "Cleveland",
          "Cleveland",
          "Cleveland",
          "Cleveland",
          "Cleveland",
          "Cleveland",
          "Cleveland",
          "Cleveland",
          "Cleveland",
          "Cleveland",
          "Hungary",
          "Hungary",
          "Hungary",
          "Hungary",
          "Hungary",
          "Hungary",
          "Hungary",
          "Hungary",
          "Hungary",
          "Hungary",
          "Hungary",
          "Hungary",
          "Hungary",
          "Hungary",
          "Hungary",
          "Hungary",
          "Hungary",
          "Hungary",
          "Hungary",
          "Hungary",
          "Hungary",
          "Hungary",
          "Hungary",
          "Hungary",
          "Hungary",
          "Hungary",
          "Hungary",
          "Hungary",
          "Hungary",
          "Hungary",
          "Hungary",
          "Hungary",
          "Hungary",
          "Hungary",
          "Hungary",
          "Hungary",
          "Hungary",
          "Hungary",
          "Hungary",
          "Hungary",
          "Hungary",
          "Hungary",
          "Hungary",
          "Hungary",
          "Hungary",
          "Hungary",
          "Hungary",
          "Hungary",
          "Hungary",
          "Hungary",
          "Hungary",
          "Hungary",
          "Hungary",
          "Hungary",
          "Hungary",
          "Hungary",
          "Hungary",
          "Hungary",
          "Hungary",
          "Hungary",
          "Hungary",
          "Hungary",
          "Hungary",
          "Hungary",
          "Hungary",
          "Hungary",
          "Hungary",
          "Hungary",
          "Hungary",
          "Hungary",
          "Hungary",
          "Hungary",
          "Hungary",
          "Hungary",
          "Hungary",
          "Hungary",
          "Hungary",
          "Hungary",
          "Hungary",
          "Hungary",
          "Hungary",
          "Hungary",
          "Hungary",
          "Hungary",
          "Hungary",
          "Hungary",
          "Hungary",
          "Hungary",
          "Hungary",
          "Hungary",
          "Hungary",
          "Hungary",
          "Hungary",
          "Hungary",
          "Hungary",
          "Hungary",
          "Hungary",
          "Hungary",
          "Hungary",
          "Hungary",
          "Hungary",
          "Hungary",
          "Hungary",
          "Hungary",
          "Hungary",
          "Hungary",
          "Hungary",
          "Hungary",
          "Hungary",
          "Hungary",
          "Hungary",
          "Hungary",
          "Hungary",
          "Hungary",
          "Hungary",
          "Hungary",
          "Hungary",
          "Hungary",
          "Hungary",
          "Hungary",
          "Hungary",
          "Hungary",
          "Hungary",
          "Hungary",
          "Hungary",
          "Hungary",
          "Hungary",
          "Hungary",
          "Hungary",
          "Hungary",
          "Hungary",
          "Hungary",
          "Hungary",
          "Hungary",
          "Hungary",
          "Hungary",
          "Hungary",
          "Hungary",
          "Hungary",
          "Hungary",
          "Hungary",
          "Hungary",
          "Hungary",
          "Hungary",
          "Hungary",
          "Hungary",
          "Hungary",
          "Hungary",
          "Hungary",
          "Hungary",
          "Hungary",
          "Hungary",
          "Hungary",
          "Hungary",
          "Hungary",
          "Hungary",
          "Hungary",
          "Hungary",
          "Hungary",
          "Hungary",
          "Hungary",
          "Hungary",
          "Hungary",
          "Hungary",
          "Hungary",
          "Hungary",
          "Hungary",
          "Hungary",
          "Hungary",
          "Hungary",
          "Hungary",
          "Hungary",
          "Hungary",
          "Hungary",
          "Hungary",
          "Hungary",
          "Hungary",
          "Hungary",
          "Hungary",
          "Hungary",
          "Hungary",
          "Hungary",
          "Hungary",
          "Hungary",
          "Hungary",
          "Hungary",
          "Hungary",
          "Hungary",
          "Hungary",
          "Hungary",
          "Hungary",
          "Hungary",
          "Hungary",
          "Hungary",
          "Hungary",
          "Hungary",
          "Hungary",
          "Hungary",
          "Hungary",
          "Hungary",
          "Hungary",
          "Hungary",
          "Hungary",
          "Hungary",
          "Hungary",
          "Hungary",
          "Hungary",
          "Hungary",
          "Hungary",
          "Hungary",
          "Hungary",
          "Hungary",
          "Switzerland",
          "Switzerland",
          "Switzerland",
          "Switzerland",
          "Switzerland",
          "Switzerland",
          "Switzerland",
          "Switzerland",
          "Switzerland",
          "Switzerland",
          "Switzerland",
          "Switzerland",
          "Switzerland",
          "Switzerland",
          "Switzerland",
          "Switzerland",
          "Switzerland",
          "Switzerland",
          "Switzerland",
          "Switzerland",
          "Switzerland",
          "Switzerland",
          "Switzerland",
          "Switzerland",
          "Switzerland",
          "Switzerland",
          "Switzerland",
          "Switzerland",
          "Switzerland",
          "Switzerland",
          "Switzerland",
          "Switzerland",
          "Switzerland",
          "Switzerland",
          "Switzerland",
          "Switzerland",
          "Switzerland",
          "Switzerland",
          "Switzerland",
          "Switzerland",
          "Switzerland",
          "Switzerland",
          "Switzerland",
          "Switzerland",
          "Switzerland",
          "Switzerland",
          "Switzerland",
          "Switzerland",
          "Switzerland",
          "Switzerland",
          "Switzerland",
          "Switzerland",
          "Switzerland",
          "Switzerland",
          "Switzerland",
          "Switzerland",
          "Switzerland",
          "Switzerland",
          "Switzerland",
          "Switzerland",
          "Switzerland",
          "Switzerland",
          "Switzerland",
          "Switzerland",
          "Switzerland",
          "Switzerland",
          "Switzerland",
          "Switzerland",
          "Switzerland",
          "Switzerland",
          "Switzerland",
          "Switzerland",
          "Switzerland",
          "Switzerland",
          "Switzerland",
          "Switzerland",
          "Switzerland",
          "Switzerland",
          "Switzerland",
          "Switzerland",
          "Switzerland",
          "Switzerland",
          "Switzerland",
          "Switzerland",
          "Switzerland",
          "Switzerland",
          "Switzerland",
          "Switzerland",
          "Switzerland",
          "Switzerland",
          "Switzerland",
          "Switzerland",
          "Switzerland",
          "Switzerland",
          "Switzerland",
          "Switzerland",
          "Switzerland",
          "Switzerland",
          "Switzerland",
          "Switzerland",
          "Switzerland",
          "Switzerland",
          "Switzerland",
          "Switzerland",
          "Switzerland",
          "Switzerland",
          "Switzerland",
          "Switzerland",
          "Switzerland",
          "Switzerland",
          "Switzerland",
          "Switzerland",
          "Switzerland",
          "VA Long Beach",
          "VA Long Beach",
          "VA Long Beach",
          "VA Long Beach",
          "VA Long Beach",
          "VA Long Beach",
          "VA Long Beach",
          "VA Long Beach",
          "VA Long Beach",
          "VA Long Beach",
          "VA Long Beach",
          "VA Long Beach",
          "VA Long Beach",
          "VA Long Beach",
          "VA Long Beach",
          "VA Long Beach",
          "VA Long Beach",
          "VA Long Beach",
          "VA Long Beach",
          "VA Long Beach",
          "VA Long Beach",
          "VA Long Beach",
          "VA Long Beach",
          "VA Long Beach",
          "VA Long Beach",
          "VA Long Beach",
          "VA Long Beach",
          "VA Long Beach",
          "VA Long Beach",
          "VA Long Beach",
          "VA Long Beach",
          "VA Long Beach",
          "VA Long Beach",
          "VA Long Beach",
          "VA Long Beach",
          "VA Long Beach",
          "VA Long Beach",
          "VA Long Beach",
          "VA Long Beach",
          "VA Long Beach",
          "VA Long Beach",
          "VA Long Beach",
          "VA Long Beach",
          "VA Long Beach",
          "VA Long Beach",
          "VA Long Beach",
          "VA Long Beach",
          "VA Long Beach",
          "VA Long Beach",
          "VA Long Beach",
          "VA Long Beach",
          "VA Long Beach",
          "VA Long Beach",
          "VA Long Beach",
          "VA Long Beach",
          "VA Long Beach",
          "VA Long Beach",
          "VA Long Beach",
          "VA Long Beach",
          "VA Long Beach",
          "VA Long Beach",
          "VA Long Beach",
          "VA Long Beach",
          "VA Long Beach",
          "VA Long Beach",
          "VA Long Beach",
          "VA Long Beach",
          "VA Long Beach",
          "VA Long Beach",
          "VA Long Beach",
          "VA Long Beach",
          "VA Long Beach",
          "VA Long Beach",
          "VA Long Beach",
          "VA Long Beach",
          "VA Long Beach",
          "VA Long Beach",
          "VA Long Beach",
          "VA Long Beach",
          "VA Long Beach",
          "VA Long Beach",
          "VA Long Beach",
          "VA Long Beach",
          "VA Long Beach",
          "VA Long Beach",
          "VA Long Beach",
          "VA Long Beach",
          "VA Long Beach",
          "VA Long Beach",
          "VA Long Beach",
          "VA Long Beach",
          "VA Long Beach",
          "VA Long Beach",
          "VA Long Beach",
          "VA Long Beach",
          "VA Long Beach",
          "VA Long Beach",
          "VA Long Beach",
          "VA Long Beach",
          "VA Long Beach",
          "VA Long Beach",
          "VA Long Beach",
          "VA Long Beach",
          "VA Long Beach",
          "VA Long Beach",
          "VA Long Beach",
          "VA Long Beach",
          "VA Long Beach",
          "VA Long Beach",
          "VA Long Beach",
          "VA Long Beach",
          "VA Long Beach",
          "VA Long Beach",
          "VA Long Beach",
          "VA Long Beach",
          "VA Long Beach",
          "VA Long Beach",
          "VA Long Beach",
          "VA Long Beach",
          "VA Long Beach",
          "VA Long Beach",
          "VA Long Beach",
          "VA Long Beach",
          "VA Long Beach",
          "VA Long Beach",
          "VA Long Beach",
          "VA Long Beach",
          "VA Long Beach",
          "VA Long Beach",
          "VA Long Beach",
          "VA Long Beach",
          "VA Long Beach",
          "VA Long Beach",
          "VA Long Beach",
          "VA Long Beach",
          "VA Long Beach",
          "VA Long Beach",
          "VA Long Beach",
          "VA Long Beach",
          "VA Long Beach",
          "VA Long Beach",
          "VA Long Beach",
          "VA Long Beach",
          "VA Long Beach",
          "VA Long Beach",
          "VA Long Beach",
          "VA Long Beach",
          "VA Long Beach",
          "VA Long Beach",
          "VA Long Beach",
          "VA Long Beach",
          "VA Long Beach",
          "VA Long Beach",
          "VA Long Beach",
          "VA Long Beach",
          "VA Long Beach",
          "VA Long Beach",
          "VA Long Beach",
          "VA Long Beach",
          "VA Long Beach",
          "VA Long Beach",
          "VA Long Beach",
          "VA Long Beach",
          "VA Long Beach",
          "VA Long Beach",
          "VA Long Beach",
          "VA Long Beach",
          "VA Long Beach",
          "VA Long Beach",
          "VA Long Beach",
          "VA Long Beach",
          "VA Long Beach",
          "VA Long Beach",
          "VA Long Beach",
          "VA Long Beach",
          "VA Long Beach",
          "VA Long Beach",
          "VA Long Beach",
          "VA Long Beach",
          "VA Long Beach",
          "VA Long Beach",
          "VA Long Beach",
          "VA Long Beach",
          "VA Long Beach",
          "VA Long Beach",
          "VA Long Beach",
          "VA Long Beach",
          "VA Long Beach",
          "VA Long Beach",
          "VA Long Beach",
          "VA Long Beach",
          "VA Long Beach",
          "VA Long Beach",
          "VA Long Beach"
         ],
         "xaxis": "x",
         "y": {
          "bdata": "AQEBAQEBAQEBAQEBAQEBAQEBAQEBAQEBAQEBAQEBAQEBAQEBAQEBAQEBAQEBAQEBAQEBAQEBAQEBAQEBAQEBAQEBAQEBAQEBAQEBAQEBAQEBAQEBAQEBAQEBAQEBAQEBAQEBAQEBAQEBAQEBAQEBAQEBAQEBAQEBAQEBAQEBAQEBAQEBAQEBAQEBAQEBAQEBAQEBAQEBAQEBAQEBAQEBAQEBAQEBAQEBAQEBAQEBAQEBAQEBAQEBAQEBAQEBAQEBAQEBAQEBAQEBAQEBAQEBAQEBAQEBAQEBAQEBAQEBAQEBAQEBAQEBAQEBAQEBAQEBAQEBAQEBAQEBAQEBAQEBAQEBAQEBAQEBAQEBAQEBAQEBAQEBAQEBAQEBAQEBAQEBAQEBAQEBAQEBAQEBAQEBAQEBAQEBAQEBAQEBAQEBAQEBAQEBAQEBAQEBAQEBAQEBAQEBAQEBAQEBAQEBAQEBAQEBAQEBAQEBAQEBAQEBAQEBAQEBAQEBAQEBAQEBAQEBAQEBAQEBAQEBAQEBAQEBAQEBAQEBAQEBAQEBAQEBAQEBAQEBAQEBAQEBAQEBAQEBAQEBAQEBAQEBAQEBAQEBAQEBAQEBAQEBAQEBAQEBAQEBAQEBAQEBAQEBAQEBAQEBAQEBAQEBAQEBAQEBAQEBAQEBAQEBAQEBAQEBAQEBAQEBAQEBAQEBAQEBAQEBAQEBAQEBAQEBAQEBAQEBAQEBAQEBAQEBAQEBAQEBAQEBAQEBAQEBAQEBAQEBAQEBAQEBAQEBAQEBAQEBAQEBAQEBAQEBAQEBAQEBAQEBAQEBAQEBAQEBAQEBAQEBAQEBAQEBAQEBAQEBAQEBAQEBAQEBAQEBAQEBAQEBAQEBAQEBAQEBAQEBAQEBAQEBAQEBAQEBAQEBAQEBAQEBAQEBAQEBAQEBAQEBAQEBAQEBAQEBAQEBAQEBAQEBAQEBAQEBAQEBAQEBAQEB",
          "dtype": "i1"
         },
         "yaxis": "y"
        },
        {
         "hovertemplate": "sex=Female<br>dataset=%{x}<br>count=%{y}<extra></extra>",
         "legendgroup": "Female",
         "marker": {
          "color": "#EF553B",
          "pattern": {
           "shape": ""
          }
         },
         "name": "Female",
         "orientation": "v",
         "showlegend": true,
         "textposition": "auto",
         "type": "bar",
         "x": [
          "Cleveland",
          "Cleveland",
          "Cleveland",
          "Cleveland",
          "Cleveland",
          "Cleveland",
          "Cleveland",
          "Cleveland",
          "Cleveland",
          "Cleveland",
          "Cleveland",
          "Cleveland",
          "Cleveland",
          "Cleveland",
          "Cleveland",
          "Cleveland",
          "Cleveland",
          "Cleveland",
          "Cleveland",
          "Cleveland",
          "Cleveland",
          "Cleveland",
          "Cleveland",
          "Cleveland",
          "Cleveland",
          "Cleveland",
          "Cleveland",
          "Cleveland",
          "Cleveland",
          "Cleveland",
          "Cleveland",
          "Cleveland",
          "Cleveland",
          "Cleveland",
          "Cleveland",
          "Cleveland",
          "Cleveland",
          "Cleveland",
          "Cleveland",
          "Cleveland",
          "Cleveland",
          "Cleveland",
          "Cleveland",
          "Cleveland",
          "Cleveland",
          "Cleveland",
          "Cleveland",
          "Cleveland",
          "Cleveland",
          "Cleveland",
          "Cleveland",
          "Cleveland",
          "Cleveland",
          "Cleveland",
          "Cleveland",
          "Cleveland",
          "Cleveland",
          "Cleveland",
          "Cleveland",
          "Cleveland",
          "Cleveland",
          "Cleveland",
          "Cleveland",
          "Cleveland",
          "Cleveland",
          "Cleveland",
          "Cleveland",
          "Cleveland",
          "Cleveland",
          "Cleveland",
          "Cleveland",
          "Cleveland",
          "Cleveland",
          "Cleveland",
          "Cleveland",
          "Cleveland",
          "Cleveland",
          "Cleveland",
          "Cleveland",
          "Cleveland",
          "Cleveland",
          "Cleveland",
          "Cleveland",
          "Cleveland",
          "Cleveland",
          "Cleveland",
          "Cleveland",
          "Cleveland",
          "Cleveland",
          "Cleveland",
          "Cleveland",
          "Cleveland",
          "Cleveland",
          "Cleveland",
          "Cleveland",
          "Cleveland",
          "Cleveland",
          "Hungary",
          "Hungary",
          "Hungary",
          "Hungary",
          "Hungary",
          "Hungary",
          "Hungary",
          "Hungary",
          "Hungary",
          "Hungary",
          "Hungary",
          "Hungary",
          "Hungary",
          "Hungary",
          "Hungary",
          "Hungary",
          "Hungary",
          "Hungary",
          "Hungary",
          "Hungary",
          "Hungary",
          "Hungary",
          "Hungary",
          "Hungary",
          "Hungary",
          "Hungary",
          "Hungary",
          "Hungary",
          "Hungary",
          "Hungary",
          "Hungary",
          "Hungary",
          "Hungary",
          "Hungary",
          "Hungary",
          "Hungary",
          "Hungary",
          "Hungary",
          "Hungary",
          "Hungary",
          "Hungary",
          "Hungary",
          "Hungary",
          "Hungary",
          "Hungary",
          "Hungary",
          "Hungary",
          "Hungary",
          "Hungary",
          "Hungary",
          "Hungary",
          "Hungary",
          "Hungary",
          "Hungary",
          "Hungary",
          "Hungary",
          "Hungary",
          "Hungary",
          "Hungary",
          "Hungary",
          "Hungary",
          "Hungary",
          "Hungary",
          "Hungary",
          "Hungary",
          "Hungary",
          "Hungary",
          "Hungary",
          "Hungary",
          "Hungary",
          "Hungary",
          "Hungary",
          "Hungary",
          "Hungary",
          "Hungary",
          "Hungary",
          "Hungary",
          "Hungary",
          "Hungary",
          "Hungary",
          "Hungary",
          "Switzerland",
          "Switzerland",
          "Switzerland",
          "Switzerland",
          "Switzerland",
          "Switzerland",
          "Switzerland",
          "Switzerland",
          "Switzerland",
          "Switzerland",
          "VA Long Beach",
          "VA Long Beach",
          "VA Long Beach",
          "VA Long Beach",
          "VA Long Beach",
          "VA Long Beach"
         ],
         "xaxis": "x",
         "y": {
          "bdata": "AQEBAQEBAQEBAQEBAQEBAQEBAQEBAQEBAQEBAQEBAQEBAQEBAQEBAQEBAQEBAQEBAQEBAQEBAQEBAQEBAQEBAQEBAQEBAQEBAQEBAQEBAQEBAQEBAQEBAQEBAQEBAQEBAQEBAQEBAQEBAQEBAQEBAQEBAQEBAQEBAQEBAQEBAQEBAQEBAQEBAQEBAQEBAQEBAQEBAQEBAQEBAQEBAQEBAQEBAQEBAQEBAQEBAQEBAQEBAQEBAQEBAQEBAQEBAQEBAQE=",
          "dtype": "i1"
         },
         "yaxis": "y"
        }
       ],
       "layout": {
        "barmode": "relative",
        "legend": {
         "title": {
          "text": "sex"
         },
         "tracegroupgap": 0
        },
        "margin": {
         "t": 60
        },
        "template": {
         "data": {
          "bar": [
           {
            "error_x": {
             "color": "#2a3f5f"
            },
            "error_y": {
             "color": "#2a3f5f"
            },
            "marker": {
             "line": {
              "color": "#E5ECF6",
              "width": 0.5
             },
             "pattern": {
              "fillmode": "overlay",
              "size": 10,
              "solidity": 0.2
             }
            },
            "type": "bar"
           }
          ],
          "barpolar": [
           {
            "marker": {
             "line": {
              "color": "#E5ECF6",
              "width": 0.5
             },
             "pattern": {
              "fillmode": "overlay",
              "size": 10,
              "solidity": 0.2
             }
            },
            "type": "barpolar"
           }
          ],
          "carpet": [
           {
            "aaxis": {
             "endlinecolor": "#2a3f5f",
             "gridcolor": "white",
             "linecolor": "white",
             "minorgridcolor": "white",
             "startlinecolor": "#2a3f5f"
            },
            "baxis": {
             "endlinecolor": "#2a3f5f",
             "gridcolor": "white",
             "linecolor": "white",
             "minorgridcolor": "white",
             "startlinecolor": "#2a3f5f"
            },
            "type": "carpet"
           }
          ],
          "choropleth": [
           {
            "colorbar": {
             "outlinewidth": 0,
             "ticks": ""
            },
            "type": "choropleth"
           }
          ],
          "contour": [
           {
            "colorbar": {
             "outlinewidth": 0,
             "ticks": ""
            },
            "colorscale": [
             [
              0,
              "#0d0887"
             ],
             [
              0.1111111111111111,
              "#46039f"
             ],
             [
              0.2222222222222222,
              "#7201a8"
             ],
             [
              0.3333333333333333,
              "#9c179e"
             ],
             [
              0.4444444444444444,
              "#bd3786"
             ],
             [
              0.5555555555555556,
              "#d8576b"
             ],
             [
              0.6666666666666666,
              "#ed7953"
             ],
             [
              0.7777777777777778,
              "#fb9f3a"
             ],
             [
              0.8888888888888888,
              "#fdca26"
             ],
             [
              1,
              "#f0f921"
             ]
            ],
            "type": "contour"
           }
          ],
          "contourcarpet": [
           {
            "colorbar": {
             "outlinewidth": 0,
             "ticks": ""
            },
            "type": "contourcarpet"
           }
          ],
          "heatmap": [
           {
            "colorbar": {
             "outlinewidth": 0,
             "ticks": ""
            },
            "colorscale": [
             [
              0,
              "#0d0887"
             ],
             [
              0.1111111111111111,
              "#46039f"
             ],
             [
              0.2222222222222222,
              "#7201a8"
             ],
             [
              0.3333333333333333,
              "#9c179e"
             ],
             [
              0.4444444444444444,
              "#bd3786"
             ],
             [
              0.5555555555555556,
              "#d8576b"
             ],
             [
              0.6666666666666666,
              "#ed7953"
             ],
             [
              0.7777777777777778,
              "#fb9f3a"
             ],
             [
              0.8888888888888888,
              "#fdca26"
             ],
             [
              1,
              "#f0f921"
             ]
            ],
            "type": "heatmap"
           }
          ],
          "histogram": [
           {
            "marker": {
             "pattern": {
              "fillmode": "overlay",
              "size": 10,
              "solidity": 0.2
             }
            },
            "type": "histogram"
           }
          ],
          "histogram2d": [
           {
            "colorbar": {
             "outlinewidth": 0,
             "ticks": ""
            },
            "colorscale": [
             [
              0,
              "#0d0887"
             ],
             [
              0.1111111111111111,
              "#46039f"
             ],
             [
              0.2222222222222222,
              "#7201a8"
             ],
             [
              0.3333333333333333,
              "#9c179e"
             ],
             [
              0.4444444444444444,
              "#bd3786"
             ],
             [
              0.5555555555555556,
              "#d8576b"
             ],
             [
              0.6666666666666666,
              "#ed7953"
             ],
             [
              0.7777777777777778,
              "#fb9f3a"
             ],
             [
              0.8888888888888888,
              "#fdca26"
             ],
             [
              1,
              "#f0f921"
             ]
            ],
            "type": "histogram2d"
           }
          ],
          "histogram2dcontour": [
           {
            "colorbar": {
             "outlinewidth": 0,
             "ticks": ""
            },
            "colorscale": [
             [
              0,
              "#0d0887"
             ],
             [
              0.1111111111111111,
              "#46039f"
             ],
             [
              0.2222222222222222,
              "#7201a8"
             ],
             [
              0.3333333333333333,
              "#9c179e"
             ],
             [
              0.4444444444444444,
              "#bd3786"
             ],
             [
              0.5555555555555556,
              "#d8576b"
             ],
             [
              0.6666666666666666,
              "#ed7953"
             ],
             [
              0.7777777777777778,
              "#fb9f3a"
             ],
             [
              0.8888888888888888,
              "#fdca26"
             ],
             [
              1,
              "#f0f921"
             ]
            ],
            "type": "histogram2dcontour"
           }
          ],
          "mesh3d": [
           {
            "colorbar": {
             "outlinewidth": 0,
             "ticks": ""
            },
            "type": "mesh3d"
           }
          ],
          "parcoords": [
           {
            "line": {
             "colorbar": {
              "outlinewidth": 0,
              "ticks": ""
             }
            },
            "type": "parcoords"
           }
          ],
          "pie": [
           {
            "automargin": true,
            "type": "pie"
           }
          ],
          "scatter": [
           {
            "fillpattern": {
             "fillmode": "overlay",
             "size": 10,
             "solidity": 0.2
            },
            "type": "scatter"
           }
          ],
          "scatter3d": [
           {
            "line": {
             "colorbar": {
              "outlinewidth": 0,
              "ticks": ""
             }
            },
            "marker": {
             "colorbar": {
              "outlinewidth": 0,
              "ticks": ""
             }
            },
            "type": "scatter3d"
           }
          ],
          "scattercarpet": [
           {
            "marker": {
             "colorbar": {
              "outlinewidth": 0,
              "ticks": ""
             }
            },
            "type": "scattercarpet"
           }
          ],
          "scattergeo": [
           {
            "marker": {
             "colorbar": {
              "outlinewidth": 0,
              "ticks": ""
             }
            },
            "type": "scattergeo"
           }
          ],
          "scattergl": [
           {
            "marker": {
             "colorbar": {
              "outlinewidth": 0,
              "ticks": ""
             }
            },
            "type": "scattergl"
           }
          ],
          "scattermap": [
           {
            "marker": {
             "colorbar": {
              "outlinewidth": 0,
              "ticks": ""
             }
            },
            "type": "scattermap"
           }
          ],
          "scattermapbox": [
           {
            "marker": {
             "colorbar": {
              "outlinewidth": 0,
              "ticks": ""
             }
            },
            "type": "scattermapbox"
           }
          ],
          "scatterpolar": [
           {
            "marker": {
             "colorbar": {
              "outlinewidth": 0,
              "ticks": ""
             }
            },
            "type": "scatterpolar"
           }
          ],
          "scatterpolargl": [
           {
            "marker": {
             "colorbar": {
              "outlinewidth": 0,
              "ticks": ""
             }
            },
            "type": "scatterpolargl"
           }
          ],
          "scatterternary": [
           {
            "marker": {
             "colorbar": {
              "outlinewidth": 0,
              "ticks": ""
             }
            },
            "type": "scatterternary"
           }
          ],
          "surface": [
           {
            "colorbar": {
             "outlinewidth": 0,
             "ticks": ""
            },
            "colorscale": [
             [
              0,
              "#0d0887"
             ],
             [
              0.1111111111111111,
              "#46039f"
             ],
             [
              0.2222222222222222,
              "#7201a8"
             ],
             [
              0.3333333333333333,
              "#9c179e"
             ],
             [
              0.4444444444444444,
              "#bd3786"
             ],
             [
              0.5555555555555556,
              "#d8576b"
             ],
             [
              0.6666666666666666,
              "#ed7953"
             ],
             [
              0.7777777777777778,
              "#fb9f3a"
             ],
             [
              0.8888888888888888,
              "#fdca26"
             ],
             [
              1,
              "#f0f921"
             ]
            ],
            "type": "surface"
           }
          ],
          "table": [
           {
            "cells": {
             "fill": {
              "color": "#EBF0F8"
             },
             "line": {
              "color": "white"
             }
            },
            "header": {
             "fill": {
              "color": "#C8D4E3"
             },
             "line": {
              "color": "white"
             }
            },
            "type": "table"
           }
          ]
         },
         "layout": {
          "annotationdefaults": {
           "arrowcolor": "#2a3f5f",
           "arrowhead": 0,
           "arrowwidth": 1
          },
          "autotypenumbers": "strict",
          "coloraxis": {
           "colorbar": {
            "outlinewidth": 0,
            "ticks": ""
           }
          },
          "colorscale": {
           "diverging": [
            [
             0,
             "#8e0152"
            ],
            [
             0.1,
             "#c51b7d"
            ],
            [
             0.2,
             "#de77ae"
            ],
            [
             0.3,
             "#f1b6da"
            ],
            [
             0.4,
             "#fde0ef"
            ],
            [
             0.5,
             "#f7f7f7"
            ],
            [
             0.6,
             "#e6f5d0"
            ],
            [
             0.7,
             "#b8e186"
            ],
            [
             0.8,
             "#7fbc41"
            ],
            [
             0.9,
             "#4d9221"
            ],
            [
             1,
             "#276419"
            ]
           ],
           "sequential": [
            [
             0,
             "#0d0887"
            ],
            [
             0.1111111111111111,
             "#46039f"
            ],
            [
             0.2222222222222222,
             "#7201a8"
            ],
            [
             0.3333333333333333,
             "#9c179e"
            ],
            [
             0.4444444444444444,
             "#bd3786"
            ],
            [
             0.5555555555555556,
             "#d8576b"
            ],
            [
             0.6666666666666666,
             "#ed7953"
            ],
            [
             0.7777777777777778,
             "#fb9f3a"
            ],
            [
             0.8888888888888888,
             "#fdca26"
            ],
            [
             1,
             "#f0f921"
            ]
           ],
           "sequentialminus": [
            [
             0,
             "#0d0887"
            ],
            [
             0.1111111111111111,
             "#46039f"
            ],
            [
             0.2222222222222222,
             "#7201a8"
            ],
            [
             0.3333333333333333,
             "#9c179e"
            ],
            [
             0.4444444444444444,
             "#bd3786"
            ],
            [
             0.5555555555555556,
             "#d8576b"
            ],
            [
             0.6666666666666666,
             "#ed7953"
            ],
            [
             0.7777777777777778,
             "#fb9f3a"
            ],
            [
             0.8888888888888888,
             "#fdca26"
            ],
            [
             1,
             "#f0f921"
            ]
           ]
          },
          "colorway": [
           "#636efa",
           "#EF553B",
           "#00cc96",
           "#ab63fa",
           "#FFA15A",
           "#19d3f3",
           "#FF6692",
           "#B6E880",
           "#FF97FF",
           "#FECB52"
          ],
          "font": {
           "color": "#2a3f5f"
          },
          "geo": {
           "bgcolor": "white",
           "lakecolor": "white",
           "landcolor": "#E5ECF6",
           "showlakes": true,
           "showland": true,
           "subunitcolor": "white"
          },
          "hoverlabel": {
           "align": "left"
          },
          "hovermode": "closest",
          "mapbox": {
           "style": "light"
          },
          "paper_bgcolor": "white",
          "plot_bgcolor": "#E5ECF6",
          "polar": {
           "angularaxis": {
            "gridcolor": "white",
            "linecolor": "white",
            "ticks": ""
           },
           "bgcolor": "#E5ECF6",
           "radialaxis": {
            "gridcolor": "white",
            "linecolor": "white",
            "ticks": ""
           }
          },
          "scene": {
           "xaxis": {
            "backgroundcolor": "#E5ECF6",
            "gridcolor": "white",
            "gridwidth": 2,
            "linecolor": "white",
            "showbackground": true,
            "ticks": "",
            "zerolinecolor": "white"
           },
           "yaxis": {
            "backgroundcolor": "#E5ECF6",
            "gridcolor": "white",
            "gridwidth": 2,
            "linecolor": "white",
            "showbackground": true,
            "ticks": "",
            "zerolinecolor": "white"
           },
           "zaxis": {
            "backgroundcolor": "#E5ECF6",
            "gridcolor": "white",
            "gridwidth": 2,
            "linecolor": "white",
            "showbackground": true,
            "ticks": "",
            "zerolinecolor": "white"
           }
          },
          "shapedefaults": {
           "line": {
            "color": "#2a3f5f"
           }
          },
          "ternary": {
           "aaxis": {
            "gridcolor": "white",
            "linecolor": "white",
            "ticks": ""
           },
           "baxis": {
            "gridcolor": "white",
            "linecolor": "white",
            "ticks": ""
           },
           "bgcolor": "#E5ECF6",
           "caxis": {
            "gridcolor": "white",
            "linecolor": "white",
            "ticks": ""
           }
          },
          "title": {
           "x": 0.05
          },
          "xaxis": {
           "automargin": true,
           "gridcolor": "white",
           "linecolor": "white",
           "ticks": "",
           "title": {
            "standoff": 15
           },
           "zerolinecolor": "white",
           "zerolinewidth": 2
          },
          "yaxis": {
           "automargin": true,
           "gridcolor": "white",
           "linecolor": "white",
           "ticks": "",
           "title": {
            "standoff": 15
           },
           "zerolinecolor": "white",
           "zerolinewidth": 2
          }
         }
        },
        "xaxis": {
         "anchor": "y",
         "domain": [
          0,
          1
         ],
         "title": {
          "text": "dataset"
         }
        },
        "yaxis": {
         "anchor": "x",
         "domain": [
          0,
          1
         ],
         "title": {
          "text": "count"
         }
        }
       }
      }
     },
     "metadata": {},
     "output_type": "display_data"
    },
    {
     "data": {
      "text/plain": [
       "sex     dataset      \n",
       "Female  Cleveland         97\n",
       "        Hungary           81\n",
       "        Switzerland       10\n",
       "        VA Long Beach      6\n",
       "Male    Hungary          212\n",
       "        Cleveland        207\n",
       "        VA Long Beach    194\n",
       "        Switzerland      113\n",
       "Name: count, dtype: int64"
      ]
     },
     "execution_count": 125,
     "metadata": {},
     "output_type": "execute_result"
    }
   ],
   "source": [
    "# plot the count plot of dataset column\n",
    "#sns.countplot(data=df, x='dataset', hue='sex')\n",
    "\n",
    "# Better results with plotly\n",
    "# using plotly to make the same plot\n",
    "fig = px.bar(df, x='dataset', color='sex')\n",
    "fig.show()\n",
    "\n",
    "# get the value count of male and female in each dataset\n",
    "df.groupby('sex')['dataset'].value_counts()"
   ]
  },
  {
   "cell_type": "code",
   "execution_count": 126,
   "id": "b7ca5f3a",
   "metadata": {},
   "outputs": [
    {
     "data": {
      "application/vnd.plotly.v1+json": {
       "config": {
        "plotlyServerURL": "https://plot.ly"
       },
       "data": [
        {
         "bingroup": "x",
         "hovertemplate": "dataset=Cleveland<br>age=%{x}<br>count=%{y}<extra></extra>",
         "legendgroup": "Cleveland",
         "marker": {
          "color": "#636efa",
          "pattern": {
           "shape": ""
          }
         },
         "name": "Cleveland",
         "nbinsx": 30,
         "orientation": "v",
         "showlegend": true,
         "type": "histogram",
         "x": {
          "bdata": "P0NDJSk4Pjk/NTk4OCw0OTA2MDFAOjo6PDI6QisoRTxAOywqKzk3PUEoRzs9OjMyQTUpQSwsPDYyKTYzMy46NjY8PDY7LkFDPkEsQTwzMDotNSdENCwvNTUzQj4+LD80Ozw0MC0iOUcxNjs5PSc9ODQrPik6Iz9BMD8zN0EtODYsPjYzHTMrN0Y+IzM7OzRAOi85KS08NCpDN0BGMzo8RC5NNjowOTQ2Iy1GNTs+QDk0OCs1MDgqOzw/KkI2RTIzKz5EQ0UtMjsyQDlAKy06Mjc+JSYpQjQ4Li5AOyk2JzU/Ii9DNkI0NzFKNjY4LjEqKSkxPTxDOi80Pjk6QDMrKkNMRjksOjwsPSo0OygqPUIuRztAQic5OjkvNyM9Ojo6ODhDNyw/Pyk7OS1EOTkmHA==",
          "dtype": "i1"
         },
         "xaxis": "x",
         "yaxis": "y"
        },
        {
         "bingroup": "x",
         "hovertemplate": "dataset=Hungary<br>age=%{x}<br>count=%{y}<extra></extra>",
         "legendgroup": "Hungary",
         "marker": {
          "color": "#EF553B",
          "pattern": {
           "shape": ""
          }
         },
         "name": "Hungary",
         "nbinsx": 30,
         "orientation": "v",
         "showlegend": true,
         "type": "histogram",
         "x": {
          "bdata": "HR0eHyAgICEiIiIjIyMjJCQkJCUlJSUlJSUmJiYnJycnJycnJycnKCgoKCgpKSkpKSkpKioqKioqKisrKysrKysrLCwsLC0tLS0tLS0uLi4uLi4uLy8vLy8wMDAwMDAwMDAwMDExMTExMTExMjIyMjIyMjMzMzMzMzM0NDQ0NDQ0NDU1NTU1NTU1NTY2NjY2NjY2NjY2NjY2NjY3Nzc3Nzc3Nzc3ODg4ODg5OTk6Ojo6Ozs7Ozs8PT0+Ph8hIiMkJSYmJigpKSsuLi4vLzAwMDExMTIyMzQ2Njc5Ojs8P0EgJicoKy0uLjAwMDAyNDQ1NjY2NjY3ODk6OikrLCwuLzAxMTM0NDQ0NTU2Nzc3ODg4Ojs7QUIpKywvLzExMjI0NDY4OkE=",
          "dtype": "i1"
         },
         "xaxis": "x",
         "yaxis": "y"
        },
        {
         "bingroup": "x",
         "hovertemplate": "dataset=Switzerland<br>age=%{x}<br>count=%{y}<extra></extra>",
         "legendgroup": "Switzerland",
         "marker": {
          "color": "#00cc96",
          "pattern": {
           "shape": ""
          }
         },
         "name": "Switzerland",
         "nbinsx": 30,
         "orientation": "v",
         "showlegend": true,
         "type": "histogram",
         "x": {
          "bdata": "ICIjJCYmJiYmJigpKiorKystLi4vLy8vMDIyMjIzMzMzMzMzNDQ0NDU1NTU1NTU1NjY2Nzc3Nzg4ODg4ODg4OTk5OTk5Ojo6Ozs7Ozs8PDw8PDw9PT09PT09PT0+Pj4+Pj4+Pz8/Pz9AQEBBQUFBQkJDRERFRUZGSElK",
          "dtype": "i1"
         },
         "xaxis": "x",
         "yaxis": "y"
        },
        {
         "bingroup": "x",
         "hovertemplate": "dataset=VA Long Beach<br>age=%{x}<br>count=%{y}<extra></extra>",
         "legendgroup": "VA Long Beach",
         "marker": {
          "color": "#ab63fa",
          "pattern": {
           "shape": ""
          }
         },
         "name": "VA Long Beach",
         "nbinsx": 30,
         "orientation": "v",
         "showlegend": true,
         "type": "histogram",
         "x": {
          "bdata": "Pyw8N0JCQTw8PDg7Pj85Pj8uPzw6QD9KNEUzPDg3Nk0/NzRAPDw6Oz0oPSk5PzszOyo3Pz44NUQ1PD47Mz05ODpFQzpBPzc5QTZISzEzPEA6PUM+QT9FMz43SyhDOjw/Iz4rP0RBMD9APTI7Ny1BPTFIMkA3Pzs4Pko2OT5MNkY9MDA9QkQ3PkdKNTpLODpANjY7Nzk9KUcmNzhFQEhFOD5DOUUzMEVFQDk1JUNKPzo9QDo8OTc3ODk9PTpKRDM+NT4uNj43Oj4=",
          "dtype": "i1"
         },
         "xaxis": "x",
         "yaxis": "y"
        }
       ],
       "layout": {
        "barmode": "relative",
        "legend": {
         "title": {
          "text": "dataset"
         },
         "tracegroupgap": 0
        },
        "template": {
         "data": {
          "bar": [
           {
            "error_x": {
             "color": "#2a3f5f"
            },
            "error_y": {
             "color": "#2a3f5f"
            },
            "marker": {
             "line": {
              "color": "#E5ECF6",
              "width": 0.5
             },
             "pattern": {
              "fillmode": "overlay",
              "size": 10,
              "solidity": 0.2
             }
            },
            "type": "bar"
           }
          ],
          "barpolar": [
           {
            "marker": {
             "line": {
              "color": "#E5ECF6",
              "width": 0.5
             },
             "pattern": {
              "fillmode": "overlay",
              "size": 10,
              "solidity": 0.2
             }
            },
            "type": "barpolar"
           }
          ],
          "carpet": [
           {
            "aaxis": {
             "endlinecolor": "#2a3f5f",
             "gridcolor": "white",
             "linecolor": "white",
             "minorgridcolor": "white",
             "startlinecolor": "#2a3f5f"
            },
            "baxis": {
             "endlinecolor": "#2a3f5f",
             "gridcolor": "white",
             "linecolor": "white",
             "minorgridcolor": "white",
             "startlinecolor": "#2a3f5f"
            },
            "type": "carpet"
           }
          ],
          "choropleth": [
           {
            "colorbar": {
             "outlinewidth": 0,
             "ticks": ""
            },
            "type": "choropleth"
           }
          ],
          "contour": [
           {
            "colorbar": {
             "outlinewidth": 0,
             "ticks": ""
            },
            "colorscale": [
             [
              0,
              "#0d0887"
             ],
             [
              0.1111111111111111,
              "#46039f"
             ],
             [
              0.2222222222222222,
              "#7201a8"
             ],
             [
              0.3333333333333333,
              "#9c179e"
             ],
             [
              0.4444444444444444,
              "#bd3786"
             ],
             [
              0.5555555555555556,
              "#d8576b"
             ],
             [
              0.6666666666666666,
              "#ed7953"
             ],
             [
              0.7777777777777778,
              "#fb9f3a"
             ],
             [
              0.8888888888888888,
              "#fdca26"
             ],
             [
              1,
              "#f0f921"
             ]
            ],
            "type": "contour"
           }
          ],
          "contourcarpet": [
           {
            "colorbar": {
             "outlinewidth": 0,
             "ticks": ""
            },
            "type": "contourcarpet"
           }
          ],
          "heatmap": [
           {
            "colorbar": {
             "outlinewidth": 0,
             "ticks": ""
            },
            "colorscale": [
             [
              0,
              "#0d0887"
             ],
             [
              0.1111111111111111,
              "#46039f"
             ],
             [
              0.2222222222222222,
              "#7201a8"
             ],
             [
              0.3333333333333333,
              "#9c179e"
             ],
             [
              0.4444444444444444,
              "#bd3786"
             ],
             [
              0.5555555555555556,
              "#d8576b"
             ],
             [
              0.6666666666666666,
              "#ed7953"
             ],
             [
              0.7777777777777778,
              "#fb9f3a"
             ],
             [
              0.8888888888888888,
              "#fdca26"
             ],
             [
              1,
              "#f0f921"
             ]
            ],
            "type": "heatmap"
           }
          ],
          "histogram": [
           {
            "marker": {
             "pattern": {
              "fillmode": "overlay",
              "size": 10,
              "solidity": 0.2
             }
            },
            "type": "histogram"
           }
          ],
          "histogram2d": [
           {
            "colorbar": {
             "outlinewidth": 0,
             "ticks": ""
            },
            "colorscale": [
             [
              0,
              "#0d0887"
             ],
             [
              0.1111111111111111,
              "#46039f"
             ],
             [
              0.2222222222222222,
              "#7201a8"
             ],
             [
              0.3333333333333333,
              "#9c179e"
             ],
             [
              0.4444444444444444,
              "#bd3786"
             ],
             [
              0.5555555555555556,
              "#d8576b"
             ],
             [
              0.6666666666666666,
              "#ed7953"
             ],
             [
              0.7777777777777778,
              "#fb9f3a"
             ],
             [
              0.8888888888888888,
              "#fdca26"
             ],
             [
              1,
              "#f0f921"
             ]
            ],
            "type": "histogram2d"
           }
          ],
          "histogram2dcontour": [
           {
            "colorbar": {
             "outlinewidth": 0,
             "ticks": ""
            },
            "colorscale": [
             [
              0,
              "#0d0887"
             ],
             [
              0.1111111111111111,
              "#46039f"
             ],
             [
              0.2222222222222222,
              "#7201a8"
             ],
             [
              0.3333333333333333,
              "#9c179e"
             ],
             [
              0.4444444444444444,
              "#bd3786"
             ],
             [
              0.5555555555555556,
              "#d8576b"
             ],
             [
              0.6666666666666666,
              "#ed7953"
             ],
             [
              0.7777777777777778,
              "#fb9f3a"
             ],
             [
              0.8888888888888888,
              "#fdca26"
             ],
             [
              1,
              "#f0f921"
             ]
            ],
            "type": "histogram2dcontour"
           }
          ],
          "mesh3d": [
           {
            "colorbar": {
             "outlinewidth": 0,
             "ticks": ""
            },
            "type": "mesh3d"
           }
          ],
          "parcoords": [
           {
            "line": {
             "colorbar": {
              "outlinewidth": 0,
              "ticks": ""
             }
            },
            "type": "parcoords"
           }
          ],
          "pie": [
           {
            "automargin": true,
            "type": "pie"
           }
          ],
          "scatter": [
           {
            "fillpattern": {
             "fillmode": "overlay",
             "size": 10,
             "solidity": 0.2
            },
            "type": "scatter"
           }
          ],
          "scatter3d": [
           {
            "line": {
             "colorbar": {
              "outlinewidth": 0,
              "ticks": ""
             }
            },
            "marker": {
             "colorbar": {
              "outlinewidth": 0,
              "ticks": ""
             }
            },
            "type": "scatter3d"
           }
          ],
          "scattercarpet": [
           {
            "marker": {
             "colorbar": {
              "outlinewidth": 0,
              "ticks": ""
             }
            },
            "type": "scattercarpet"
           }
          ],
          "scattergeo": [
           {
            "marker": {
             "colorbar": {
              "outlinewidth": 0,
              "ticks": ""
             }
            },
            "type": "scattergeo"
           }
          ],
          "scattergl": [
           {
            "marker": {
             "colorbar": {
              "outlinewidth": 0,
              "ticks": ""
             }
            },
            "type": "scattergl"
           }
          ],
          "scattermap": [
           {
            "marker": {
             "colorbar": {
              "outlinewidth": 0,
              "ticks": ""
             }
            },
            "type": "scattermap"
           }
          ],
          "scattermapbox": [
           {
            "marker": {
             "colorbar": {
              "outlinewidth": 0,
              "ticks": ""
             }
            },
            "type": "scattermapbox"
           }
          ],
          "scatterpolar": [
           {
            "marker": {
             "colorbar": {
              "outlinewidth": 0,
              "ticks": ""
             }
            },
            "type": "scatterpolar"
           }
          ],
          "scatterpolargl": [
           {
            "marker": {
             "colorbar": {
              "outlinewidth": 0,
              "ticks": ""
             }
            },
            "type": "scatterpolargl"
           }
          ],
          "scatterternary": [
           {
            "marker": {
             "colorbar": {
              "outlinewidth": 0,
              "ticks": ""
             }
            },
            "type": "scatterternary"
           }
          ],
          "surface": [
           {
            "colorbar": {
             "outlinewidth": 0,
             "ticks": ""
            },
            "colorscale": [
             [
              0,
              "#0d0887"
             ],
             [
              0.1111111111111111,
              "#46039f"
             ],
             [
              0.2222222222222222,
              "#7201a8"
             ],
             [
              0.3333333333333333,
              "#9c179e"
             ],
             [
              0.4444444444444444,
              "#bd3786"
             ],
             [
              0.5555555555555556,
              "#d8576b"
             ],
             [
              0.6666666666666666,
              "#ed7953"
             ],
             [
              0.7777777777777778,
              "#fb9f3a"
             ],
             [
              0.8888888888888888,
              "#fdca26"
             ],
             [
              1,
              "#f0f921"
             ]
            ],
            "type": "surface"
           }
          ],
          "table": [
           {
            "cells": {
             "fill": {
              "color": "#EBF0F8"
             },
             "line": {
              "color": "white"
             }
            },
            "header": {
             "fill": {
              "color": "#C8D4E3"
             },
             "line": {
              "color": "white"
             }
            },
            "type": "table"
           }
          ]
         },
         "layout": {
          "annotationdefaults": {
           "arrowcolor": "#2a3f5f",
           "arrowhead": 0,
           "arrowwidth": 1
          },
          "autotypenumbers": "strict",
          "coloraxis": {
           "colorbar": {
            "outlinewidth": 0,
            "ticks": ""
           }
          },
          "colorscale": {
           "diverging": [
            [
             0,
             "#8e0152"
            ],
            [
             0.1,
             "#c51b7d"
            ],
            [
             0.2,
             "#de77ae"
            ],
            [
             0.3,
             "#f1b6da"
            ],
            [
             0.4,
             "#fde0ef"
            ],
            [
             0.5,
             "#f7f7f7"
            ],
            [
             0.6,
             "#e6f5d0"
            ],
            [
             0.7,
             "#b8e186"
            ],
            [
             0.8,
             "#7fbc41"
            ],
            [
             0.9,
             "#4d9221"
            ],
            [
             1,
             "#276419"
            ]
           ],
           "sequential": [
            [
             0,
             "#0d0887"
            ],
            [
             0.1111111111111111,
             "#46039f"
            ],
            [
             0.2222222222222222,
             "#7201a8"
            ],
            [
             0.3333333333333333,
             "#9c179e"
            ],
            [
             0.4444444444444444,
             "#bd3786"
            ],
            [
             0.5555555555555556,
             "#d8576b"
            ],
            [
             0.6666666666666666,
             "#ed7953"
            ],
            [
             0.7777777777777778,
             "#fb9f3a"
            ],
            [
             0.8888888888888888,
             "#fdca26"
            ],
            [
             1,
             "#f0f921"
            ]
           ],
           "sequentialminus": [
            [
             0,
             "#0d0887"
            ],
            [
             0.1111111111111111,
             "#46039f"
            ],
            [
             0.2222222222222222,
             "#7201a8"
            ],
            [
             0.3333333333333333,
             "#9c179e"
            ],
            [
             0.4444444444444444,
             "#bd3786"
            ],
            [
             0.5555555555555556,
             "#d8576b"
            ],
            [
             0.6666666666666666,
             "#ed7953"
            ],
            [
             0.7777777777777778,
             "#fb9f3a"
            ],
            [
             0.8888888888888888,
             "#fdca26"
            ],
            [
             1,
             "#f0f921"
            ]
           ]
          },
          "colorway": [
           "#636efa",
           "#EF553B",
           "#00cc96",
           "#ab63fa",
           "#FFA15A",
           "#19d3f3",
           "#FF6692",
           "#B6E880",
           "#FF97FF",
           "#FECB52"
          ],
          "font": {
           "color": "#2a3f5f"
          },
          "geo": {
           "bgcolor": "white",
           "lakecolor": "white",
           "landcolor": "#E5ECF6",
           "showlakes": true,
           "showland": true,
           "subunitcolor": "white"
          },
          "hoverlabel": {
           "align": "left"
          },
          "hovermode": "closest",
          "mapbox": {
           "style": "light"
          },
          "paper_bgcolor": "white",
          "plot_bgcolor": "#E5ECF6",
          "polar": {
           "angularaxis": {
            "gridcolor": "white",
            "linecolor": "white",
            "ticks": ""
           },
           "bgcolor": "#E5ECF6",
           "radialaxis": {
            "gridcolor": "white",
            "linecolor": "white",
            "ticks": ""
           }
          },
          "scene": {
           "xaxis": {
            "backgroundcolor": "#E5ECF6",
            "gridcolor": "white",
            "gridwidth": 2,
            "linecolor": "white",
            "showbackground": true,
            "ticks": "",
            "zerolinecolor": "white"
           },
           "yaxis": {
            "backgroundcolor": "#E5ECF6",
            "gridcolor": "white",
            "gridwidth": 2,
            "linecolor": "white",
            "showbackground": true,
            "ticks": "",
            "zerolinecolor": "white"
           },
           "zaxis": {
            "backgroundcolor": "#E5ECF6",
            "gridcolor": "white",
            "gridwidth": 2,
            "linecolor": "white",
            "showbackground": true,
            "ticks": "",
            "zerolinecolor": "white"
           }
          },
          "shapedefaults": {
           "line": {
            "color": "#2a3f5f"
           }
          },
          "ternary": {
           "aaxis": {
            "gridcolor": "white",
            "linecolor": "white",
            "ticks": ""
           },
           "baxis": {
            "gridcolor": "white",
            "linecolor": "white",
            "ticks": ""
           },
           "bgcolor": "#E5ECF6",
           "caxis": {
            "gridcolor": "white",
            "linecolor": "white",
            "ticks": ""
           }
          },
          "title": {
           "x": 0.05
          },
          "xaxis": {
           "automargin": true,
           "gridcolor": "white",
           "linecolor": "white",
           "ticks": "",
           "title": {
            "standoff": 15
           },
           "zerolinecolor": "white",
           "zerolinewidth": 2
          },
          "yaxis": {
           "automargin": true,
           "gridcolor": "white",
           "linecolor": "white",
           "ticks": "",
           "title": {
            "standoff": 15
           },
           "zerolinecolor": "white",
           "zerolinewidth": 2
          }
         }
        },
        "title": {
         "text": "Age Distribution by Dataset"
        },
        "xaxis": {
         "anchor": "y",
         "domain": [
          0,
          1
         ],
         "title": {
          "text": "age"
         }
        },
        "yaxis": {
         "anchor": "x",
         "domain": [
          0,
          1
         ],
         "title": {
          "text": "count"
         }
        }
       }
      }
     },
     "metadata": {},
     "output_type": "display_data"
    },
    {
     "data": {
      "text/html": [
       "<div>\n",
       "<style scoped>\n",
       "    .dataframe tbody tr th:only-of-type {\n",
       "        vertical-align: middle;\n",
       "    }\n",
       "\n",
       "    .dataframe tbody tr th {\n",
       "        vertical-align: top;\n",
       "    }\n",
       "\n",
       "    .dataframe thead th {\n",
       "        text-align: right;\n",
       "    }\n",
       "</style>\n",
       "<table border=\"1\" class=\"dataframe\">\n",
       "  <thead>\n",
       "    <tr style=\"text-align: right;\">\n",
       "      <th></th>\n",
       "      <th>mean</th>\n",
       "      <th>median</th>\n",
       "      <th>mode</th>\n",
       "    </tr>\n",
       "    <tr>\n",
       "      <th>dataset</th>\n",
       "      <th></th>\n",
       "      <th></th>\n",
       "      <th></th>\n",
       "    </tr>\n",
       "  </thead>\n",
       "  <tbody>\n",
       "    <tr>\n",
       "      <th>Cleveland</th>\n",
       "      <td>54.351974</td>\n",
       "      <td>55.5</td>\n",
       "      <td>58</td>\n",
       "    </tr>\n",
       "    <tr>\n",
       "      <th>Hungary</th>\n",
       "      <td>47.894198</td>\n",
       "      <td>49.0</td>\n",
       "      <td>54</td>\n",
       "    </tr>\n",
       "    <tr>\n",
       "      <th>Switzerland</th>\n",
       "      <td>55.317073</td>\n",
       "      <td>56.0</td>\n",
       "      <td>61</td>\n",
       "    </tr>\n",
       "    <tr>\n",
       "      <th>VA Long Beach</th>\n",
       "      <td>59.350000</td>\n",
       "      <td>60.0</td>\n",
       "      <td>62</td>\n",
       "    </tr>\n",
       "  </tbody>\n",
       "</table>\n",
       "</div>"
      ],
      "text/plain": [
       "                    mean  median  mode\n",
       "dataset                               \n",
       "Cleveland      54.351974    55.5    58\n",
       "Hungary        47.894198    49.0    54\n",
       "Switzerland    55.317073    56.0    61\n",
       "VA Long Beach  59.350000    60.0    62"
      ]
     },
     "execution_count": 126,
     "metadata": {},
     "output_type": "execute_result"
    }
   ],
   "source": [
    "# make a plot of age column using plotly and cooring by dataset column\n",
    "fig = px.histogram(df, x='age', color='dataset', nbins=30, title='Age Distribution by Dataset')\n",
    "fig.show()\n",
    "\n",
    "# print the mean median and mode of age column group by dataset column\n",
    "df.groupby('dataset')['age'].agg(['mean', 'median', lambda x: x.mode()[0]]).rename(columns={'<lambda_0>': 'mode'})"
   ]
  },
  {
   "cell_type": "markdown",
   "id": "1bd9b52d",
   "metadata": {},
   "source": [
    "### Lets explore cp (Chest Pain) column "
   ]
  },
  {
   "cell_type": "code",
   "execution_count": 127,
   "id": "8e888db6",
   "metadata": {},
   "outputs": [
    {
     "data": {
      "text/plain": [
       "cp\n",
       "asymptomatic       496\n",
       "non-anginal        204\n",
       "atypical angina    174\n",
       "typical angina      46\n",
       "Name: count, dtype: int64"
      ]
     },
     "execution_count": 127,
     "metadata": {},
     "output_type": "execute_result"
    }
   ],
   "source": [
    "df['cp'].value_counts()"
   ]
  },
  {
   "cell_type": "code",
   "execution_count": 128,
   "id": "6db825d1",
   "metadata": {},
   "outputs": [
    {
     "data": {
      "text/plain": [
       "cp               sex   \n",
       "asymptomatic     Male      426\n",
       "                 Female     70\n",
       "atypical angina  Male      113\n",
       "                 Female     61\n",
       "non-anginal      Male      151\n",
       "                 Female     53\n",
       "typical angina   Male       36\n",
       "                 Female     10\n",
       "Name: count, dtype: int64"
      ]
     },
     "execution_count": 128,
     "metadata": {},
     "output_type": "execute_result"
    }
   ],
   "source": [
    "df.groupby('cp')['sex'].value_counts()\n"
   ]
  },
  {
   "cell_type": "code",
   "execution_count": 129,
   "id": "653f4fc9",
   "metadata": {},
   "outputs": [
    {
     "data": {
      "text/plain": [
       "cp               dataset      \n",
       "asymptomatic     Cleveland        144\n",
       "                 VA Long Beach    131\n",
       "                 Hungary          123\n",
       "                 Switzerland       98\n",
       "atypical angina  Hungary          105\n",
       "                 Cleveland         51\n",
       "                 VA Long Beach     14\n",
       "                 Switzerland        4\n",
       "non-anginal      Cleveland         86\n",
       "                 Hungary           54\n",
       "                 VA Long Beach     47\n",
       "                 Switzerland       17\n",
       "typical angina   Cleveland         23\n",
       "                 Hungary           11\n",
       "                 VA Long Beach      8\n",
       "                 Switzerland        4\n",
       "Name: count, dtype: int64"
      ]
     },
     "execution_count": 129,
     "metadata": {},
     "output_type": "execute_result"
    }
   ],
   "source": [
    "df.groupby('cp')['dataset'].value_counts()"
   ]
  },
  {
   "cell_type": "code",
   "execution_count": 130,
   "id": "1ffc203c",
   "metadata": {},
   "outputs": [
    {
     "data": {
      "text/plain": [
       "<Axes: xlabel='cp', ylabel='count'>"
      ]
     },
     "execution_count": 130,
     "metadata": {},
     "output_type": "execute_result"
    },
    {
     "data": {
      "image/png": "[encoded data removed]",
      "text/plain": [
       "<Figure size 640x480 with 1 Axes>"
      ]
     },
     "metadata": {},
     "output_type": "display_data"
    }
   ],
   "source": [
    "# count plot of cp column by sex column\n",
    "sns.countplot(data=df, x='cp', hue='sex')\n"
   ]
  },
  {
   "cell_type": "code",
   "execution_count": 131,
   "id": "d2cdb5fe",
   "metadata": {},
   "outputs": [
    {
     "data": {
      "text/plain": [
       "<Axes: xlabel='cp', ylabel='count'>"
      ]
     },
     "execution_count": 131,
     "metadata": {},
     "output_type": "execute_result"
    },
    {
     "data": {
      "image/png": "[encoded data removed]",
      "text/plain": [
       "<Figure size 640x480 with 1 Axes>"
      ]
     },
     "metadata": {},
     "output_type": "display_data"
    }
   ],
   "source": [
    "# count plot of cp column by dataset column\n",
    "sns.countplot(data=df, x='cp', hue='dataset')"
   ]
  },
  {
   "cell_type": "code",
   "execution_count": 132,
   "id": "87480577",
   "metadata": {},
   "outputs": [
    {
     "data": {
      "application/vnd.plotly.v1+json": {
       "config": {
        "plotlyServerURL": "https://plot.ly"
       },
       "data": [
        {
         "bingroup": "x",
         "hovertemplate": "cp=typical angina<br>age=%{x}<br>count=%{y}<extra></extra>",
         "legendgroup": "typical angina",
         "marker": {
          "color": "#636efa",
          "pattern": {
           "shape": ""
          }
         },
         "name": "typical angina",
         "orientation": "v",
         "showlegend": true,
         "type": "histogram",
         "x": {
          "bdata": "P0A6QkUoMyI0QTs0KjtFOyY4PTw7QC0eIysvNjk+IisuNyA+PkNDQTE+PURKPg==",
          "dtype": "i1"
         },
         "xaxis": "x",
         "yaxis": "y"
        },
        {
         "bingroup": "x",
         "hovertemplate": "cp=asymptomatic<br>age=%{x}<br>count=%{y}<extra></extra>",
         "legendgroup": "asymptomatic",
         "marker": {
          "color": "#EF553B",
          "pattern": {
           "shape": ""
          }
         },
         "name": "asymptomatic",
         "orientation": "v",
         "showlegend": true,
         "type": "histogram",
         "x": {
          "bdata": "Q0M+OT81OTY8Kyg8OyorOTdBPTJBLDw2KTM6Njw7Qz5BLDw6LTU1Qj40OzwwLTk7PSc9OCsjP0EwPzc4Nj4zRiM5KjdARjM6PE06OSM1Oz5AOTQ4MDg8Mys+Qy0yQCstOjI+QjQuQDs1Py82Qjc2OC4xQzovNDk6QCtDPSo0KD1CLkc6OTc9OjosPz87OUQ5IyUlJScnKSosLC0tLS4uLi4vMDAwMTEyMjIzNDU1NTY3Nzg5Ojs9PR8hJSYmJigpKSsuLi4vMDAwMTIzNDY2Nzs8P0EgJicoLS4uMDAwMDI0NDU2NjY2Nzg5OikrLDAxMTQ0NDQ1Njc4ODs7QUIpKywvLzExMjI0NDhBIiMkJiYmJigpKiorKysuLi8vMDIyMjIzMzMzMzMzNDQ0NDU1NTU2NjY3Nzc4ODg4ODk5OTk5Ojo6Ozs7Ozw8PDw8PT09PT09PT0+Pj4+Pz8/Pz9AQEBBQUFBQkJEREVFRkY/LDw3QTs+OT4/Lj88OkBFMzw4Nk0/QDw8OjsoPSk5PzszPjVENTszPTk6QTk2SzxAOj1DPkE/RTM+S0M6PD8rQT9APTI7N0FIMkA3Pzs4SjY5NkYwQjdLQDs3OT0pRyY3OEVASEU4PkM5RTMwRUA1Qzo9QDo8OTc4OUozPjU+LjY3Og==",
          "dtype": "i1"
         },
         "xaxis": "x",
         "yaxis": "y"
        },
        {
         "bingroup": "x",
         "hovertemplate": "cp=non-anginal<br>age=%{x}<br>count=%{y}<extra></extra>",
         "legendgroup": "non-anginal",
         "marker": {
          "color": "#00cc96",
          "pattern": {
           "shape": ""
          }
         },
         "name": "non-anginal",
         "orientation": "v",
         "showlegend": true,
         "type": "histogram",
         "x": {
          "bdata": "JTg0OTA6MjpALD07OjNBNTI2LjY8Ni5BQTMnRCwvNTM+LD9HMTk+OjM2MyszQDovKTxDRDYwNEYrNSpFMkQ5QCUpKTYnQzQxNjwzKkwsLDsqQicvQyYhJCQkJSUmJycnKCgoKioqKy0uLi8wMDExMzMzNDQ1NTY2Nzc4ODg6Ozs8LzExMjo2Oi8zNTYmJi0vLzU1ODg4OTs8PT5ISUJCPDw/P0o0Nzc0PTsqNzw4RUgzNygjP0QwLTE+PkwwPkc1Ojg6NkUlSjc9PTpE",
          "dtype": "i1"
         },
         "xaxis": "x",
         "yaxis": "y"
        },
        {
         "bingroup": "x",
         "hovertemplate": "cp=atypical angina<br>age=%{x}<br>count=%{y}<extra></extra>",
         "legendgroup": "atypical angina",
         "marker": {
          "color": "#ab63fa",
          "pattern": {
           "shape": ""
          }
         },
         "name": "atypical angina",
         "orientation": "v",
         "showlegend": true,
         "type": "histogram",
         "x": {
          "bdata": "KTg4LDAxOkcpLDA0NDYpLSwdNz47NC0uNi0/QjYyNy4iSjEqKSk+Rjk6OSM6ODg3KTkcHR0fICAgIiIiIyMkJSUmJicnJycnKCgpKSkpKSkqKiorKysrKyssLC0tLS4vLzAwMDAwMDExMTEyMjIyMzMzNDQ0NDQ1NTU1NjY2NjY2NjY2NjY2Nzc3Nzc3ODk6Ojs7PiMkOSw3ODo6NTU3Sjw4Pzg+Oj83PT02OT8+",
          "dtype": "i1"
         },
         "xaxis": "x",
         "yaxis": "y"
        }
       ],
       "layout": {
        "barmode": "relative",
        "legend": {
         "title": {
          "text": "cp"
         },
         "tracegroupgap": 0
        },
        "margin": {
         "t": 60
        },
        "template": {
         "data": {
          "bar": [
           {
            "error_x": {
             "color": "#2a3f5f"
            },
            "error_y": {
             "color": "#2a3f5f"
            },
            "marker": {
             "line": {
              "color": "#E5ECF6",
              "width": 0.5
             },
             "pattern": {
              "fillmode": "overlay",
              "size": 10,
              "solidity": 0.2
             }
            },
            "type": "bar"
           }
          ],
          "barpolar": [
           {
            "marker": {
             "line": {
              "color": "#E5ECF6",
              "width": 0.5
             },
             "pattern": {
              "fillmode": "overlay",
              "size": 10,
              "solidity": 0.2
             }
            },
            "type": "barpolar"
           }
          ],
          "carpet": [
           {
            "aaxis": {
             "endlinecolor": "#2a3f5f",
             "gridcolor": "white",
             "linecolor": "white",
             "minorgridcolor": "white",
             "startlinecolor": "#2a3f5f"
            },
            "baxis": {
             "endlinecolor": "#2a3f5f",
             "gridcolor": "white",
             "linecolor": "white",
             "minorgridcolor": "white",
             "startlinecolor": "#2a3f5f"
            },
            "type": "carpet"
           }
          ],
          "choropleth": [
           {
            "colorbar": {
             "outlinewidth": 0,
             "ticks": ""
            },
            "type": "choropleth"
           }
          ],
          "contour": [
           {
            "colorbar": {
             "outlinewidth": 0,
             "ticks": ""
            },
            "colorscale": [
             [
              0,
              "#0d0887"
             ],
             [
              0.1111111111111111,
              "#46039f"
             ],
             [
              0.2222222222222222,
              "#7201a8"
             ],
             [
              0.3333333333333333,
              "#9c179e"
             ],
             [
              0.4444444444444444,
              "#bd3786"
             ],
             [
              0.5555555555555556,
              "#d8576b"
             ],
             [
              0.6666666666666666,
              "#ed7953"
             ],
             [
              0.7777777777777778,
              "#fb9f3a"
             ],
             [
              0.8888888888888888,
              "#fdca26"
             ],
             [
              1,
              "#f0f921"
             ]
            ],
            "type": "contour"
           }
          ],
          "contourcarpet": [
           {
            "colorbar": {
             "outlinewidth": 0,
             "ticks": ""
            },
            "type": "contourcarpet"
           }
          ],
          "heatmap": [
           {
            "colorbar": {
             "outlinewidth": 0,
             "ticks": ""
            },
            "colorscale": [
             [
              0,
              "#0d0887"
             ],
             [
              0.1111111111111111,
              "#46039f"
             ],
             [
              0.2222222222222222,
              "#7201a8"
             ],
             [
              0.3333333333333333,
              "#9c179e"
             ],
             [
              0.4444444444444444,
              "#bd3786"
             ],
             [
              0.5555555555555556,
              "#d8576b"
             ],
             [
              0.6666666666666666,
              "#ed7953"
             ],
             [
              0.7777777777777778,
              "#fb9f3a"
             ],
             [
              0.8888888888888888,
              "#fdca26"
             ],
             [
              1,
              "#f0f921"
             ]
            ],
            "type": "heatmap"
           }
          ],
          "histogram": [
           {
            "marker": {
             "pattern": {
              "fillmode": "overlay",
              "size": 10,
              "solidity": 0.2
             }
            },
            "type": "histogram"
           }
          ],
          "histogram2d": [
           {
            "colorbar": {
             "outlinewidth": 0,
             "ticks": ""
            },
            "colorscale": [
             [
              0,
              "#0d0887"
             ],
             [
              0.1111111111111111,
              "#46039f"
             ],
             [
              0.2222222222222222,
              "#7201a8"
             ],
             [
              0.3333333333333333,
              "#9c179e"
             ],
             [
              0.4444444444444444,
              "#bd3786"
             ],
             [
              0.5555555555555556,
              "#d8576b"
             ],
             [
              0.6666666666666666,
              "#ed7953"
             ],
             [
              0.7777777777777778,
              "#fb9f3a"
             ],
             [
              0.8888888888888888,
              "#fdca26"
             ],
             [
              1,
              "#f0f921"
             ]
            ],
            "type": "histogram2d"
           }
          ],
          "histogram2dcontour": [
           {
            "colorbar": {
             "outlinewidth": 0,
             "ticks": ""
            },
            "colorscale": [
             [
              0,
              "#0d0887"
             ],
             [
              0.1111111111111111,
              "#46039f"
             ],
             [
              0.2222222222222222,
              "#7201a8"
             ],
             [
              0.3333333333333333,
              "#9c179e"
             ],
             [
              0.4444444444444444,
              "#bd3786"
             ],
             [
              0.5555555555555556,
              "#d8576b"
             ],
             [
              0.6666666666666666,
              "#ed7953"
             ],
             [
              0.7777777777777778,
              "#fb9f3a"
             ],
             [
              0.8888888888888888,
              "#fdca26"
             ],
             [
              1,
              "#f0f921"
             ]
            ],
            "type": "histogram2dcontour"
           }
          ],
          "mesh3d": [
           {
            "colorbar": {
             "outlinewidth": 0,
             "ticks": ""
            },
            "type": "mesh3d"
           }
          ],
          "parcoords": [
           {
            "line": {
             "colorbar": {
              "outlinewidth": 0,
              "ticks": ""
             }
            },
            "type": "parcoords"
           }
          ],
          "pie": [
           {
            "automargin": true,
            "type": "pie"
           }
          ],
          "scatter": [
           {
            "fillpattern": {
             "fillmode": "overlay",
             "size": 10,
             "solidity": 0.2
            },
            "type": "scatter"
           }
          ],
          "scatter3d": [
           {
            "line": {
             "colorbar": {
              "outlinewidth": 0,
              "ticks": ""
             }
            },
            "marker": {
             "colorbar": {
              "outlinewidth": 0,
              "ticks": ""
             }
            },
            "type": "scatter3d"
           }
          ],
          "scattercarpet": [
           {
            "marker": {
             "colorbar": {
              "outlinewidth": 0,
              "ticks": ""
             }
            },
            "type": "scattercarpet"
           }
          ],
          "scattergeo": [
           {
            "marker": {
             "colorbar": {
              "outlinewidth": 0,
              "ticks": ""
             }
            },
            "type": "scattergeo"
           }
          ],
          "scattergl": [
           {
            "marker": {
             "colorbar": {
              "outlinewidth": 0,
              "ticks": ""
             }
            },
            "type": "scattergl"
           }
          ],
          "scattermap": [
           {
            "marker": {
             "colorbar": {
              "outlinewidth": 0,
              "ticks": ""
             }
            },
            "type": "scattermap"
           }
          ],
          "scattermapbox": [
           {
            "marker": {
             "colorbar": {
              "outlinewidth": 0,
              "ticks": ""
             }
            },
            "type": "scattermapbox"
           }
          ],
          "scatterpolar": [
           {
            "marker": {
             "colorbar": {
              "outlinewidth": 0,
              "ticks": ""
             }
            },
            "type": "scatterpolar"
           }
          ],
          "scatterpolargl": [
           {
            "marker": {
             "colorbar": {
              "outlinewidth": 0,
              "ticks": ""
             }
            },
            "type": "scatterpolargl"
           }
          ],
          "scatterternary": [
           {
            "marker": {
             "colorbar": {
              "outlinewidth": 0,
              "ticks": ""
             }
            },
            "type": "scatterternary"
           }
          ],
          "surface": [
           {
            "colorbar": {
             "outlinewidth": 0,
             "ticks": ""
            },
            "colorscale": [
             [
              0,
              "#0d0887"
             ],
             [
              0.1111111111111111,
              "#46039f"
             ],
             [
              0.2222222222222222,
              "#7201a8"
             ],
             [
              0.3333333333333333,
              "#9c179e"
             ],
             [
              0.4444444444444444,
              "#bd3786"
             ],
             [
              0.5555555555555556,
              "#d8576b"
             ],
             [
              0.6666666666666666,
              "#ed7953"
             ],
             [
              0.7777777777777778,
              "#fb9f3a"
             ],
             [
              0.8888888888888888,
              "#fdca26"
             ],
             [
              1,
              "#f0f921"
             ]
            ],
            "type": "surface"
           }
          ],
          "table": [
           {
            "cells": {
             "fill": {
              "color": "#EBF0F8"
             },
             "line": {
              "color": "white"
             }
            },
            "header": {
             "fill": {
              "color": "#C8D4E3"
             },
             "line": {
              "color": "white"
             }
            },
            "type": "table"
           }
          ]
         },
         "layout": {
          "annotationdefaults": {
           "arrowcolor": "#2a3f5f",
           "arrowhead": 0,
           "arrowwidth": 1
          },
          "autotypenumbers": "strict",
          "coloraxis": {
           "colorbar": {
            "outlinewidth": 0,
            "ticks": ""
           }
          },
          "colorscale": {
           "diverging": [
            [
             0,
             "#8e0152"
            ],
            [
             0.1,
             "#c51b7d"
            ],
            [
             0.2,
             "#de77ae"
            ],
            [
             0.3,
             "#f1b6da"
            ],
            [
             0.4,
             "#fde0ef"
            ],
            [
             0.5,
             "#f7f7f7"
            ],
            [
             0.6,
             "#e6f5d0"
            ],
            [
             0.7,
             "#b8e186"
            ],
            [
             0.8,
             "#7fbc41"
            ],
            [
             0.9,
             "#4d9221"
            ],
            [
             1,
             "#276419"
            ]
           ],
           "sequential": [
            [
             0,
             "#0d0887"
            ],
            [
             0.1111111111111111,
             "#46039f"
            ],
            [
             0.2222222222222222,
             "#7201a8"
            ],
            [
             0.3333333333333333,
             "#9c179e"
            ],
            [
             0.4444444444444444,
             "#bd3786"
            ],
            [
             0.5555555555555556,
             "#d8576b"
            ],
            [
             0.6666666666666666,
             "#ed7953"
            ],
            [
             0.7777777777777778,
             "#fb9f3a"
            ],
            [
             0.8888888888888888,
             "#fdca26"
            ],
            [
             1,
             "#f0f921"
            ]
           ],
           "sequentialminus": [
            [
             0,
             "#0d0887"
            ],
            [
             0.1111111111111111,
             "#46039f"
            ],
            [
             0.2222222222222222,
             "#7201a8"
            ],
            [
             0.3333333333333333,
             "#9c179e"
            ],
            [
             0.4444444444444444,
             "#bd3786"
            ],
            [
             0.5555555555555556,
             "#d8576b"
            ],
            [
             0.6666666666666666,
             "#ed7953"
            ],
            [
             0.7777777777777778,
             "#fb9f3a"
            ],
            [
             0.8888888888888888,
             "#fdca26"
            ],
            [
             1,
             "#f0f921"
            ]
           ]
          },
          "colorway": [
           "#636efa",
           "#EF553B",
           "#00cc96",
           "#ab63fa",
           "#FFA15A",
           "#19d3f3",
           "#FF6692",
           "#B6E880",
           "#FF97FF",
           "#FECB52"
          ],
          "font": {
           "color": "#2a3f5f"
          },
          "geo": {
           "bgcolor": "white",
           "lakecolor": "white",
           "landcolor": "#E5ECF6",
           "showlakes": true,
           "showland": true,
           "subunitcolor": "white"
          },
          "hoverlabel": {
           "align": "left"
          },
          "hovermode": "closest",
          "mapbox": {
           "style": "light"
          },
          "paper_bgcolor": "white",
          "plot_bgcolor": "#E5ECF6",
          "polar": {
           "angularaxis": {
            "gridcolor": "white",
            "linecolor": "white",
            "ticks": ""
           },
           "bgcolor": "#E5ECF6",
           "radialaxis": {
            "gridcolor": "white",
            "linecolor": "white",
            "ticks": ""
           }
          },
          "scene": {
           "xaxis": {
            "backgroundcolor": "#E5ECF6",
            "gridcolor": "white",
            "gridwidth": 2,
            "linecolor": "white",
            "showbackground": true,
            "ticks": "",
            "zerolinecolor": "white"
           },
           "yaxis": {
            "backgroundcolor": "#E5ECF6",
            "gridcolor": "white",
            "gridwidth": 2,
            "linecolor": "white",
            "showbackground": true,
            "ticks": "",
            "zerolinecolor": "white"
           },
           "zaxis": {
            "backgroundcolor": "#E5ECF6",
            "gridcolor": "white",
            "gridwidth": 2,
            "linecolor": "white",
            "showbackground": true,
            "ticks": "",
            "zerolinecolor": "white"
           }
          },
          "shapedefaults": {
           "line": {
            "color": "#2a3f5f"
           }
          },
          "ternary": {
           "aaxis": {
            "gridcolor": "white",
            "linecolor": "white",
            "ticks": ""
           },
           "baxis": {
            "gridcolor": "white",
            "linecolor": "white",
            "ticks": ""
           },
           "bgcolor": "#E5ECF6",
           "caxis": {
            "gridcolor": "white",
            "linecolor": "white",
            "ticks": ""
           }
          },
          "title": {
           "x": 0.05
          },
          "xaxis": {
           "automargin": true,
           "gridcolor": "white",
           "linecolor": "white",
           "ticks": "",
           "title": {
            "standoff": 15
           },
           "zerolinecolor": "white",
           "zerolinewidth": 2
          },
          "yaxis": {
           "automargin": true,
           "gridcolor": "white",
           "linecolor": "white",
           "ticks": "",
           "title": {
            "standoff": 15
           },
           "zerolinecolor": "white",
           "zerolinewidth": 2
          }
         }
        },
        "xaxis": {
         "anchor": "y",
         "domain": [
          0,
          1
         ],
         "title": {
          "text": "age"
         }
        },
        "yaxis": {
         "anchor": "x",
         "domain": [
          0,
          1
         ],
         "title": {
          "text": "count"
         }
        }
       }
      }
     },
     "metadata": {},
     "output_type": "display_data"
    }
   ],
   "source": [
    "# draw the plot of age column grouped by cp column\n",
    "fig = px.histogram(df, x='age', color='cp')\n",
    "fig.show()"
   ]
  },
  {
   "cell_type": "markdown",
   "id": "6c36376b",
   "metadata": {},
   "source": [
    "### Lets explore the trestbps (resting blood pressure) column.\n",
    "\n",
    "The normal resting blood pressure is 120/80 mm Hg. "
   ]
  },
  {
   "cell_type": "code",
   "execution_count": 133,
   "id": "d63f92fc",
   "metadata": {},
   "outputs": [
    {
     "data": {
      "text/plain": [
       "count    861.000000\n",
       "mean     132.132404\n",
       "std       19.066070\n",
       "min        0.000000\n",
       "25%      120.000000\n",
       "50%      130.000000\n",
       "75%      140.000000\n",
       "max      200.000000\n",
       "Name: trestbps, dtype: float64"
      ]
     },
     "execution_count": 133,
     "metadata": {},
     "output_type": "execute_result"
    }
   ],
   "source": [
    "# find the value counts of trestbps\n",
    "df['trestbps'].describe()\n"
   ]
  },
  {
   "cell_type": "code",
   "execution_count": 134,
   "id": "31b2cbb1",
   "metadata": {},
   "outputs": [
    {
     "data": {
      "text/plain": [
       "<Axes: xlabel='trestbps', ylabel='Count'>"
      ]
     },
     "execution_count": 134,
     "metadata": {},
     "output_type": "execute_result"
    },
    {
     "data": {
      "image/png": "[encoded data removed]",
      "text/plain": [
       "<Figure size 640x480 with 1 Axes>"
      ]
     },
     "metadata": {},
     "output_type": "display_data"
    }
   ],
   "source": [
    "# craete a histplot of trestbps column\n",
    "sns.histplot(data=df, x='trestbps', bins=30, kde=True)"
   ]
  },
  {
   "cell_type": "markdown",
   "id": "c3bd06b3",
   "metadata": {},
   "source": [
    "<span style=\"color:gold; font-weight:bold; font-size:28px\"> Dealing with missing values</span>"
   ]
  },
  {
   "cell_type": "markdown",
   "id": "f75db69d",
   "metadata": {},
   "source": [
    "# we are going to make a function to deal with missing values"
   ]
  },
  {
   "cell_type": "code",
   "execution_count": 135,
   "id": "1a94ef85",
   "metadata": {},
   "outputs": [
    {
     "data": {
      "text/plain": [
       "['trestbps',\n",
       " 'chol',\n",
       " 'fbs',\n",
       " 'restecg',\n",
       " 'thalch',\n",
       " 'exang',\n",
       " 'oldpeak',\n",
       " 'slope',\n",
       " 'ca',\n",
       " 'thal']"
      ]
     },
     "execution_count": 135,
     "metadata": {},
     "output_type": "execute_result"
    }
   ],
   "source": [
    "missing_data_cols = df.isnull().sum()[df.isnull().sum() > 0].index.tolist()\n",
    "missing_data_cols"
   ]
  },
  {
   "cell_type": "code",
   "execution_count": 136,
   "id": "77342ef5",
   "metadata": {},
   "outputs": [],
   "source": [
    "categorical_columns = ['thal','ca','slope','exang',\"restecg\",'fbs','cp','sex','num']\n",
    "bool_cols = ['fbs','exang']\n",
    "numerical_cols = ['age','trestbps','chol','thalch','oldpeak']"
   ]
  },
  {
   "cell_type": "code",
   "execution_count": 137,
   "id": "2a32c83c",
   "metadata": {},
   "outputs": [],
   "source": [
    "# define the function to impute the missing values in thal column\n",
    "\n",
    "def impute_categorical_missing_data(passed_col):\n",
    "    \n",
    "    df_null = df[df[passed_col].isnull()]\n",
    "    df_not_null = df[df[passed_col].notnull()]\n",
    "\n",
    "    X = df_not_null.drop(passed_col, axis=1)\n",
    "    y = df_not_null[passed_col]\n",
    "    \n",
    "    other_missing_cols = [col for col in missing_data_cols if col != passed_col]\n",
    "    \n",
    "    label_encoder = LabelEncoder()\n",
    "\n",
    "    for col in X.columns:\n",
    "        if X[col].dtype == 'object' or X[col].dtype == 'category':\n",
    "            X[col] = label_encoder.fit_transform(X[col])\n",
    "\n",
    "    if passed_col in bool_cols:\n",
    "        y = label_encoder.fit_transform(y)\n",
    "        \n",
    "    iterative_imputer = IterativeImputer(estimator=RandomForestRegressor(random_state=42), add_indicator=True)\n",
    "\n",
    "    for col in other_missing_cols:\n",
    "        if X[col].isnull().sum() > 0:\n",
    "            col_with_missing_values = X[col].values.reshape(-1, 1)\n",
    "            imputed_values = iterative_imputer.fit_transform(col_with_missing_values)\n",
    "            X[col] = imputed_values[:, 0]\n",
    "        else:\n",
    "            pass\n",
    "    \n",
    "    X_train, X_test, y_train, y_test = train_test_split(X, y, test_size=0.2, random_state=42)\n",
    "\n",
    "    rf_classifier = RandomForestClassifier()\n",
    "\n",
    "    rf_classifier.fit(X_train, y_train)\n",
    "\n",
    "    y_pred = rf_classifier.predict(X_test)\n",
    "\n",
    "    acc_score = accuracy_score(y_test, y_pred)\n",
    "\n",
    "    print(\"The feature '\"+ passed_col+ \"' has been imputed with\", round((acc_score * 100), 2), \"accuracy\\n\")\n",
    "\n",
    "    X = df_null.drop(passed_col, axis=1)\n",
    "\n",
    "    for col in X.columns:\n",
    "        if X[col].dtype == 'object' or X[col].dtype == 'category':\n",
    "            X[col] = label_encoder.fit_transform(X[col])\n",
    "\n",
    "    for col in other_missing_cols:\n",
    "        if X[col].isnull().sum() > 0:\n",
    "            col_with_missing_values = X[col].values.reshape(-1, 1)\n",
    "            imputed_values = iterative_imputer.fit_transform(col_with_missing_values)\n",
    "            X[col] = imputed_values[:, 0]\n",
    "        else:\n",
    "            pass\n",
    "                \n",
    "    if len(df_null) > 0: \n",
    "        df_null[passed_col] = rf_classifier.predict(X)\n",
    "        if passed_col in bool_cols:\n",
    "            df_null[passed_col] = df_null[passed_col].map({0: False, 1: True})\n",
    "        else:\n",
    "            pass\n",
    "    else:\n",
    "        pass\n",
    "\n",
    "    df_combined = pd.concat([df_not_null, df_null])\n",
    "    \n",
    "    return df_combined[passed_col]\n",
    "\n",
    "def impute_continuous_missing_data(passed_col):\n",
    "    \n",
    "    df_null = df[df[passed_col].isnull()]\n",
    "    df_not_null = df[df[passed_col].notnull()]\n",
    "\n",
    "    X = df_not_null.drop(passed_col, axis=1)\n",
    "    y = df_not_null[passed_col]\n",
    "    \n",
    "    other_missing_cols = [col for col in missing_data_cols if col != passed_col]\n",
    "    \n",
    "    label_encoder = LabelEncoder()\n",
    "\n",
    "    for col in X.columns:\n",
    "        if X[col].dtype == 'object' or X[col].dtype == 'category':\n",
    "            X[col] = label_encoder.fit_transform(X[col])\n",
    "    \n",
    "    iterative_imputer = IterativeImputer(estimator=RandomForestRegressor(random_state=42), add_indicator=True)\n",
    "\n",
    "    for col in other_missing_cols:\n",
    "        if X[col].isnull().sum() > 0:\n",
    "            col_with_missing_values = X[col].values.reshape(-1, 1)\n",
    "            imputed_values = iterative_imputer.fit_transform(col_with_missing_values)\n",
    "            X[col] = imputed_values[:, 0]\n",
    "        else:\n",
    "            pass\n",
    "    \n",
    "    X_train, X_test, y_train, y_test = train_test_split(X, y, test_size=0.2, random_state=42)\n",
    "\n",
    "    rf_regressor = RandomForestRegressor()\n",
    "\n",
    "    rf_regressor.fit(X_train, y_train)\n",
    "\n",
    "    y_pred = rf_regressor.predict(X_test)\n",
    "\n",
    "    print(\"MAE =\", mean_absolute_error(y_test, y_pred), \"\\n\")\n",
    "    print(\"RMSE =\", mean_squared_error(y_test, y_pred, ), \"\\n\")\n",
    "    print(\"R2 =\", r2_score(y_test, y_pred), \"\\n\")\n",
    "\n",
    "    X = df_null.drop(passed_col, axis=1)\n",
    "\n",
    "    for col in X.columns:\n",
    "        if X[col].dtype == 'object' or X[col].dtype == 'category':\n",
    "            X[col] = label_encoder.fit_transform(X[col])\n",
    "\n",
    "    for col in other_missing_cols:\n",
    "        if X[col].isnull().sum() > 0:\n",
    "            col_with_missing_values = X[col].values.reshape(-1, 1)\n",
    "            imputed_values = iterative_imputer.fit_transform(col_with_missing_values)\n",
    "            X[col] = imputed_values[:, 0]\n",
    "        else:\n",
    "            pass\n",
    "                \n",
    "    if len(df_null) > 0: \n",
    "        df_null[passed_col] = rf_regressor.predict(X)\n",
    "    else:\n",
    "        pass\n",
    "\n",
    "    df_combined = pd.concat([df_not_null, df_null])\n",
    "    \n",
    "    return df_combined[passed_col]"
   ]
  },
  {
   "cell_type": "code",
   "execution_count": 138,
   "id": "3eff4e9f",
   "metadata": {},
   "outputs": [
    {
     "data": {
      "text/plain": [
       "trestbps     59\n",
       "chol         30\n",
       "fbs          90\n",
       "restecg       2\n",
       "thalch       55\n",
       "exang        55\n",
       "oldpeak      62\n",
       "slope       309\n",
       "ca          611\n",
       "thal        486\n",
       "dtype: int64"
      ]
     },
     "execution_count": 138,
     "metadata": {},
     "output_type": "execute_result"
    }
   ],
   "source": [
    "# check the missing values\n",
    "df.isnull().sum()[df.isnull().sum() > 0]"
   ]
  },
  {
   "cell_type": "code",
   "execution_count": 139,
   "id": "147dba28",
   "metadata": {},
   "outputs": [
    {
     "name": "stdout",
     "output_type": "stream",
     "text": [
      "Missing values trestbps : 6.41%\n",
      "MAE = 13.291271676300576 \n",
      "\n",
      "RMSE = 296.08843179190757 \n",
      "\n",
      "R2 = 0.07551634542076702 \n",
      "\n",
      "Missing values chol : 3.26%\n",
      "MAE = 44.745224719101124 \n",
      "\n",
      "RMSE = 4048.1019376404493 \n",
      "\n",
      "R2 = 0.6793213211510164 \n",
      "\n",
      "Missing values fbs : 9.78%\n",
      "The feature 'fbs' has been imputed with 79.52 accuracy\n",
      "\n",
      "Missing values restecg : 0.22%\n",
      "The feature 'restecg' has been imputed with 66.85 accuracy\n",
      "\n",
      "Missing values thalch : 5.98%\n",
      "MAE = 16.749826589595376 \n",
      "\n",
      "RMSE = 464.558914450867 \n",
      "\n",
      "R2 = 0.32449259876461467 \n",
      "\n",
      "Missing values exang : 5.98%\n",
      "The feature 'exang' has been imputed with 78.61 accuracy\n",
      "\n",
      "Missing values oldpeak : 6.74%\n",
      "MAE = 0.5616220930232558 \n",
      "\n",
      "RMSE = 0.6106480290697675 \n",
      "\n",
      "R2 = 0.41823323752836716 \n",
      "\n",
      "Missing values slope : 33.59%\n",
      "The feature 'slope' has been imputed with 66.67 accuracy\n",
      "\n",
      "Missing values ca : 66.41%\n",
      "The feature 'ca' has been imputed with 69.35 accuracy\n",
      "\n",
      "Missing values thal : 52.83%\n",
      "The feature 'thal' has been imputed with 71.26 accuracy\n",
      "\n"
     ]
    }
   ],
   "source": [
    "# remove warnings\n",
    "warnings.filterwarnings(\"ignore\")\n",
    "\n",
    "for col in missing_data_cols:\n",
    "    print(\"Missing values\", col,\":\", str(round((df[col].isnull().sum()/len(df))*100,2))+\"%\")\n",
    "    if col in categorical_columns:\n",
    "        df[col] = impute_categorical_missing_data(col)\n",
    "    elif col in numerical_cols:\n",
    "        df[col] = impute_continuous_missing_data(col)\n",
    "    else:\n",
    "        pass"
   ]
  },
  {
   "cell_type": "code",
   "execution_count": 140,
   "id": "0d4618e2",
   "metadata": {},
   "outputs": [
    {
     "data": {
      "text/plain": [
       "id          0\n",
       "age         0\n",
       "sex         0\n",
       "dataset     0\n",
       "cp          0\n",
       "trestbps    0\n",
       "chol        0\n",
       "fbs         0\n",
       "restecg     0\n",
       "thalch      0\n",
       "exang       0\n",
       "oldpeak     0\n",
       "slope       0\n",
       "ca          0\n",
       "thal        0\n",
       "num         0\n",
       "dtype: int64"
      ]
     },
     "execution_count": 140,
     "metadata": {},
     "output_type": "execute_result"
    }
   ],
   "source": [
    "df.isnull().sum()"
   ]
  },
  {
   "cell_type": "markdown",
   "id": "656a4338",
   "metadata": {},
   "source": [
    "<span style=\"color:gold; font-weight:bold; font-size:28px\"> Dealing with Outliers</span>"
   ]
  },
  {
   "cell_type": "code",
   "execution_count": 143,
   "metadata": {},
   "outputs": [
    {
     "data": {
      "image/png": "[encoded data removed]",
      "text/plain": [
       "<Figure size 2000x2000 with 5 Axes>"
      ]
     },
     "metadata": {},
     "output_type": "display_data"
    }
   ],
   "source": [
    "# create a box plot for all numeric columns using for loop and subplot\n",
    "plt.figure(figsize=(20,20))\n",
    "\n",
    "colors =['red','green','blue','orange','purple']\n",
    "\n",
    "for i, col in enumerate(numerical_cols):\n",
    "    plt.subplot(3, 2, i+1)\n",
    "    sns.boxplot(data=df, x=col, color=colors[i % len(colors)])\n",
    "    plt.title(f'Box plot of {col}')\n",
    "    plt.tight_layout()\n",
    "plt.show()"
   ]
  },
  {
   "cell_type": "code",
   "execution_count": 150,
   "id": "df50b004",
   "metadata": {},
   "outputs": [
    {
     "data": {
      "application/vnd.plotly.v1+json": {
       "config": {
        "plotlyServerURL": "https://plot.ly"
       },
       "data": [
        {
         "alignmentgroup": "True",
         "hovertemplate": "age=%{y}<extra></extra>",
         "legendgroup": "",
         "marker": {
          "color": "#636efa"
         },
         "name": "",
         "notched": false,
         "offsetgroup": "",
         "orientation": "v",
         "showlegend": false,
         "type": "box",
         "x0": " ",
         "xaxis": "x",
         "y": {
          "bdata": "P0NDJSk4Pjk/NTk4OCw0OTA2MDFAOjo6PDI6QisoRTxAOywqKzk3PUEoRzs9OjMyQTUpQSwsPDYyKTYzMy46NjY8PDY7LkFDPkEsQTwzMDotNSdENCwvNTUzQj4+LD80Ozw0MC0iOUcxNjs5PSc9ODQrPik6Iz9BMD8zN0EtODYsPjYzHTMrN0Y+IzM7OzRAOi85KS08NCpDN0BGMzo8RC5NNjowOTQ2Iy1GNTs+QDk0OCs1MDgqOzw/KkI2RTIzKz5EQ0UtMjsyQDlAKy06Mjc+JSYpQjQ4Li5AOyk2JzU/Ii9DNkI0NzFKNjY4LjEqKSkxPTxDOi80Pjk6QDMrKkNMRjksOjwsPSo0OygqPUIuRztAQic5OjkvNyM9Ojo6ODhDNyw/Pyk7OS1EOTkmHB0dHh8gICAhIiIiIyMjIyQkJCQlJSUlJSUlJiYmJycnJycnJycnJygoKCgoKSkpKSkpKSoqKioqKiorKysrKysrKywsLCwtLS0tLS0tLi4uLi4uLi8vLy8vMDAwMDAwMDAwMDAxMTExMTExMTIyMjIyMjIzMzMzMzMzNDQ0NDQ0NDQ1NTU1NTU1NTU2NjY2NjY2NjY2NjY2NjY2Nzc3Nzc3Nzc3Nzg4ODg4OTk5Ojo6Ojs7Ozs7PD09Pj4fISIjJCUmJiYoKSkrLi4uLy8wMDAxMTEyMjM0NjY3OTo7PD9BICYnKCstLi4wMDAwMjQ0NTY2NjY2Nzg5OjopKywsLi8wMTEzNDQ0NDU1Njc3Nzg4ODo7O0FCKSssLy8xMTIyNDQ2ODpBICIjJCYmJiYmJigpKiorKystLi4vLy8vMDIyMjIzMzMzMzMzNDQ0NDU1NTU1NTU1NjY2Nzc3Nzg4ODg4ODg4OTk5OTk5Ojo6Ozs7Ozs8PDw8PDw9PT09PT09PT0+Pj4+Pj4+Pz8/Pz9AQEBBQUFBQkJDRERFRUZGSElKPyw8N0JCQTw8PDg7Pj85Pj8uPzw6QD9KNEUzPDg3Nk0/NEA8PDo7PSg9KTk/OzM7Kjc/Pjg1RDU8PjszPTk4OkVDOkE/NzlBNkhLMTM8QDo9Qz5BP0UzPjdLKEM6PD8jPis/REEwP0A9Mjs3LUE9MUgyQDc/Ozg+SjY5Pkw2Rj0wMD1CRDc+R0o1Oks4OkA2Njs3OT0pRyY3OEVASEU4PkM5RTMwRUVAOTUlQ0o/Oj1AOjw5Nzc4OT09OkpEMz41Pi42Pjc6Pg==",
          "dtype": "i1"
         },
         "y0": " ",
         "yaxis": "y"
        }
       ],
       "layout": {
        "boxmode": "group",
        "legend": {
         "tracegroupgap": 0
        },
        "template": {
         "data": {
          "bar": [
           {
            "error_x": {
             "color": "#2a3f5f"
            },
            "error_y": {
             "color": "#2a3f5f"
            },
            "marker": {
             "line": {
              "color": "#E5ECF6",
              "width": 0.5
             },
             "pattern": {
              "fillmode": "overlay",
              "size": 10,
              "solidity": 0.2
             }
            },
            "type": "bar"
           }
          ],
          "barpolar": [
           {
            "marker": {
             "line": {
              "color": "#E5ECF6",
              "width": 0.5
             },
             "pattern": {
              "fillmode": "overlay",
              "size": 10,
              "solidity": 0.2
             }
            },
            "type": "barpolar"
           }
          ],
          "carpet": [
           {
            "aaxis": {
             "endlinecolor": "#2a3f5f",
             "gridcolor": "white",
             "linecolor": "white",
             "minorgridcolor": "white",
             "startlinecolor": "#2a3f5f"
            },
            "baxis": {
             "endlinecolor": "#2a3f5f",
             "gridcolor": "white",
             "linecolor": "white",
             "minorgridcolor": "white",
             "startlinecolor": "#2a3f5f"
            },
            "type": "carpet"
           }
          ],
          "choropleth": [
           {
            "colorbar": {
             "outlinewidth": 0,
             "ticks": ""
            },
            "type": "choropleth"
           }
          ],
          "contour": [
           {
            "colorbar": {
             "outlinewidth": 0,
             "ticks": ""
            },
            "colorscale": [
             [
              0,
              "#0d0887"
             ],
             [
              0.1111111111111111,
              "#46039f"
             ],
             [
              0.2222222222222222,
              "#7201a8"
             ],
             [
              0.3333333333333333,
              "#9c179e"
             ],
             [
              0.4444444444444444,
              "#bd3786"
             ],
             [
              0.5555555555555556,
              "#d8576b"
             ],
             [
              0.6666666666666666,
              "#ed7953"
             ],
             [
              0.7777777777777778,
              "#fb9f3a"
             ],
             [
              0.8888888888888888,
              "#fdca26"
             ],
             [
              1,
              "#f0f921"
             ]
            ],
            "type": "contour"
           }
          ],
          "contourcarpet": [
           {
            "colorbar": {
             "outlinewidth": 0,
             "ticks": ""
            },
            "type": "contourcarpet"
           }
          ],
          "heatmap": [
           {
            "colorbar": {
             "outlinewidth": 0,
             "ticks": ""
            },
            "colorscale": [
             [
              0,
              "#0d0887"
             ],
             [
              0.1111111111111111,
              "#46039f"
             ],
             [
              0.2222222222222222,
              "#7201a8"
             ],
             [
              0.3333333333333333,
              "#9c179e"
             ],
             [
              0.4444444444444444,
              "#bd3786"
             ],
             [
              0.5555555555555556,
              "#d8576b"
             ],
             [
              0.6666666666666666,
              "#ed7953"
             ],
             [
              0.7777777777777778,
              "#fb9f3a"
             ],
             [
              0.8888888888888888,
              "#fdca26"
             ],
             [
              1,
              "#f0f921"
             ]
            ],
            "type": "heatmap"
           }
          ],
          "histogram": [
           {
            "marker": {
             "pattern": {
              "fillmode": "overlay",
              "size": 10,
              "solidity": 0.2
             }
            },
            "type": "histogram"
           }
          ],
          "histogram2d": [
           {
            "colorbar": {
             "outlinewidth": 0,
             "ticks": ""
            },
            "colorscale": [
             [
              0,
              "#0d0887"
             ],
             [
              0.1111111111111111,
              "#46039f"
             ],
             [
              0.2222222222222222,
              "#7201a8"
             ],
             [
              0.3333333333333333,
              "#9c179e"
             ],
             [
              0.4444444444444444,
              "#bd3786"
             ],
             [
              0.5555555555555556,
              "#d8576b"
             ],
             [
              0.6666666666666666,
              "#ed7953"
             ],
             [
              0.7777777777777778,
              "#fb9f3a"
             ],
             [
              0.8888888888888888,
              "#fdca26"
             ],
             [
              1,
              "#f0f921"
             ]
            ],
            "type": "histogram2d"
           }
          ],
          "histogram2dcontour": [
           {
            "colorbar": {
             "outlinewidth": 0,
             "ticks": ""
            },
            "colorscale": [
             [
              0,
              "#0d0887"
             ],
             [
              0.1111111111111111,
              "#46039f"
             ],
             [
              0.2222222222222222,
              "#7201a8"
             ],
             [
              0.3333333333333333,
              "#9c179e"
             ],
             [
              0.4444444444444444,
              "#bd3786"
             ],
             [
              0.5555555555555556,
              "#d8576b"
             ],
             [
              0.6666666666666666,
              "#ed7953"
             ],
             [
              0.7777777777777778,
              "#fb9f3a"
             ],
             [
              0.8888888888888888,
              "#fdca26"
             ],
             [
              1,
              "#f0f921"
             ]
            ],
            "type": "histogram2dcontour"
           }
          ],
          "mesh3d": [
           {
            "colorbar": {
             "outlinewidth": 0,
             "ticks": ""
            },
            "type": "mesh3d"
           }
          ],
          "parcoords": [
           {
            "line": {
             "colorbar": {
              "outlinewidth": 0,
              "ticks": ""
             }
            },
            "type": "parcoords"
           }
          ],
          "pie": [
           {
            "automargin": true,
            "type": "pie"
           }
          ],
          "scatter": [
           {
            "fillpattern": {
             "fillmode": "overlay",
             "size": 10,
             "solidity": 0.2
            },
            "type": "scatter"
           }
          ],
          "scatter3d": [
           {
            "line": {
             "colorbar": {
              "outlinewidth": 0,
              "ticks": ""
             }
            },
            "marker": {
             "colorbar": {
              "outlinewidth": 0,
              "ticks": ""
             }
            },
            "type": "scatter3d"
           }
          ],
          "scattercarpet": [
           {
            "marker": {
             "colorbar": {
              "outlinewidth": 0,
              "ticks": ""
             }
            },
            "type": "scattercarpet"
           }
          ],
          "scattergeo": [
           {
            "marker": {
             "colorbar": {
              "outlinewidth": 0,
              "ticks": ""
             }
            },
            "type": "scattergeo"
           }
          ],
          "scattergl": [
           {
            "marker": {
             "colorbar": {
              "outlinewidth": 0,
              "ticks": ""
             }
            },
            "type": "scattergl"
           }
          ],
          "scattermap": [
           {
            "marker": {
             "colorbar": {
              "outlinewidth": 0,
              "ticks": ""
             }
            },
            "type": "scattermap"
           }
          ],
          "scattermapbox": [
           {
            "marker": {
             "colorbar": {
              "outlinewidth": 0,
              "ticks": ""
             }
            },
            "type": "scattermapbox"
           }
          ],
          "scatterpolar": [
           {
            "marker": {
             "colorbar": {
              "outlinewidth": 0,
              "ticks": ""
             }
            },
            "type": "scatterpolar"
           }
          ],
          "scatterpolargl": [
           {
            "marker": {
             "colorbar": {
              "outlinewidth": 0,
              "ticks": ""
             }
            },
            "type": "scatterpolargl"
           }
          ],
          "scatterternary": [
           {
            "marker": {
             "colorbar": {
              "outlinewidth": 0,
              "ticks": ""
             }
            },
            "type": "scatterternary"
           }
          ],
          "surface": [
           {
            "colorbar": {
             "outlinewidth": 0,
             "ticks": ""
            },
            "colorscale": [
             [
              0,
              "#0d0887"
             ],
             [
              0.1111111111111111,
              "#46039f"
             ],
             [
              0.2222222222222222,
              "#7201a8"
             ],
             [
              0.3333333333333333,
              "#9c179e"
             ],
             [
              0.4444444444444444,
              "#bd3786"
             ],
             [
              0.5555555555555556,
              "#d8576b"
             ],
             [
              0.6666666666666666,
              "#ed7953"
             ],
             [
              0.7777777777777778,
              "#fb9f3a"
             ],
             [
              0.8888888888888888,
              "#fdca26"
             ],
             [
              1,
              "#f0f921"
             ]
            ],
            "type": "surface"
           }
          ],
          "table": [
           {
            "cells": {
             "fill": {
              "color": "#EBF0F8"
             },
             "line": {
              "color": "white"
             }
            },
            "header": {
             "fill": {
              "color": "#C8D4E3"
             },
             "line": {
              "color": "white"
             }
            },
            "type": "table"
           }
          ]
         },
         "layout": {
          "annotationdefaults": {
           "arrowcolor": "#2a3f5f",
           "arrowhead": 0,
           "arrowwidth": 1
          },
          "autotypenumbers": "strict",
          "coloraxis": {
           "colorbar": {
            "outlinewidth": 0,
            "ticks": ""
           }
          },
          "colorscale": {
           "diverging": [
            [
             0,
             "#8e0152"
            ],
            [
             0.1,
             "#c51b7d"
            ],
            [
             0.2,
             "#de77ae"
            ],
            [
             0.3,
             "#f1b6da"
            ],
            [
             0.4,
             "#fde0ef"
            ],
            [
             0.5,
             "#f7f7f7"
            ],
            [
             0.6,
             "#e6f5d0"
            ],
            [
             0.7,
             "#b8e186"
            ],
            [
             0.8,
             "#7fbc41"
            ],
            [
             0.9,
             "#4d9221"
            ],
            [
             1,
             "#276419"
            ]
           ],
           "sequential": [
            [
             0,
             "#0d0887"
            ],
            [
             0.1111111111111111,
             "#46039f"
            ],
            [
             0.2222222222222222,
             "#7201a8"
            ],
            [
             0.3333333333333333,
             "#9c179e"
            ],
            [
             0.4444444444444444,
             "#bd3786"
            ],
            [
             0.5555555555555556,
             "#d8576b"
            ],
            [
             0.6666666666666666,
             "#ed7953"
            ],
            [
             0.7777777777777778,
             "#fb9f3a"
            ],
            [
             0.8888888888888888,
             "#fdca26"
            ],
            [
             1,
             "#f0f921"
            ]
           ],
           "sequentialminus": [
            [
             0,
             "#0d0887"
            ],
            [
             0.1111111111111111,
             "#46039f"
            ],
            [
             0.2222222222222222,
             "#7201a8"
            ],
            [
             0.3333333333333333,
             "#9c179e"
            ],
            [
             0.4444444444444444,
             "#bd3786"
            ],
            [
             0.5555555555555556,
             "#d8576b"
            ],
            [
             0.6666666666666666,
             "#ed7953"
            ],
            [
             0.7777777777777778,
             "#fb9f3a"
            ],
            [
             0.8888888888888888,
             "#fdca26"
            ],
            [
             1,
             "#f0f921"
            ]
           ]
          },
          "colorway": [
           "#636efa",
           "#EF553B",
           "#00cc96",
           "#ab63fa",
           "#FFA15A",
           "#19d3f3",
           "#FF6692",
           "#B6E880",
           "#FF97FF",
           "#FECB52"
          ],
          "font": {
           "color": "#2a3f5f"
          },
          "geo": {
           "bgcolor": "white",
           "lakecolor": "white",
           "landcolor": "#E5ECF6",
           "showlakes": true,
           "showland": true,
           "subunitcolor": "white"
          },
          "hoverlabel": {
           "align": "left"
          },
          "hovermode": "closest",
          "mapbox": {
           "style": "light"
          },
          "paper_bgcolor": "white",
          "plot_bgcolor": "#E5ECF6",
          "polar": {
           "angularaxis": {
            "gridcolor": "white",
            "linecolor": "white",
            "ticks": ""
           },
           "bgcolor": "#E5ECF6",
           "radialaxis": {
            "gridcolor": "white",
            "linecolor": "white",
            "ticks": ""
           }
          },
          "scene": {
           "xaxis": {
            "backgroundcolor": "#E5ECF6",
            "gridcolor": "white",
            "gridwidth": 2,
            "linecolor": "white",
            "showbackground": true,
            "ticks": "",
            "zerolinecolor": "white"
           },
           "yaxis": {
            "backgroundcolor": "#E5ECF6",
            "gridcolor": "white",
            "gridwidth": 2,
            "linecolor": "white",
            "showbackground": true,
            "ticks": "",
            "zerolinecolor": "white"
           },
           "zaxis": {
            "backgroundcolor": "#E5ECF6",
            "gridcolor": "white",
            "gridwidth": 2,
            "linecolor": "white",
            "showbackground": true,
            "ticks": "",
            "zerolinecolor": "white"
           }
          },
          "shapedefaults": {
           "line": {
            "color": "#2a3f5f"
           }
          },
          "ternary": {
           "aaxis": {
            "gridcolor": "white",
            "linecolor": "white",
            "ticks": ""
           },
           "baxis": {
            "gridcolor": "white",
            "linecolor": "white",
            "ticks": ""
           },
           "bgcolor": "#E5ECF6",
           "caxis": {
            "gridcolor": "white",
            "linecolor": "white",
            "ticks": ""
           }
          },
          "title": {
           "x": 0.05
          },
          "xaxis": {
           "automargin": true,
           "gridcolor": "white",
           "linecolor": "white",
           "ticks": "",
           "title": {
            "standoff": 15
           },
           "zerolinecolor": "white",
           "zerolinewidth": 2
          },
          "yaxis": {
           "automargin": true,
           "gridcolor": "white",
           "linecolor": "white",
           "ticks": "",
           "title": {
            "standoff": 15
           },
           "zerolinecolor": "white",
           "zerolinewidth": 2
          }
         }
        },
        "title": {
         "text": "Box plot of age"
        },
        "xaxis": {
         "anchor": "y",
         "domain": [
          0,
          1
         ]
        },
        "yaxis": {
         "anchor": "x",
         "domain": [
          0,
          1
         ],
         "title": {
          "text": "age"
         }
        }
       }
      }
     },
     "metadata": {},
     "output_type": "display_data"
    },
    {
     "data": {
      "application/vnd.plotly.v1+json": {
       "config": {
        "plotlyServerURL": "https://plot.ly"
       },
       "data": [
        {
         "alignmentgroup": "True",
         "hovertemplate": "trestbps=%{y}<extra></extra>",
         "legendgroup": "",
         "marker": {
          "color": "#636efa"
         },
         "name": "",
         "notched": false,
         "offsetgroup": "",
         "orientation": "v",
         "showlegend": false,
         "type": "box",
         "x0": " ",
         "xaxis": "x",
         "y": {
          "bdata": "AAAAAAAgYkAAAAAAAABkQAAAAAAAAF5AAAAAAABAYEAAAAAAAEBgQAAAAAAAAF5AAAAAAACAYUAAAAAAAABeQAAAAAAAQGBAAAAAAACAYUAAAAAAAIBhQAAAAAAAgGFAAAAAAABAYEAAAAAAAABeQAAAAAAAgGVAAAAAAADAYkAAAAAAAIBbQAAAAAAAgGFAAAAAAABAYEAAAAAAAEBgQAAAAAAAgFtAAAAAAADAYkAAAAAAAABeQAAAAAAAgGBAAAAAAABAYEAAAAAAAABeQAAAAAAAAF5AAAAAAADAYkAAAAAAAMBiQAAAAAAAgFtAAAAAAACAYUAAAAAAAEBdQAAAAAAAgGFAAAAAAADgYEAAAAAAAEBgQAAAAAAAgGFAAAAAAAAAXkAAAAAAAMBiQAAAAAAAgGBAAAAAAADAYkAAAAAAAMBiQAAAAAAAgGFAAAAAAAAAZEAAAAAAAMBiQAAAAAAAQGBAAAAAAAAAXEAAAAAAAIBbQAAAAAAAwGJAAAAAAACAYUAAAAAAAEBgQAAAAAAAQFpAAAAAAAAAXkAAAAAAAABcQAAAAAAAQGBAAAAAAABAYEAAAAAAAABfQAAAAAAAgGFAAAAAAACAW0AAAAAAAEBfQAAAAAAAQF9AAAAAAABAYEAAAAAAAMBhQAAAAAAAAGBAAAAAAADgYEAAAAAAAABeQAAAAAAAIGJAAAAAAACAYUAAAAAAAMBiQAAAAAAAQGVAAAAAAADAYkAAAAAAAGBjQAAAAAAAQF9AAAAAAAAAXkAAAAAAAIBbQAAAAAAAgFtAAAAAAAAAZEAAAAAAAEBfQAAAAAAAgGFAAAAAAABAYEAAAAAAAMBiQAAAAAAAAFpAAAAAAABAYEAAAAAAAIBhQAAAAAAAgGZAAAAAAAAAXkAAAAAAAIBhQAAAAAAAQGFAAAAAAAAAYEAAAAAAAEBhQAAAAAAAQGBAAAAAAAAAXkAAAAAAAABkQAAAAAAAQGBAAAAAAAAAW0AAAAAAAOBgQAAAAAAAAGBAAAAAAACAW0AAAAAAAMBiQAAAAAAAwGBAAAAAAACAXkAAAAAAAMBcQAAAAAAAgF1AAAAAAAAAYEAAAAAAAIBbQAAAAAAAAF5AAAAAAAAAW0AAAAAAAIBhQAAAAAAAAGBAAAAAAAAAXkAAAAAAAIBdQAAAAAAAIGJAAAAAAABAX0AAAAAAAIBdQAAAAAAAgGBAAAAAAABAYEAAAAAAAOBgQAAAAAAAgGFAAAAAAABAYUAAAAAAAEBgQAAAAAAA4GBAAAAAAABAYEAAAAAAAMBiQAAAAAAAAFlAAAAAAACAYUAAAAAAAEBhQAAAAAAAQGBAAAAAAAAAaUAAAAAAAIBbQAAAAAAAAF5AAAAAAAAAX0AAAAAAAABeQAAAAAAAgFdAAAAAAABAYEAAAAAAAIBhQAAAAAAAgF5AAAAAAADgYEAAAAAAACBiQAAAAAAAAF5AAAAAAAAAXkAAAAAAAEBfQAAAAAAAgGFAAAAAAABAZUAAAAAAAABgQAAAAAAAQF9AAAAAAABAWkAAAAAAAABbQAAAAAAAoGRAAAAAAAAAXEAAAAAAAABgQAAAAAAAgFlAAAAAAAAAY0AAAAAAAIBZQAAAAAAAwFxAAAAAAAAAZEAAAAAAAABeQAAAAAAAQGBAAAAAAACAYUAAAAAAAEBfQAAAAAAAgGFAAAAAAACAXUAAAAAAAEBZQAAAAAAAQF9AAAAAAACAW0AAAAAAAABZQAAAAAAAAF9AAAAAAACAYEAAAAAAAEBhQAAAAAAAgGBAAAAAAACAX0AAAAAAAABcQAAAAAAAAGRAAAAAAADAYUAAAAAAAMBlQAAAAAAAgGFAAAAAAAAgYkAAAAAAAABjQAAAAAAAAFtAAAAAAACAYEAAAAAAAEBgQAAAAAAAQGBAAAAAAAAAX0AAAAAAAMBgQAAAAAAAgGJAAAAAAABAZkAAAAAAAMBjQAAAAAAAgGFAAAAAAAAAXkAAAAAAAABkQAAAAAAAAGhAAAAAAACAYUAAAAAAACBgQAAAAAAAgGFAAAAAAACAYEAAAAAAAEBhQAAAAAAAAF5AAAAAAAAAWUAAAAAAAABkQAAAAAAAQGFAAAAAAAAAXkAAAAAAAABkQAAAAAAAgFtAAAAAAACAZkAAAAAAAMBiQAAAAAAAgGFAAAAAAACAW0AAAAAAAMBhQAAAAAAAAGBAAAAAAAAAYkAAAAAAAEBgQAAAAAAAwGJAAAAAAAAAXkAAAAAAAABeQAAAAAAAQGBAAAAAAABAZkAAAAAAAABcQAAAAAAAAF5AAAAAAABAWkAAAAAAAEBhQAAAAAAAQGBAAAAAAABAYUAAAAAAAABcQAAAAAAAAFtAAAAAAACAV0AAAAAAAMBeQAAAAAAAAFtAAAAAAACAXUAAAAAAAABcQAAAAAAAAGNAAAAAAACAW0AAAAAAAABcQAAAAAAAAGFAAAAAAACAZkAAAAAAAIBdQAAAAAAAAF5AAAAAAAAAZEAAAAAAAIBeQAAAAAAAQGBAAAAAAAAAXkAAAAAAAMBgQAAAAAAAAF5AAAAAAACAW0AAAAAAAIBfQAAAAAAAQGBAAAAAAADAYEAAAAAAAABeQAAAAAAAAF5AAAAAAAAAWUAAAAAAAIBbQAAAAAAAQF9AAAAAAAAAYEAAAAAAAIBbQAAAAAAAQGJAAAAAAAAAYEAAAAAAAABeQAAAAAAAwFxAAAAAAAAAXkAAAAAAAIBaQAAAAAAAgGFAAAAAAACAY0AAAAAAAABfQAAAAAAAgF1AAAAAAAAAYUAAAAAAAMBiQAAAAAAAAF5AAAAAAABAYUAAAAAAAABhQAAAAAAAAGBAAAAAAACAX0AAAAAAAABjQAAAAAAAQGBAAAAAAACAYUAAAAAAAABkQAAAAAAAgGFAAAAAAAAAXEAAAAAAAMBgQAAAAAAAQGVAAAAAAABAYkAAAAAAAEBhQAAAAAAAQGNAAAAAAABAYEAAAAAAAIBbQAAAAAAAQGBAAAAAAAAAYEAAAAAAAIBeQAAAAAAAgGJAAAAAAACAXEAAAAAAAEBlQAAAAAAAQF9AAAAAAABAYEAAAAAAAABeQAAAAAAAAGNAAAAAAACAYEAAAAAAAABeQAAAAAAAgGFAAAAAAAAAX0AAAAAAAABeQAAAAAAAgGRAAAAAAACAYUAAAAAAAIBbQAAAAAAAAGJAAAAAAABAYEAAAAAAAEBgQAAAAAAAQGFAAAAAAABAYEAAAAAAAABeQAAAAAAAgGFAAAAAAABAZUAAAAAAAABZQAAAAAAAQFpAAAAAAACAW0AAAAAAAEBfQAAAAAAAAF5AAAAAAABAYEAAAAAAAMBiQAAAAAAAgFhAAAAAAAAAXkAAAAAAAIBhQAAAAAAAAF5AAAAAAADAYkAAAAAAAABeQAAAAAAAAFxAAAAAAABAYEAAAAAAAMBiQAAAAAAAAF5AAAAAAABAYEAAAAAAAEBgQAAAAAAAQGBAAAAAAABAYEAAAAAAAABeQAAAAAAAQGBAAAAAAAAAXkAAAAAAAIBhQAAAAAAAIGJAAAAAAACAW0AAAAAAAABeQAAAAAAAAF5AAAAAAAAAXkAAAAAAAEBgQAAAAAAAwGdAAAAAAAAAXkAAAAAAAABkQAAAAAAAgFtAAAAAAABAYEAAAAAAAEBgQAAAAAAAgGFAAAAAAABAYEAAAAAAAEBgQAAAAAAAgGFAAAAAAACAW0AAAAAAAEBfQAAAAAAAQGBAAAAAAAAAXkAAAAAAAABeQAAAAAAAQF9AAAAAAAAAXEAAAAAAAMBcQAAAAAAAAF5AAAAAAAAAXkAAAAAAAMBiQAAAAAAAAF5AAAAAAAAAZEAAAAAAAIBhQAAAAAAAAFlAAAAAAAAAXkAAAAAAAABeQAAAAAAAAF5AAAAAAAAAXkAAAAAAAMBiQAAAAAAAwGJAAAAAAADAYUAAAAAAAABeQAAAAAAAAF5AAAAAAABAYEAAAAAAAMBiQAAAAAAAQGBAAAAAAACAZkAAAAAAAIBgQAAAAAAAgGFAAAAAAADgYEAAAAAAAABeQAAAAAAAgGFAAAAAAABAYEAAAAAAAIBhQAAAAAAAAF5AAAAAAADAYkAAAAAAAIBbQAAAAAAAgFtAAAAAAACAZkAAAAAAAIBhQAAAAAAAQGBAAAAAAACAW0AAAAAAAABkQAAAAAAAgGFAj8L1KFyvYEAAAAAAAABeQAAAAAAAAF5AAAAAAAAAXkAAAAAAAABbQAAAAAAAAF5AAAAAAADAYkAAAAAAAABZQAAAAAAAQGBAAAAAAACAYUAAAAAAAIBbQAAAAAAAgFtAAAAAAACAW0AAAAAAAABfQAAAAAAAQGBAAAAAAAAAWUAAAAAAAIBhQAAAAAAAAF5AAAAAAACAYUAAAAAAAIBbQAAAAAAAAF5AAAAAAAAAXkAAAAAAAIBhQAAAAAAAQGVAAAAAAACAYUAAAAAAAMBiQAAAAAAAAGRAAAAAAACAW0AAAAAAAEBgQAAAAAAAwGJAAAAAAABAX0AAAAAAAEBgQAAAAAAAQGBAAAAAAAAAXkAAAAAAAIBhQAAAAAAAQF9AAAAAAABAYEAAAAAAAABeQAAAAAAAgGFAAAAAAAAAZEAAAAAAAIBhQAAAAAAAQFxAAAAAAACAYUAAAAAAAABeQAAAAAAAAF5AAAAAAACAYUAAAAAAAABeQAAAAAAAAF9AAAAAAABAYEAAAAAAAIBhQAAAAAAAAF5AAAAAAAAAXkAAAAAAAABeQAAAAAAAQGBAAAAAAACAYUAAAAAAAMBiQAAAAAAAAGRAAAAAAAAAXkAAAAAAAIBbQAAAAAAAAF5AAAAAAAAAXkAAAAAAAABkQAAAAAAAAGRAAAAAAAAAXkAAAAAAAMBiQAAAAAAAwGJAAAAAAACAW0AAAAAAAIBeQAAAAAAAQGBAAAAAAAAAXkAAAAAAAIBhQAAAAAAAIGJAAAAAAACAW0AAAAAAAABeQAAAAAAAAF5AAAAAAACAYUAAAAAAAEBgQAAAAAAAQGBAAAAAAABAYEAAAAAAAEBgQAAAAAAAAF5AAAAAAABAYEAAAAAAAIBmQAAAAAAAgGFAAAAAAABAYEAAAAAAAEBgQAAAAAAAgGFAAAAAAADgYEAAAAAAAEBgQAAAAAAAgGFAAAAAAABAYEAAAAAAAIBmQAAAAAAAgGFAAAAAAAAAXkAAAAAAAEBgQAAAAAAAQF9AAAAAAAAAZEAAAAAAAIBhQAAAAAAAAF5AAAAAAAAAWUAAAAAAAIBhQAAAAAAAgFtAAAAAAAAAXkAAAAAAAIBhQAAAAAAAgFtAAAAAAAAAXkAAAAAAAABXQAAAAAAAAF5AAAAAAACAW0AAAAAAAABeQAAAAAAAwGJAAAAAAACAW0AAAAAAAIBdQAAAAAAAAF5AAAAAAACAYUAAAAAAAMBiQAAAAAAAgFpAAAAAAAAAXkAAAAAAAABkQAAAAAAAAGRAAAAAAADAXEAAAAAAAEBgQAAAAAAAgGFAAAAAAAAgYkAAAAAAAABkQAAAAAAAQGBAAAAAAABAX0AAAAAAAEBfQAAAAAAAgGFAAAAAAACAYUAAAAAAAEBgQAAAAAAAQGBAAAAAAAAAWUAAAAAAAMBiQAAAAAAAgGFAAAAAAACAXUAAAAAAAIBbQAAAAAAAgFtAAAAAAADAYkAAAAAAAABeQAAAAAAAQGBAAAAAAAAAXkAAAAAAAEBgQAAAAAAAgF5AAAAAAAAAZEAAAAAAAABkQAAAAAAAAGRAAAAAAABAYEAAAAAAAABeQAAAAAAAQGVAAAAAAAAAXkAAAAAAAABeQAAAAAAAQGBAAAAAAABAYEAAAAAAAIBhQAAAAAAAAGlAAAAAAACAYUAAAAAAAMBiQAAAAAAAwGJAAAAAAAAAZEAAAAAAAEBgQAAAAAAAQGBAAAAAAAAAXkAAAAAAAMBiQAAAAAAAQGBAAAAAAACAYUAAAAAAAOBgQAAAAAAAQGFAAAAAAABAYEAAAAAAAIBhQAAAAAAA4GBAAAAAAAAAXEAAAAAAAEBgQAAAAAAAgGFAAAAAAAAAZEAAAAAAACBiQAAAAAAAgGZAAAAAAACAYUAAAAAAAIBhQAAAAAAAAGRAAAAAAAAgYkAAAAAAAABeQAAAAAAAwGJAAAAAAABAZUAAAAAAAABhQAAAAAAAQGBAAAAAAACAYUAAAAAAAEBlQAAAAAAAgGFAAAAAAAAAXkAAAAAAAIBhQAAAAAAA4GBAAAAAAAAAXkAAAAAAAABkQAAAAAAAAGBAAAAAAADAYkAAAAAAAIBhQAAAAAAAgGFAAAAAAACAYUAAAAAAAABkQAAAAAAAQGBAAAAAAABgY0AAAAAAAIBmQAAAAAAAQGBAAAAAAADAV0AAAAAAAMBcQPYoXI/CBWBAAAAAAACAW0AAAAAAAEBaQAAAAAAAgFtAAAAAAAAAWUAAAAAAAMBcQAAAAAAA4GBAAAAAAADAYkAAAAAAAMBXQAAAAAAAQF9AAAAAAABAWkAAAAAAACBiQAAAAAAAAFlAAAAAAADAXEAAAAAAAIBhQAAAAAAAgFtAAAAAAAAAWUAAAAAAAMBcQAAAAAAAgFtAAAAAAABgY0AAAAAAAIBbQAAAAAAAAGRAAAAAAADAXEAAAAAAAABkQAAAAAAAwFxAAAAAAAAAXkAAAAAAACBiQAAAAAAAAF5AAAAAAACAW0AAAAAAAABeQAAAAAAAQGBAAAAAAABAYEAAAAAAAIBhQAAAAAAAwFdAAAAAAABAYEAAAAAAAOBgQAAAAAAAoGRAAAAAAADAV0AAAAAAAABeQAAAAAAAQGBAAAAAAABAWkAAAAAAAABkQAAAAAAAAF5AAAAAAABAX0AAAAAAAEBgQAAAAAAAAFRAAAAAAAAAXkAAAAAAAEBgQAAAAAAAgGZAAAAAAACAYUAAAAAAAMBcQAAAAAAAAF5AAAAAAACAYUAAAAAAAABeQAAAAAAAQF9AAAAAAABgY0AAAAAAAMBcQAAAAAAAAF5AAAAAAAAAXkAAAAAAAEBfQAAAAAAAgGFAAAAAAABAWkAAAAAAAIBbQAAAAAAAgGFAAAAAAACAYUAAAAAAAABkQAAAAAAAwFdAAAAAAADAXEAAAAAAAEBgQAAAAAAAQGVAAAAAAABAX0AAAAAAAIBbQAAAAAAAAF5AAAAAAABAX0AAAAAAAOBgQAAAAAAAwFxAAAAAAABAX0AAAAAAAEBgQAAAAAAA4GBAAAAAAAAAZEAAAAAAAABkQAAAAAAAAGlAAAAAAABAWkAAAAAAAIBbQAAAAAAAQF9AAAAAAABAYEAAAAAAAEBgQAAAAAAAwGJAAAAAAADAYkAAAAAAAABkQAAAAAAAgGFAAAAAAAAAXkAAAAAAAABeQAAAAAAAAGRAAAAAAADAXEAAAAAAAMBcQAAAAAAAwGJAAAAAAAAAWUAAAAAAAIBhQAAAAAAAwGJAAAAAAADAYkAAAAAAACBnQAAAAAAAAGlAAAAAAADAV0AAAAAAAIBbQAAAAAAAwFxAAAAAAAAgYkAAAAAAAGBjQAAAAAAAAGRAAAAAAABgY0AAAAAAAMBiQAAAAAAAIGJAAAAAAADgYEAAAAAAACBiQAAAAAAA4GBAXI/C9SgsYUAAAAAAAMBcQAAAAAAAgGFAAAAAAAAAZEAAAAAAAABkQAAAAAAAIGJAAAAAAACAYUAAAAAAAEBgQAAAAAAAgGBAAAAAAADAYUAAAAAAAIBbQAAAAAAAAF5AAAAAAADAYkAAAAAAAIBmQAAAAAAAAF5AAAAAAAAAZEAAAAAAAIBfQAAAAAAAgGFAAAAAAACAW0C4HoXrURhhQAAAAAAAAGBAAAAAAAAAXkAAAAAAAEBlQAAAAAAAgFtAAAAAAACAX0AAAAAAAABjQAAAAAAAAF1AAAAAAAAAXkAAAAAAAEBgQHsUrkfhMmFAAAAAAAAAYEAAAAAAAEBgQBSuR+F6bGBAAAAAAABAYEAAAAAAAABeQBSuR+F61F5AKVyPwvXYX0AAAAAAAABfQAAAAAAAAGRAAAAAAACAXkAAAAAAAABiQI/C9Shcr2BAAAAAAAAAXkAfhetRuI5hQAAAAAAAQGNAAAAAAAAAXkAAAAAAAEBfQKRwPQrXi2BAAAAAAAAAWkAK16NwPRJiQAAAAAAAAGFAAAAAAACAXkAAAAAAAABgQNejcD0KN2BAAAAAAADAYEAAAAAAAABeQEjhehSuv2FAAAAAAAAAY0AAAAAAAABfQAAAAAAAgF9AAAAAAABAYUAAAAAAAEBjQAAAAAAAkGFAuB6F61EYYUAAAAAAAEBmQIXrUbgeTWBAAAAAAACAW0AAAAAAAEBgQAAAAAAAQGVAAAAAAACAX0AAAAAAAIBhQAAAAAAAwGFAAAAAAAAAXkCamZmZmdlgQBSuR+F6rGFAAAAAAACAW0AAAAAAAIBhQGZmZmZmjmBAAAAAAAAAYUAAAAAAAABeQAAAAAAAQGVAAAAAAABAYEDhehSuR7FgQAAAAAAAwGFAAAAAAADAYUAAAAAAAIBgQAAAAAAAQGJAAAAAAAAAZEAAAAAAAOBgQAAAAAAAAGFAAAAAAABAYEAAAAAAAIBhQEjhehSuJ2BAAAAAAADAY0AK16NwPYpgQAAAAAAAAGFAAAAAAACAWkAAAAAAAABeQAAAAAAAgFtAAAAAAADoYEAAAAAAAABkQFyPwvUoZGBAAAAAAAAAXEAAAAAAAIBeQAAAAAAAQGBAAAAAAADAYkAAAAAAAMBiQAAAAAAAgFlAAAAAAAAAWEAAAAAAAEBgQAAAAAAAAF5AAAAAAAAAYkAAAAAAAABfQAAAAAAAwGJAhetRuB5FX0DNzMzMzExgQNejcD0Kf2BAKVyPwvVQYECPwvUoXNdgQB+F61G4TmBAAAAAAABAYUAAAAAAAABdQAAAAAAAgFtAAAAAAABAX0CF61G4Hh1hQKRwPQrXk2FAAAAAAADAYkAAAAAAAEBgQAAAAAAAgFtAcT0K16PIYEAAAAAAAABaQAAAAAAAQGFAAAAAAABAZUAAAAAAAIBhQDMzMzMzy2BAAAAAAACAYEAAAAAAAMBhQAAAAAAAAFxAFK5H4Xq0YUAAAAAAAIBlQAAAAAAAAF5AXI/C9SjkYECamZmZmWFhQAAAAAAAYGNAAAAAAADAYkAAAAAAAABkQFK4HoXrEWFAAAAAAABQYUAAAAAAAMBgQFyPwvUo5GBArkfhehRGYUAAAAAAAIBhQKRwPQrXw2BAAAAAAAAAYkDhehSuR7FgQAAAAAAAwGJAAAAAAABAYEAAAAAAAIBbQAAAAAAAwGNAAAAAAAAAYECuR+F6FL5hQAAAAAAAwGJAAAAAAAAAZEAK16NwPcJhQB+F61G45mFAw/UoXI/6YUAUrkfheqxhQAAAAAAAgGNAzczMzMxkYkDhehSuR7lgQAAAAAAAgGFAAAAAAACAXkCkcD0K1zNhQPYoXI/C1WFAAAAAAACAZkAAAAAAAABfQAAAAAAAgF1AAAAAAACAYUAAAAAAAIBhQHE9CtejoGFAAAAAAAAAWUAAAAAAAMBnQAAAAAAAQGBAAAAAAAAAZEAAAAAAAEBgQAAAAAAAgF5AAAAAAACYYUAAAAAAAABeQAAAAAAAQGBAAAAAAABAYEB7FK5H4dJgQAAAAAAAAF5AAAAAAADAYkAAAAAAAGBjQAAAAAAAwGBAAAAAAACAXEAAAAAAAABkQAAAAAAAAGJAAAAAAADAY0AAAAAAAMBgQAAAAAAAwF9ArkfhehROYUAAAAAAAIBeQD0K16NwhWJAAAAAAAAAXkA=",
          "dtype": "f8"
         },
         "y0": " ",
         "yaxis": "y"
        }
       ],
       "layout": {
        "boxmode": "group",
        "legend": {
         "tracegroupgap": 0
        },
        "template": {
         "data": {
          "bar": [
           {
            "error_x": {
             "color": "#2a3f5f"
            },
            "error_y": {
             "color": "#2a3f5f"
            },
            "marker": {
             "line": {
              "color": "#E5ECF6",
              "width": 0.5
             },
             "pattern": {
              "fillmode": "overlay",
              "size": 10,
              "solidity": 0.2
             }
            },
            "type": "bar"
           }
          ],
          "barpolar": [
           {
            "marker": {
             "line": {
              "color": "#E5ECF6",
              "width": 0.5
             },
             "pattern": {
              "fillmode": "overlay",
              "size": 10,
              "solidity": 0.2
             }
            },
            "type": "barpolar"
           }
          ],
          "carpet": [
           {
            "aaxis": {
             "endlinecolor": "#2a3f5f",
             "gridcolor": "white",
             "linecolor": "white",
             "minorgridcolor": "white",
             "startlinecolor": "#2a3f5f"
            },
            "baxis": {
             "endlinecolor": "#2a3f5f",
             "gridcolor": "white",
             "linecolor": "white",
             "minorgridcolor": "white",
             "startlinecolor": "#2a3f5f"
            },
            "type": "carpet"
           }
          ],
          "choropleth": [
           {
            "colorbar": {
             "outlinewidth": 0,
             "ticks": ""
            },
            "type": "choropleth"
           }
          ],
          "contour": [
           {
            "colorbar": {
             "outlinewidth": 0,
             "ticks": ""
            },
            "colorscale": [
             [
              0,
              "#0d0887"
             ],
             [
              0.1111111111111111,
              "#46039f"
             ],
             [
              0.2222222222222222,
              "#7201a8"
             ],
             [
              0.3333333333333333,
              "#9c179e"
             ],
             [
              0.4444444444444444,
              "#bd3786"
             ],
             [
              0.5555555555555556,
              "#d8576b"
             ],
             [
              0.6666666666666666,
              "#ed7953"
             ],
             [
              0.7777777777777778,
              "#fb9f3a"
             ],
             [
              0.8888888888888888,
              "#fdca26"
             ],
             [
              1,
              "#f0f921"
             ]
            ],
            "type": "contour"
           }
          ],
          "contourcarpet": [
           {
            "colorbar": {
             "outlinewidth": 0,
             "ticks": ""
            },
            "type": "contourcarpet"
           }
          ],
          "heatmap": [
           {
            "colorbar": {
             "outlinewidth": 0,
             "ticks": ""
            },
            "colorscale": [
             [
              0,
              "#0d0887"
             ],
             [
              0.1111111111111111,
              "#46039f"
             ],
             [
              0.2222222222222222,
              "#7201a8"
             ],
             [
              0.3333333333333333,
              "#9c179e"
             ],
             [
              0.4444444444444444,
              "#bd3786"
             ],
             [
              0.5555555555555556,
              "#d8576b"
             ],
             [
              0.6666666666666666,
              "#ed7953"
             ],
             [
              0.7777777777777778,
              "#fb9f3a"
             ],
             [
              0.8888888888888888,
              "#fdca26"
             ],
             [
              1,
              "#f0f921"
             ]
            ],
            "type": "heatmap"
           }
          ],
          "histogram": [
           {
            "marker": {
             "pattern": {
              "fillmode": "overlay",
              "size": 10,
              "solidity": 0.2
             }
            },
            "type": "histogram"
           }
          ],
          "histogram2d": [
           {
            "colorbar": {
             "outlinewidth": 0,
             "ticks": ""
            },
            "colorscale": [
             [
              0,
              "#0d0887"
             ],
             [
              0.1111111111111111,
              "#46039f"
             ],
             [
              0.2222222222222222,
              "#7201a8"
             ],
             [
              0.3333333333333333,
              "#9c179e"
             ],
             [
              0.4444444444444444,
              "#bd3786"
             ],
             [
              0.5555555555555556,
              "#d8576b"
             ],
             [
              0.6666666666666666,
              "#ed7953"
             ],
             [
              0.7777777777777778,
              "#fb9f3a"
             ],
             [
              0.8888888888888888,
              "#fdca26"
             ],
             [
              1,
              "#f0f921"
             ]
            ],
            "type": "histogram2d"
           }
          ],
          "histogram2dcontour": [
           {
            "colorbar": {
             "outlinewidth": 0,
             "ticks": ""
            },
            "colorscale": [
             [
              0,
              "#0d0887"
             ],
             [
              0.1111111111111111,
              "#46039f"
             ],
             [
              0.2222222222222222,
              "#7201a8"
             ],
             [
              0.3333333333333333,
              "#9c179e"
             ],
             [
              0.4444444444444444,
              "#bd3786"
             ],
             [
              0.5555555555555556,
              "#d8576b"
             ],
             [
              0.6666666666666666,
              "#ed7953"
             ],
             [
              0.7777777777777778,
              "#fb9f3a"
             ],
             [
              0.8888888888888888,
              "#fdca26"
             ],
             [
              1,
              "#f0f921"
             ]
            ],
            "type": "histogram2dcontour"
           }
          ],
          "mesh3d": [
           {
            "colorbar": {
             "outlinewidth": 0,
             "ticks": ""
            },
            "type": "mesh3d"
           }
          ],
          "parcoords": [
           {
            "line": {
             "colorbar": {
              "outlinewidth": 0,
              "ticks": ""
             }
            },
            "type": "parcoords"
           }
          ],
          "pie": [
           {
            "automargin": true,
            "type": "pie"
           }
          ],
          "scatter": [
           {
            "fillpattern": {
             "fillmode": "overlay",
             "size": 10,
             "solidity": 0.2
            },
            "type": "scatter"
           }
          ],
          "scatter3d": [
           {
            "line": {
             "colorbar": {
              "outlinewidth": 0,
              "ticks": ""
             }
            },
            "marker": {
             "colorbar": {
              "outlinewidth": 0,
              "ticks": ""
             }
            },
            "type": "scatter3d"
           }
          ],
          "scattercarpet": [
           {
            "marker": {
             "colorbar": {
              "outlinewidth": 0,
              "ticks": ""
             }
            },
            "type": "scattercarpet"
           }
          ],
          "scattergeo": [
           {
            "marker": {
             "colorbar": {
              "outlinewidth": 0,
              "ticks": ""
             }
            },
            "type": "scattergeo"
           }
          ],
          "scattergl": [
           {
            "marker": {
             "colorbar": {
              "outlinewidth": 0,
              "ticks": ""
             }
            },
            "type": "scattergl"
           }
          ],
          "scattermap": [
           {
            "marker": {
             "colorbar": {
              "outlinewidth": 0,
              "ticks": ""
             }
            },
            "type": "scattermap"
           }
          ],
          "scattermapbox": [
           {
            "marker": {
             "colorbar": {
              "outlinewidth": 0,
              "ticks": ""
             }
            },
            "type": "scattermapbox"
           }
          ],
          "scatterpolar": [
           {
            "marker": {
             "colorbar": {
              "outlinewidth": 0,
              "ticks": ""
             }
            },
            "type": "scatterpolar"
           }
          ],
          "scatterpolargl": [
           {
            "marker": {
             "colorbar": {
              "outlinewidth": 0,
              "ticks": ""
             }
            },
            "type": "scatterpolargl"
           }
          ],
          "scatterternary": [
           {
            "marker": {
             "colorbar": {
              "outlinewidth": 0,
              "ticks": ""
             }
            },
            "type": "scatterternary"
           }
          ],
          "surface": [
           {
            "colorbar": {
             "outlinewidth": 0,
             "ticks": ""
            },
            "colorscale": [
             [
              0,
              "#0d0887"
             ],
             [
              0.1111111111111111,
              "#46039f"
             ],
             [
              0.2222222222222222,
              "#7201a8"
             ],
             [
              0.3333333333333333,
              "#9c179e"
             ],
             [
              0.4444444444444444,
              "#bd3786"
             ],
             [
              0.5555555555555556,
              "#d8576b"
             ],
             [
              0.6666666666666666,
              "#ed7953"
             ],
             [
              0.7777777777777778,
              "#fb9f3a"
             ],
             [
              0.8888888888888888,
              "#fdca26"
             ],
             [
              1,
              "#f0f921"
             ]
            ],
            "type": "surface"
           }
          ],
          "table": [
           {
            "cells": {
             "fill": {
              "color": "#EBF0F8"
             },
             "line": {
              "color": "white"
             }
            },
            "header": {
             "fill": {
              "color": "#C8D4E3"
             },
             "line": {
              "color": "white"
             }
            },
            "type": "table"
           }
          ]
         },
         "layout": {
          "annotationdefaults": {
           "arrowcolor": "#2a3f5f",
           "arrowhead": 0,
           "arrowwidth": 1
          },
          "autotypenumbers": "strict",
          "coloraxis": {
           "colorbar": {
            "outlinewidth": 0,
            "ticks": ""
           }
          },
          "colorscale": {
           "diverging": [
            [
             0,
             "#8e0152"
            ],
            [
             0.1,
             "#c51b7d"
            ],
            [
             0.2,
             "#de77ae"
            ],
            [
             0.3,
             "#f1b6da"
            ],
            [
             0.4,
             "#fde0ef"
            ],
            [
             0.5,
             "#f7f7f7"
            ],
            [
             0.6,
             "#e6f5d0"
            ],
            [
             0.7,
             "#b8e186"
            ],
            [
             0.8,
             "#7fbc41"
            ],
            [
             0.9,
             "#4d9221"
            ],
            [
             1,
             "#276419"
            ]
           ],
           "sequential": [
            [
             0,
             "#0d0887"
            ],
            [
             0.1111111111111111,
             "#46039f"
            ],
            [
             0.2222222222222222,
             "#7201a8"
            ],
            [
             0.3333333333333333,
             "#9c179e"
            ],
            [
             0.4444444444444444,
             "#bd3786"
            ],
            [
             0.5555555555555556,
             "#d8576b"
            ],
            [
             0.6666666666666666,
             "#ed7953"
            ],
            [
             0.7777777777777778,
             "#fb9f3a"
            ],
            [
             0.8888888888888888,
             "#fdca26"
            ],
            [
             1,
             "#f0f921"
            ]
           ],
           "sequentialminus": [
            [
             0,
             "#0d0887"
            ],
            [
             0.1111111111111111,
             "#46039f"
            ],
            [
             0.2222222222222222,
             "#7201a8"
            ],
            [
             0.3333333333333333,
             "#9c179e"
            ],
            [
             0.4444444444444444,
             "#bd3786"
            ],
            [
             0.5555555555555556,
             "#d8576b"
            ],
            [
             0.6666666666666666,
             "#ed7953"
            ],
            [
             0.7777777777777778,
             "#fb9f3a"
            ],
            [
             0.8888888888888888,
             "#fdca26"
            ],
            [
             1,
             "#f0f921"
            ]
           ]
          },
          "colorway": [
           "#636efa",
           "#EF553B",
           "#00cc96",
           "#ab63fa",
           "#FFA15A",
           "#19d3f3",
           "#FF6692",
           "#B6E880",
           "#FF97FF",
           "#FECB52"
          ],
          "font": {
           "color": "#2a3f5f"
          },
          "geo": {
           "bgcolor": "white",
           "lakecolor": "white",
           "landcolor": "#E5ECF6",
           "showlakes": true,
           "showland": true,
           "subunitcolor": "white"
          },
          "hoverlabel": {
           "align": "left"
          },
          "hovermode": "closest",
          "mapbox": {
           "style": "light"
          },
          "paper_bgcolor": "white",
          "plot_bgcolor": "#E5ECF6",
          "polar": {
           "angularaxis": {
            "gridcolor": "white",
            "linecolor": "white",
            "ticks": ""
           },
           "bgcolor": "#E5ECF6",
           "radialaxis": {
            "gridcolor": "white",
            "linecolor": "white",
            "ticks": ""
           }
          },
          "scene": {
           "xaxis": {
            "backgroundcolor": "#E5ECF6",
            "gridcolor": "white",
            "gridwidth": 2,
            "linecolor": "white",
            "showbackground": true,
            "ticks": "",
            "zerolinecolor": "white"
           },
           "yaxis": {
            "backgroundcolor": "#E5ECF6",
            "gridcolor": "white",
            "gridwidth": 2,
            "linecolor": "white",
            "showbackground": true,
            "ticks": "",
            "zerolinecolor": "white"
           },
           "zaxis": {
            "backgroundcolor": "#E5ECF6",
            "gridcolor": "white",
            "gridwidth": 2,
            "linecolor": "white",
            "showbackground": true,
            "ticks": "",
            "zerolinecolor": "white"
           }
          },
          "shapedefaults": {
           "line": {
            "color": "#2a3f5f"
           }
          },
          "ternary": {
           "aaxis": {
            "gridcolor": "white",
            "linecolor": "white",
            "ticks": ""
           },
           "baxis": {
            "gridcolor": "white",
            "linecolor": "white",
            "ticks": ""
           },
           "bgcolor": "#E5ECF6",
           "caxis": {
            "gridcolor": "white",
            "linecolor": "white",
            "ticks": ""
           }
          },
          "title": {
           "x": 0.05
          },
          "xaxis": {
           "automargin": true,
           "gridcolor": "white",
           "linecolor": "white",
           "ticks": "",
           "title": {
            "standoff": 15
           },
           "zerolinecolor": "white",
           "zerolinewidth": 2
          },
          "yaxis": {
           "automargin": true,
           "gridcolor": "white",
           "linecolor": "white",
           "ticks": "",
           "title": {
            "standoff": 15
           },
           "zerolinecolor": "white",
           "zerolinewidth": 2
          }
         }
        },
        "title": {
         "text": "Box plot of trestbps"
        },
        "xaxis": {
         "anchor": "y",
         "domain": [
          0,
          1
         ]
        },
        "yaxis": {
         "anchor": "x",
         "domain": [
          0,
          1
         ],
         "title": {
          "text": "trestbps"
         }
        }
       }
      }
     },
     "metadata": {},
     "output_type": "display_data"
    },
    {
     "data": {
      "application/vnd.plotly.v1+json": {
       "config": {
        "plotlyServerURL": "https://plot.ly"
       },
       "data": [
        {
         "alignmentgroup": "True",
         "hovertemplate": "chol=%{y}<extra></extra>",
         "legendgroup": "",
         "marker": {
          "color": "#636efa"
         },
         "name": "",
         "notched": false,
         "offsetgroup": "",
         "orientation": "v",
         "showlegend": false,
         "type": "box",
         "x0": " ",
         "xaxis": "x",
         "y": {
          "bdata": "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",
          "dtype": "f8"
         },
         "y0": " ",
         "yaxis": "y"
        }
       ],
       "layout": {
        "boxmode": "group",
        "legend": {
         "tracegroupgap": 0
        },
        "template": {
         "data": {
          "bar": [
           {
            "error_x": {
             "color": "#2a3f5f"
            },
            "error_y": {
             "color": "#2a3f5f"
            },
            "marker": {
             "line": {
              "color": "#E5ECF6",
              "width": 0.5
             },
             "pattern": {
              "fillmode": "overlay",
              "size": 10,
              "solidity": 0.2
             }
            },
            "type": "bar"
           }
          ],
          "barpolar": [
           {
            "marker": {
             "line": {
              "color": "#E5ECF6",
              "width": 0.5
             },
             "pattern": {
              "fillmode": "overlay",
              "size": 10,
              "solidity": 0.2
             }
            },
            "type": "barpolar"
           }
          ],
          "carpet": [
           {
            "aaxis": {
             "endlinecolor": "#2a3f5f",
             "gridcolor": "white",
             "linecolor": "white",
             "minorgridcolor": "white",
             "startlinecolor": "#2a3f5f"
            },
            "baxis": {
             "endlinecolor": "#2a3f5f",
             "gridcolor": "white",
             "linecolor": "white",
             "minorgridcolor": "white",
             "startlinecolor": "#2a3f5f"
            },
            "type": "carpet"
           }
          ],
          "choropleth": [
           {
            "colorbar": {
             "outlinewidth": 0,
             "ticks": ""
            },
            "type": "choropleth"
           }
          ],
          "contour": [
           {
            "colorbar": {
             "outlinewidth": 0,
             "ticks": ""
            },
            "colorscale": [
             [
              0,
              "#0d0887"
             ],
             [
              0.1111111111111111,
              "#46039f"
             ],
             [
              0.2222222222222222,
              "#7201a8"
             ],
             [
              0.3333333333333333,
              "#9c179e"
             ],
             [
              0.4444444444444444,
              "#bd3786"
             ],
             [
              0.5555555555555556,
              "#d8576b"
             ],
             [
              0.6666666666666666,
              "#ed7953"
             ],
             [
              0.7777777777777778,
              "#fb9f3a"
             ],
             [
              0.8888888888888888,
              "#fdca26"
             ],
             [
              1,
              "#f0f921"
             ]
            ],
            "type": "contour"
           }
          ],
          "contourcarpet": [
           {
            "colorbar": {
             "outlinewidth": 0,
             "ticks": ""
            },
            "type": "contourcarpet"
           }
          ],
          "heatmap": [
           {
            "colorbar": {
             "outlinewidth": 0,
             "ticks": ""
            },
            "colorscale": [
             [
              0,
              "#0d0887"
             ],
             [
              0.1111111111111111,
              "#46039f"
             ],
             [
              0.2222222222222222,
              "#7201a8"
             ],
             [
              0.3333333333333333,
              "#9c179e"
             ],
             [
              0.4444444444444444,
              "#bd3786"
             ],
             [
              0.5555555555555556,
              "#d8576b"
             ],
             [
              0.6666666666666666,
              "#ed7953"
             ],
             [
              0.7777777777777778,
              "#fb9f3a"
             ],
             [
              0.8888888888888888,
              "#fdca26"
             ],
             [
              1,
              "#f0f921"
             ]
            ],
            "type": "heatmap"
           }
          ],
          "histogram": [
           {
            "marker": {
             "pattern": {
              "fillmode": "overlay",
              "size": 10,
              "solidity": 0.2
             }
            },
            "type": "histogram"
           }
          ],
          "histogram2d": [
           {
            "colorbar": {
             "outlinewidth": 0,
             "ticks": ""
            },
            "colorscale": [
             [
              0,
              "#0d0887"
             ],
             [
              0.1111111111111111,
              "#46039f"
             ],
             [
              0.2222222222222222,
              "#7201a8"
             ],
             [
              0.3333333333333333,
              "#9c179e"
             ],
             [
              0.4444444444444444,
              "#bd3786"
             ],
             [
              0.5555555555555556,
              "#d8576b"
             ],
             [
              0.6666666666666666,
              "#ed7953"
             ],
             [
              0.7777777777777778,
              "#fb9f3a"
             ],
             [
              0.8888888888888888,
              "#fdca26"
             ],
             [
              1,
              "#f0f921"
             ]
            ],
            "type": "histogram2d"
           }
          ],
          "histogram2dcontour": [
           {
            "colorbar": {
             "outlinewidth": 0,
             "ticks": ""
            },
            "colorscale": [
             [
              0,
              "#0d0887"
             ],
             [
              0.1111111111111111,
              "#46039f"
             ],
             [
              0.2222222222222222,
              "#7201a8"
             ],
             [
              0.3333333333333333,
              "#9c179e"
             ],
             [
              0.4444444444444444,
              "#bd3786"
             ],
             [
              0.5555555555555556,
              "#d8576b"
             ],
             [
              0.6666666666666666,
              "#ed7953"
             ],
             [
              0.7777777777777778,
              "#fb9f3a"
             ],
             [
              0.8888888888888888,
              "#fdca26"
             ],
             [
              1,
              "#f0f921"
             ]
            ],
            "type": "histogram2dcontour"
           }
          ],
          "mesh3d": [
           {
            "colorbar": {
             "outlinewidth": 0,
             "ticks": ""
            },
            "type": "mesh3d"
           }
          ],
          "parcoords": [
           {
            "line": {
             "colorbar": {
              "outlinewidth": 0,
              "ticks": ""
             }
            },
            "type": "parcoords"
           }
          ],
          "pie": [
           {
            "automargin": true,
            "type": "pie"
           }
          ],
          "scatter": [
           {
            "fillpattern": {
             "fillmode": "overlay",
             "size": 10,
             "solidity": 0.2
            },
            "type": "scatter"
           }
          ],
          "scatter3d": [
           {
            "line": {
             "colorbar": {
              "outlinewidth": 0,
              "ticks": ""
             }
            },
            "marker": {
             "colorbar": {
              "outlinewidth": 0,
              "ticks": ""
             }
            },
            "type": "scatter3d"
           }
          ],
          "scattercarpet": [
           {
            "marker": {
             "colorbar": {
              "outlinewidth": 0,
              "ticks": ""
             }
            },
            "type": "scattercarpet"
           }
          ],
          "scattergeo": [
           {
            "marker": {
             "colorbar": {
              "outlinewidth": 0,
              "ticks": ""
             }
            },
            "type": "scattergeo"
           }
          ],
          "scattergl": [
           {
            "marker": {
             "colorbar": {
              "outlinewidth": 0,
              "ticks": ""
             }
            },
            "type": "scattergl"
           }
          ],
          "scattermap": [
           {
            "marker": {
             "colorbar": {
              "outlinewidth": 0,
              "ticks": ""
             }
            },
            "type": "scattermap"
           }
          ],
          "scattermapbox": [
           {
            "marker": {
             "colorbar": {
              "outlinewidth": 0,
              "ticks": ""
             }
            },
            "type": "scattermapbox"
           }
          ],
          "scatterpolar": [
           {
            "marker": {
             "colorbar": {
              "outlinewidth": 0,
              "ticks": ""
             }
            },
            "type": "scatterpolar"
           }
          ],
          "scatterpolargl": [
           {
            "marker": {
             "colorbar": {
              "outlinewidth": 0,
              "ticks": ""
             }
            },
            "type": "scatterpolargl"
           }
          ],
          "scatterternary": [
           {
            "marker": {
             "colorbar": {
              "outlinewidth": 0,
              "ticks": ""
             }
            },
            "type": "scatterternary"
           }
          ],
          "surface": [
           {
            "colorbar": {
             "outlinewidth": 0,
             "ticks": ""
            },
            "colorscale": [
             [
              0,
              "#0d0887"
             ],
             [
              0.1111111111111111,
              "#46039f"
             ],
             [
              0.2222222222222222,
              "#7201a8"
             ],
             [
              0.3333333333333333,
              "#9c179e"
             ],
             [
              0.4444444444444444,
              "#bd3786"
             ],
             [
              0.5555555555555556,
              "#d8576b"
             ],
             [
              0.6666666666666666,
              "#ed7953"
             ],
             [
              0.7777777777777778,
              "#fb9f3a"
             ],
             [
              0.8888888888888888,
              "#fdca26"
             ],
             [
              1,
              "#f0f921"
             ]
            ],
            "type": "surface"
           }
          ],
          "table": [
           {
            "cells": {
             "fill": {
              "color": "#EBF0F8"
             },
             "line": {
              "color": "white"
             }
            },
            "header": {
             "fill": {
              "color": "#C8D4E3"
             },
             "line": {
              "color": "white"
             }
            },
            "type": "table"
           }
          ]
         },
         "layout": {
          "annotationdefaults": {
           "arrowcolor": "#2a3f5f",
           "arrowhead": 0,
           "arrowwidth": 1
          },
          "autotypenumbers": "strict",
          "coloraxis": {
           "colorbar": {
            "outlinewidth": 0,
            "ticks": ""
           }
          },
          "colorscale": {
           "diverging": [
            [
             0,
             "#8e0152"
            ],
            [
             0.1,
             "#c51b7d"
            ],
            [
             0.2,
             "#de77ae"
            ],
            [
             0.3,
             "#f1b6da"
            ],
            [
             0.4,
             "#fde0ef"
            ],
            [
             0.5,
             "#f7f7f7"
            ],
            [
             0.6,
             "#e6f5d0"
            ],
            [
             0.7,
             "#b8e186"
            ],
            [
             0.8,
             "#7fbc41"
            ],
            [
             0.9,
             "#4d9221"
            ],
            [
             1,
             "#276419"
            ]
           ],
           "sequential": [
            [
             0,
             "#0d0887"
            ],
            [
             0.1111111111111111,
             "#46039f"
            ],
            [
             0.2222222222222222,
             "#7201a8"
            ],
            [
             0.3333333333333333,
             "#9c179e"
            ],
            [
             0.4444444444444444,
             "#bd3786"
            ],
            [
             0.5555555555555556,
             "#d8576b"
            ],
            [
             0.6666666666666666,
             "#ed7953"
            ],
            [
             0.7777777777777778,
             "#fb9f3a"
            ],
            [
             0.8888888888888888,
             "#fdca26"
            ],
            [
             1,
             "#f0f921"
            ]
           ],
           "sequentialminus": [
            [
             0,
             "#0d0887"
            ],
            [
             0.1111111111111111,
             "#46039f"
            ],
            [
             0.2222222222222222,
             "#7201a8"
            ],
            [
             0.3333333333333333,
             "#9c179e"
            ],
            [
             0.4444444444444444,
             "#bd3786"
            ],
            [
             0.5555555555555556,
             "#d8576b"
            ],
            [
             0.6666666666666666,
             "#ed7953"
            ],
            [
             0.7777777777777778,
             "#fb9f3a"
            ],
            [
             0.8888888888888888,
             "#fdca26"
            ],
            [
             1,
             "#f0f921"
            ]
           ]
          },
          "colorway": [
           "#636efa",
           "#EF553B",
           "#00cc96",
           "#ab63fa",
           "#FFA15A",
           "#19d3f3",
           "#FF6692",
           "#B6E880",
           "#FF97FF",
           "#FECB52"
          ],
          "font": {
           "color": "#2a3f5f"
          },
          "geo": {
           "bgcolor": "white",
           "lakecolor": "white",
           "landcolor": "#E5ECF6",
           "showlakes": true,
           "showland": true,
           "subunitcolor": "white"
          },
          "hoverlabel": {
           "align": "left"
          },
          "hovermode": "closest",
          "mapbox": {
           "style": "light"
          },
          "paper_bgcolor": "white",
          "plot_bgcolor": "#E5ECF6",
          "polar": {
           "angularaxis": {
            "gridcolor": "white",
            "linecolor": "white",
            "ticks": ""
           },
           "bgcolor": "#E5ECF6",
           "radialaxis": {
            "gridcolor": "white",
            "linecolor": "white",
            "ticks": ""
           }
          },
          "scene": {
           "xaxis": {
            "backgroundcolor": "#E5ECF6",
            "gridcolor": "white",
            "gridwidth": 2,
            "linecolor": "white",
            "showbackground": true,
            "ticks": "",
            "zerolinecolor": "white"
           },
           "yaxis": {
            "backgroundcolor": "#E5ECF6",
            "gridcolor": "white",
            "gridwidth": 2,
            "linecolor": "white",
            "showbackground": true,
            "ticks": "",
            "zerolinecolor": "white"
           },
           "zaxis": {
            "backgroundcolor": "#E5ECF6",
            "gridcolor": "white",
            "gridwidth": 2,
            "linecolor": "white",
            "showbackground": true,
            "ticks": "",
            "zerolinecolor": "white"
           }
          },
          "shapedefaults": {
           "line": {
            "color": "#2a3f5f"
           }
          },
          "ternary": {
           "aaxis": {
            "gridcolor": "white",
            "linecolor": "white",
            "ticks": ""
           },
           "baxis": {
            "gridcolor": "white",
            "linecolor": "white",
            "ticks": ""
           },
           "bgcolor": "#E5ECF6",
           "caxis": {
            "gridcolor": "white",
            "linecolor": "white",
            "ticks": ""
           }
          },
          "title": {
           "x": 0.05
          },
          "xaxis": {
           "automargin": true,
           "gridcolor": "white",
           "linecolor": "white",
           "ticks": "",
           "title": {
            "standoff": 15
           },
           "zerolinecolor": "white",
           "zerolinewidth": 2
          },
          "yaxis": {
           "automargin": true,
           "gridcolor": "white",
           "linecolor": "white",
           "ticks": "",
           "title": {
            "standoff": 15
           },
           "zerolinecolor": "white",
           "zerolinewidth": 2
          }
         }
        },
        "title": {
         "text": "Box plot of chol"
        },
        "xaxis": {
         "anchor": "y",
         "domain": [
          0,
          1
         ]
        },
        "yaxis": {
         "anchor": "x",
         "domain": [
          0,
          1
         ],
         "title": {
          "text": "chol"
         }
        }
       }
      }
     },
     "metadata": {},
     "output_type": "display_data"
    },
    {
     "data": {
      "application/vnd.plotly.v1+json": {
       "config": {
        "plotlyServerURL": "https://plot.ly"
       },
       "data": [
        {
         "alignmentgroup": "True",
         "hovertemplate": "thalch=%{y}<extra></extra>",
         "legendgroup": "",
         "marker": {
          "color": "#636efa"
         },
         "name": "",
         "notched": false,
         "offsetgroup": "",
         "orientation": "v",
         "showlegend": false,
         "type": "box",
         "x0": " ",
         "xaxis": "x",
         "y": {
          "bdata": "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",
          "dtype": "f8"
         },
         "y0": " ",
         "yaxis": "y"
        }
       ],
       "layout": {
        "boxmode": "group",
        "legend": {
         "tracegroupgap": 0
        },
        "template": {
         "data": {
          "bar": [
           {
            "error_x": {
             "color": "#2a3f5f"
            },
            "error_y": {
             "color": "#2a3f5f"
            },
            "marker": {
             "line": {
              "color": "#E5ECF6",
              "width": 0.5
             },
             "pattern": {
              "fillmode": "overlay",
              "size": 10,
              "solidity": 0.2
             }
            },
            "type": "bar"
           }
          ],
          "barpolar": [
           {
            "marker": {
             "line": {
              "color": "#E5ECF6",
              "width": 0.5
             },
             "pattern": {
              "fillmode": "overlay",
              "size": 10,
              "solidity": 0.2
             }
            },
            "type": "barpolar"
           }
          ],
          "carpet": [
           {
            "aaxis": {
             "endlinecolor": "#2a3f5f",
             "gridcolor": "white",
             "linecolor": "white",
             "minorgridcolor": "white",
             "startlinecolor": "#2a3f5f"
            },
            "baxis": {
             "endlinecolor": "#2a3f5f",
             "gridcolor": "white",
             "linecolor": "white",
             "minorgridcolor": "white",
             "startlinecolor": "#2a3f5f"
            },
            "type": "carpet"
           }
          ],
          "choropleth": [
           {
            "colorbar": {
             "outlinewidth": 0,
             "ticks": ""
            },
            "type": "choropleth"
           }
          ],
          "contour": [
           {
            "colorbar": {
             "outlinewidth": 0,
             "ticks": ""
            },
            "colorscale": [
             [
              0,
              "#0d0887"
             ],
             [
              0.1111111111111111,
              "#46039f"
             ],
             [
              0.2222222222222222,
              "#7201a8"
             ],
             [
              0.3333333333333333,
              "#9c179e"
             ],
             [
              0.4444444444444444,
              "#bd3786"
             ],
             [
              0.5555555555555556,
              "#d8576b"
             ],
             [
              0.6666666666666666,
              "#ed7953"
             ],
             [
              0.7777777777777778,
              "#fb9f3a"
             ],
             [
              0.8888888888888888,
              "#fdca26"
             ],
             [
              1,
              "#f0f921"
             ]
            ],
            "type": "contour"
           }
          ],
          "contourcarpet": [
           {
            "colorbar": {
             "outlinewidth": 0,
             "ticks": ""
            },
            "type": "contourcarpet"
           }
          ],
          "heatmap": [
           {
            "colorbar": {
             "outlinewidth": 0,
             "ticks": ""
            },
            "colorscale": [
             [
              0,
              "#0d0887"
             ],
             [
              0.1111111111111111,
              "#46039f"
             ],
             [
              0.2222222222222222,
              "#7201a8"
             ],
             [
              0.3333333333333333,
              "#9c179e"
             ],
             [
              0.4444444444444444,
              "#bd3786"
             ],
             [
              0.5555555555555556,
              "#d8576b"
             ],
             [
              0.6666666666666666,
              "#ed7953"
             ],
             [
              0.7777777777777778,
              "#fb9f3a"
             ],
             [
              0.8888888888888888,
              "#fdca26"
             ],
             [
              1,
              "#f0f921"
             ]
            ],
            "type": "heatmap"
           }
          ],
          "histogram": [
           {
            "marker": {
             "pattern": {
              "fillmode": "overlay",
              "size": 10,
              "solidity": 0.2
             }
            },
            "type": "histogram"
           }
          ],
          "histogram2d": [
           {
            "colorbar": {
             "outlinewidth": 0,
             "ticks": ""
            },
            "colorscale": [
             [
              0,
              "#0d0887"
             ],
             [
              0.1111111111111111,
              "#46039f"
             ],
             [
              0.2222222222222222,
              "#7201a8"
             ],
             [
              0.3333333333333333,
              "#9c179e"
             ],
             [
              0.4444444444444444,
              "#bd3786"
             ],
             [
              0.5555555555555556,
              "#d8576b"
             ],
             [
              0.6666666666666666,
              "#ed7953"
             ],
             [
              0.7777777777777778,
              "#fb9f3a"
             ],
             [
              0.8888888888888888,
              "#fdca26"
             ],
             [
              1,
              "#f0f921"
             ]
            ],
            "type": "histogram2d"
           }
          ],
          "histogram2dcontour": [
           {
            "colorbar": {
             "outlinewidth": 0,
             "ticks": ""
            },
            "colorscale": [
             [
              0,
              "#0d0887"
             ],
             [
              0.1111111111111111,
              "#46039f"
             ],
             [
              0.2222222222222222,
              "#7201a8"
             ],
             [
              0.3333333333333333,
              "#9c179e"
             ],
             [
              0.4444444444444444,
              "#bd3786"
             ],
             [
              0.5555555555555556,
              "#d8576b"
             ],
             [
              0.6666666666666666,
              "#ed7953"
             ],
             [
              0.7777777777777778,
              "#fb9f3a"
             ],
             [
              0.8888888888888888,
              "#fdca26"
             ],
             [
              1,
              "#f0f921"
             ]
            ],
            "type": "histogram2dcontour"
           }
          ],
          "mesh3d": [
           {
            "colorbar": {
             "outlinewidth": 0,
             "ticks": ""
            },
            "type": "mesh3d"
           }
          ],
          "parcoords": [
           {
            "line": {
             "colorbar": {
              "outlinewidth": 0,
              "ticks": ""
             }
            },
            "type": "parcoords"
           }
          ],
          "pie": [
           {
            "automargin": true,
            "type": "pie"
           }
          ],
          "scatter": [
           {
            "fillpattern": {
             "fillmode": "overlay",
             "size": 10,
             "solidity": 0.2
            },
            "type": "scatter"
           }
          ],
          "scatter3d": [
           {
            "line": {
             "colorbar": {
              "outlinewidth": 0,
              "ticks": ""
             }
            },
            "marker": {
             "colorbar": {
              "outlinewidth": 0,
              "ticks": ""
             }
            },
            "type": "scatter3d"
           }
          ],
          "scattercarpet": [
           {
            "marker": {
             "colorbar": {
              "outlinewidth": 0,
              "ticks": ""
             }
            },
            "type": "scattercarpet"
           }
          ],
          "scattergeo": [
           {
            "marker": {
             "colorbar": {
              "outlinewidth": 0,
              "ticks": ""
             }
            },
            "type": "scattergeo"
           }
          ],
          "scattergl": [
           {
            "marker": {
             "colorbar": {
              "outlinewidth": 0,
              "ticks": ""
             }
            },
            "type": "scattergl"
           }
          ],
          "scattermap": [
           {
            "marker": {
             "colorbar": {
              "outlinewidth": 0,
              "ticks": ""
             }
            },
            "type": "scattermap"
           }
          ],
          "scattermapbox": [
           {
            "marker": {
             "colorbar": {
              "outlinewidth": 0,
              "ticks": ""
             }
            },
            "type": "scattermapbox"
           }
          ],
          "scatterpolar": [
           {
            "marker": {
             "colorbar": {
              "outlinewidth": 0,
              "ticks": ""
             }
            },
            "type": "scatterpolar"
           }
          ],
          "scatterpolargl": [
           {
            "marker": {
             "colorbar": {
              "outlinewidth": 0,
              "ticks": ""
             }
            },
            "type": "scatterpolargl"
           }
          ],
          "scatterternary": [
           {
            "marker": {
             "colorbar": {
              "outlinewidth": 0,
              "ticks": ""
             }
            },
            "type": "scatterternary"
           }
          ],
          "surface": [
           {
            "colorbar": {
             "outlinewidth": 0,
             "ticks": ""
            },
            "colorscale": [
             [
              0,
              "#0d0887"
             ],
             [
              0.1111111111111111,
              "#46039f"
             ],
             [
              0.2222222222222222,
              "#7201a8"
             ],
             [
              0.3333333333333333,
              "#9c179e"
             ],
             [
              0.4444444444444444,
              "#bd3786"
             ],
             [
              0.5555555555555556,
              "#d8576b"
             ],
             [
              0.6666666666666666,
              "#ed7953"
             ],
             [
              0.7777777777777778,
              "#fb9f3a"
             ],
             [
              0.8888888888888888,
              "#fdca26"
             ],
             [
              1,
              "#f0f921"
             ]
            ],
            "type": "surface"
           }
          ],
          "table": [
           {
            "cells": {
             "fill": {
              "color": "#EBF0F8"
             },
             "line": {
              "color": "white"
             }
            },
            "header": {
             "fill": {
              "color": "#C8D4E3"
             },
             "line": {
              "color": "white"
             }
            },
            "type": "table"
           }
          ]
         },
         "layout": {
          "annotationdefaults": {
           "arrowcolor": "#2a3f5f",
           "arrowhead": 0,
           "arrowwidth": 1
          },
          "autotypenumbers": "strict",
          "coloraxis": {
           "colorbar": {
            "outlinewidth": 0,
            "ticks": ""
           }
          },
          "colorscale": {
           "diverging": [
            [
             0,
             "#8e0152"
            ],
            [
             0.1,
             "#c51b7d"
            ],
            [
             0.2,
             "#de77ae"
            ],
            [
             0.3,
             "#f1b6da"
            ],
            [
             0.4,
             "#fde0ef"
            ],
            [
             0.5,
             "#f7f7f7"
            ],
            [
             0.6,
             "#e6f5d0"
            ],
            [
             0.7,
             "#b8e186"
            ],
            [
             0.8,
             "#7fbc41"
            ],
            [
             0.9,
             "#4d9221"
            ],
            [
             1,
             "#276419"
            ]
           ],
           "sequential": [
            [
             0,
             "#0d0887"
            ],
            [
             0.1111111111111111,
             "#46039f"
            ],
            [
             0.2222222222222222,
             "#7201a8"
            ],
            [
             0.3333333333333333,
             "#9c179e"
            ],
            [
             0.4444444444444444,
             "#bd3786"
            ],
            [
             0.5555555555555556,
             "#d8576b"
            ],
            [
             0.6666666666666666,
             "#ed7953"
            ],
            [
             0.7777777777777778,
             "#fb9f3a"
            ],
            [
             0.8888888888888888,
             "#fdca26"
            ],
            [
             1,
             "#f0f921"
            ]
           ],
           "sequentialminus": [
            [
             0,
             "#0d0887"
            ],
            [
             0.1111111111111111,
             "#46039f"
            ],
            [
             0.2222222222222222,
             "#7201a8"
            ],
            [
             0.3333333333333333,
             "#9c179e"
            ],
            [
             0.4444444444444444,
             "#bd3786"
            ],
            [
             0.5555555555555556,
             "#d8576b"
            ],
            [
             0.6666666666666666,
             "#ed7953"
            ],
            [
             0.7777777777777778,
             "#fb9f3a"
            ],
            [
             0.8888888888888888,
             "#fdca26"
            ],
            [
             1,
             "#f0f921"
            ]
           ]
          },
          "colorway": [
           "#636efa",
           "#EF553B",
           "#00cc96",
           "#ab63fa",
           "#FFA15A",
           "#19d3f3",
           "#FF6692",
           "#B6E880",
           "#FF97FF",
           "#FECB52"
          ],
          "font": {
           "color": "#2a3f5f"
          },
          "geo": {
           "bgcolor": "white",
           "lakecolor": "white",
           "landcolor": "#E5ECF6",
           "showlakes": true,
           "showland": true,
           "subunitcolor": "white"
          },
          "hoverlabel": {
           "align": "left"
          },
          "hovermode": "closest",
          "mapbox": {
           "style": "light"
          },
          "paper_bgcolor": "white",
          "plot_bgcolor": "#E5ECF6",
          "polar": {
           "angularaxis": {
            "gridcolor": "white",
            "linecolor": "white",
            "ticks": ""
           },
           "bgcolor": "#E5ECF6",
           "radialaxis": {
            "gridcolor": "white",
            "linecolor": "white",
            "ticks": ""
           }
          },
          "scene": {
           "xaxis": {
            "backgroundcolor": "#E5ECF6",
            "gridcolor": "white",
            "gridwidth": 2,
            "linecolor": "white",
            "showbackground": true,
            "ticks": "",
            "zerolinecolor": "white"
           },
           "yaxis": {
            "backgroundcolor": "#E5ECF6",
            "gridcolor": "white",
            "gridwidth": 2,
            "linecolor": "white",
            "showbackground": true,
            "ticks": "",
            "zerolinecolor": "white"
           },
           "zaxis": {
            "backgroundcolor": "#E5ECF6",
            "gridcolor": "white",
            "gridwidth": 2,
            "linecolor": "white",
            "showbackground": true,
            "ticks": "",
            "zerolinecolor": "white"
           }
          },
          "shapedefaults": {
           "line": {
            "color": "#2a3f5f"
           }
          },
          "ternary": {
           "aaxis": {
            "gridcolor": "white",
            "linecolor": "white",
            "ticks": ""
           },
           "baxis": {
            "gridcolor": "white",
            "linecolor": "white",
            "ticks": ""
           },
           "bgcolor": "#E5ECF6",
           "caxis": {
            "gridcolor": "white",
            "linecolor": "white",
            "ticks": ""
           }
          },
          "title": {
           "x": 0.05
          },
          "xaxis": {
           "automargin": true,
           "gridcolor": "white",
           "linecolor": "white",
           "ticks": "",
           "title": {
            "standoff": 15
           },
           "zerolinecolor": "white",
           "zerolinewidth": 2
          },
          "yaxis": {
           "automargin": true,
           "gridcolor": "white",
           "linecolor": "white",
           "ticks": "",
           "title": {
            "standoff": 15
           },
           "zerolinecolor": "white",
           "zerolinewidth": 2
          }
         }
        },
        "title": {
         "text": "Box plot of thalch"
        },
        "xaxis": {
         "anchor": "y",
         "domain": [
          0,
          1
         ]
        },
        "yaxis": {
         "anchor": "x",
         "domain": [
          0,
          1
         ],
         "title": {
          "text": "thalch"
         }
        }
       }
      }
     },
     "metadata": {},
     "output_type": "display_data"
    },
    {
     "data": {
      "application/vnd.plotly.v1+json": {
       "config": {
        "plotlyServerURL": "https://plot.ly"
       },
       "data": [
        {
         "alignmentgroup": "True",
         "hovertemplate": "oldpeak=%{y}<extra></extra>",
         "legendgroup": "",
         "marker": {
          "color": "#636efa"
         },
         "name": "",
         "notched": false,
         "offsetgroup": "",
         "orientation": "v",
         "showlegend": false,
         "type": "box",
         "x0": " ",
         "xaxis": "x",
         "y": {
          "bdata": "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",
          "dtype": "f8"
         },
         "y0": " ",
         "yaxis": "y"
        }
       ],
       "layout": {
        "boxmode": "group",
        "legend": {
         "tracegroupgap": 0
        },
        "template": {
         "data": {
          "bar": [
           {
            "error_x": {
             "color": "#2a3f5f"
            },
            "error_y": {
             "color": "#2a3f5f"
            },
            "marker": {
             "line": {
              "color": "#E5ECF6",
              "width": 0.5
             },
             "pattern": {
              "fillmode": "overlay",
              "size": 10,
              "solidity": 0.2
             }
            },
            "type": "bar"
           }
          ],
          "barpolar": [
           {
            "marker": {
             "line": {
              "color": "#E5ECF6",
              "width": 0.5
             },
             "pattern": {
              "fillmode": "overlay",
              "size": 10,
              "solidity": 0.2
             }
            },
            "type": "barpolar"
           }
          ],
          "carpet": [
           {
            "aaxis": {
             "endlinecolor": "#2a3f5f",
             "gridcolor": "white",
             "linecolor": "white",
             "minorgridcolor": "white",
             "startlinecolor": "#2a3f5f"
            },
            "baxis": {
             "endlinecolor": "#2a3f5f",
             "gridcolor": "white",
             "linecolor": "white",
             "minorgridcolor": "white",
             "startlinecolor": "#2a3f5f"
            },
            "type": "carpet"
           }
          ],
          "choropleth": [
           {
            "colorbar": {
             "outlinewidth": 0,
             "ticks": ""
            },
            "type": "choropleth"
           }
          ],
          "contour": [
           {
            "colorbar": {
             "outlinewidth": 0,
             "ticks": ""
            },
            "colorscale": [
             [
              0,
              "#0d0887"
             ],
             [
              0.1111111111111111,
              "#46039f"
             ],
             [
              0.2222222222222222,
              "#7201a8"
             ],
             [
              0.3333333333333333,
              "#9c179e"
             ],
             [
              0.4444444444444444,
              "#bd3786"
             ],
             [
              0.5555555555555556,
              "#d8576b"
             ],
             [
              0.6666666666666666,
              "#ed7953"
             ],
             [
              0.7777777777777778,
              "#fb9f3a"
             ],
             [
              0.8888888888888888,
              "#fdca26"
             ],
             [
              1,
              "#f0f921"
             ]
            ],
            "type": "contour"
           }
          ],
          "contourcarpet": [
           {
            "colorbar": {
             "outlinewidth": 0,
             "ticks": ""
            },
            "type": "contourcarpet"
           }
          ],
          "heatmap": [
           {
            "colorbar": {
             "outlinewidth": 0,
             "ticks": ""
            },
            "colorscale": [
             [
              0,
              "#0d0887"
             ],
             [
              0.1111111111111111,
              "#46039f"
             ],
             [
              0.2222222222222222,
              "#7201a8"
             ],
             [
              0.3333333333333333,
              "#9c179e"
             ],
             [
              0.4444444444444444,
              "#bd3786"
             ],
             [
              0.5555555555555556,
              "#d8576b"
             ],
             [
              0.6666666666666666,
              "#ed7953"
             ],
             [
              0.7777777777777778,
              "#fb9f3a"
             ],
             [
              0.8888888888888888,
              "#fdca26"
             ],
             [
              1,
              "#f0f921"
             ]
            ],
            "type": "heatmap"
           }
          ],
          "histogram": [
           {
            "marker": {
             "pattern": {
              "fillmode": "overlay",
              "size": 10,
              "solidity": 0.2
             }
            },
            "type": "histogram"
           }
          ],
          "histogram2d": [
           {
            "colorbar": {
             "outlinewidth": 0,
             "ticks": ""
            },
            "colorscale": [
             [
              0,
              "#0d0887"
             ],
             [
              0.1111111111111111,
              "#46039f"
             ],
             [
              0.2222222222222222,
              "#7201a8"
             ],
             [
              0.3333333333333333,
              "#9c179e"
             ],
             [
              0.4444444444444444,
              "#bd3786"
             ],
             [
              0.5555555555555556,
              "#d8576b"
             ],
             [
              0.6666666666666666,
              "#ed7953"
             ],
             [
              0.7777777777777778,
              "#fb9f3a"
             ],
             [
              0.8888888888888888,
              "#fdca26"
             ],
             [
              1,
              "#f0f921"
             ]
            ],
            "type": "histogram2d"
           }
          ],
          "histogram2dcontour": [
           {
            "colorbar": {
             "outlinewidth": 0,
             "ticks": ""
            },
            "colorscale": [
             [
              0,
              "#0d0887"
             ],
             [
              0.1111111111111111,
              "#46039f"
             ],
             [
              0.2222222222222222,
              "#7201a8"
             ],
             [
              0.3333333333333333,
              "#9c179e"
             ],
             [
              0.4444444444444444,
              "#bd3786"
             ],
             [
              0.5555555555555556,
              "#d8576b"
             ],
             [
              0.6666666666666666,
              "#ed7953"
             ],
             [
              0.7777777777777778,
              "#fb9f3a"
             ],
             [
              0.8888888888888888,
              "#fdca26"
             ],
             [
              1,
              "#f0f921"
             ]
            ],
            "type": "histogram2dcontour"
           }
          ],
          "mesh3d": [
           {
            "colorbar": {
             "outlinewidth": 0,
             "ticks": ""
            },
            "type": "mesh3d"
           }
          ],
          "parcoords": [
           {
            "line": {
             "colorbar": {
              "outlinewidth": 0,
              "ticks": ""
             }
            },
            "type": "parcoords"
           }
          ],
          "pie": [
           {
            "automargin": true,
            "type": "pie"
           }
          ],
          "scatter": [
           {
            "fillpattern": {
             "fillmode": "overlay",
             "size": 10,
             "solidity": 0.2
            },
            "type": "scatter"
           }
          ],
          "scatter3d": [
           {
            "line": {
             "colorbar": {
              "outlinewidth": 0,
              "ticks": ""
             }
            },
            "marker": {
             "colorbar": {
              "outlinewidth": 0,
              "ticks": ""
             }
            },
            "type": "scatter3d"
           }
          ],
          "scattercarpet": [
           {
            "marker": {
             "colorbar": {
              "outlinewidth": 0,
              "ticks": ""
             }
            },
            "type": "scattercarpet"
           }
          ],
          "scattergeo": [
           {
            "marker": {
             "colorbar": {
              "outlinewidth": 0,
              "ticks": ""
             }
            },
            "type": "scattergeo"
           }
          ],
          "scattergl": [
           {
            "marker": {
             "colorbar": {
              "outlinewidth": 0,
              "ticks": ""
             }
            },
            "type": "scattergl"
           }
          ],
          "scattermap": [
           {
            "marker": {
             "colorbar": {
              "outlinewidth": 0,
              "ticks": ""
             }
            },
            "type": "scattermap"
           }
          ],
          "scattermapbox": [
           {
            "marker": {
             "colorbar": {
              "outlinewidth": 0,
              "ticks": ""
             }
            },
            "type": "scattermapbox"
           }
          ],
          "scatterpolar": [
           {
            "marker": {
             "colorbar": {
              "outlinewidth": 0,
              "ticks": ""
             }
            },
            "type": "scatterpolar"
           }
          ],
          "scatterpolargl": [
           {
            "marker": {
             "colorbar": {
              "outlinewidth": 0,
              "ticks": ""
             }
            },
            "type": "scatterpolargl"
           }
          ],
          "scatterternary": [
           {
            "marker": {
             "colorbar": {
              "outlinewidth": 0,
              "ticks": ""
             }
            },
            "type": "scatterternary"
           }
          ],
          "surface": [
           {
            "colorbar": {
             "outlinewidth": 0,
             "ticks": ""
            },
            "colorscale": [
             [
              0,
              "#0d0887"
             ],
             [
              0.1111111111111111,
              "#46039f"
             ],
             [
              0.2222222222222222,
              "#7201a8"
             ],
             [
              0.3333333333333333,
              "#9c179e"
             ],
             [
              0.4444444444444444,
              "#bd3786"
             ],
             [
              0.5555555555555556,
              "#d8576b"
             ],
             [
              0.6666666666666666,
              "#ed7953"
             ],
             [
              0.7777777777777778,
              "#fb9f3a"
             ],
             [
              0.8888888888888888,
              "#fdca26"
             ],
             [
              1,
              "#f0f921"
             ]
            ],
            "type": "surface"
           }
          ],
          "table": [
           {
            "cells": {
             "fill": {
              "color": "#EBF0F8"
             },
             "line": {
              "color": "white"
             }
            },
            "header": {
             "fill": {
              "color": "#C8D4E3"
             },
             "line": {
              "color": "white"
             }
            },
            "type": "table"
           }
          ]
         },
         "layout": {
          "annotationdefaults": {
           "arrowcolor": "#2a3f5f",
           "arrowhead": 0,
           "arrowwidth": 1
          },
          "autotypenumbers": "strict",
          "coloraxis": {
           "colorbar": {
            "outlinewidth": 0,
            "ticks": ""
           }
          },
          "colorscale": {
           "diverging": [
            [
             0,
             "#8e0152"
            ],
            [
             0.1,
             "#c51b7d"
            ],
            [
             0.2,
             "#de77ae"
            ],
            [
             0.3,
             "#f1b6da"
            ],
            [
             0.4,
             "#fde0ef"
            ],
            [
             0.5,
             "#f7f7f7"
            ],
            [
             0.6,
             "#e6f5d0"
            ],
            [
             0.7,
             "#b8e186"
            ],
            [
             0.8,
             "#7fbc41"
            ],
            [
             0.9,
             "#4d9221"
            ],
            [
             1,
             "#276419"
            ]
           ],
           "sequential": [
            [
             0,
             "#0d0887"
            ],
            [
             0.1111111111111111,
             "#46039f"
            ],
            [
             0.2222222222222222,
             "#7201a8"
            ],
            [
             0.3333333333333333,
             "#9c179e"
            ],
            [
             0.4444444444444444,
             "#bd3786"
            ],
            [
             0.5555555555555556,
             "#d8576b"
            ],
            [
             0.6666666666666666,
             "#ed7953"
            ],
            [
             0.7777777777777778,
             "#fb9f3a"
            ],
            [
             0.8888888888888888,
             "#fdca26"
            ],
            [
             1,
             "#f0f921"
            ]
           ],
           "sequentialminus": [
            [
             0,
             "#0d0887"
            ],
            [
             0.1111111111111111,
             "#46039f"
            ],
            [
             0.2222222222222222,
             "#7201a8"
            ],
            [
             0.3333333333333333,
             "#9c179e"
            ],
            [
             0.4444444444444444,
             "#bd3786"
            ],
            [
             0.5555555555555556,
             "#d8576b"
            ],
            [
             0.6666666666666666,
             "#ed7953"
            ],
            [
             0.7777777777777778,
             "#fb9f3a"
            ],
            [
             0.8888888888888888,
             "#fdca26"
            ],
            [
             1,
             "#f0f921"
            ]
           ]
          },
          "colorway": [
           "#636efa",
           "#EF553B",
           "#00cc96",
           "#ab63fa",
           "#FFA15A",
           "#19d3f3",
           "#FF6692",
           "#B6E880",
           "#FF97FF",
           "#FECB52"
          ],
          "font": {
           "color": "#2a3f5f"
          },
          "geo": {
           "bgcolor": "white",
           "lakecolor": "white",
           "landcolor": "#E5ECF6",
           "showlakes": true,
           "showland": true,
           "subunitcolor": "white"
          },
          "hoverlabel": {
           "align": "left"
          },
          "hovermode": "closest",
          "mapbox": {
           "style": "light"
          },
          "paper_bgcolor": "white",
          "plot_bgcolor": "#E5ECF6",
          "polar": {
           "angularaxis": {
            "gridcolor": "white",
            "linecolor": "white",
            "ticks": ""
           },
           "bgcolor": "#E5ECF6",
           "radialaxis": {
            "gridcolor": "white",
            "linecolor": "white",
            "ticks": ""
           }
          },
          "scene": {
           "xaxis": {
            "backgroundcolor": "#E5ECF6",
            "gridcolor": "white",
            "gridwidth": 2,
            "linecolor": "white",
            "showbackground": true,
            "ticks": "",
            "zerolinecolor": "white"
           },
           "yaxis": {
            "backgroundcolor": "#E5ECF6",
            "gridcolor": "white",
            "gridwidth": 2,
            "linecolor": "white",
            "showbackground": true,
            "ticks": "",
            "zerolinecolor": "white"
           },
           "zaxis": {
            "backgroundcolor": "#E5ECF6",
            "gridcolor": "white",
            "gridwidth": 2,
            "linecolor": "white",
            "showbackground": true,
            "ticks": "",
            "zerolinecolor": "white"
           }
          },
          "shapedefaults": {
           "line": {
            "color": "#2a3f5f"
           }
          },
          "ternary": {
           "aaxis": {
            "gridcolor": "white",
            "linecolor": "white",
            "ticks": ""
           },
           "baxis": {
            "gridcolor": "white",
            "linecolor": "white",
            "ticks": ""
           },
           "bgcolor": "#E5ECF6",
           "caxis": {
            "gridcolor": "white",
            "linecolor": "white",
            "ticks": ""
           }
          },
          "title": {
           "x": 0.05
          },
          "xaxis": {
           "automargin": true,
           "gridcolor": "white",
           "linecolor": "white",
           "ticks": "",
           "title": {
            "standoff": 15
           },
           "zerolinecolor": "white",
           "zerolinewidth": 2
          },
          "yaxis": {
           "automargin": true,
           "gridcolor": "white",
           "linecolor": "white",
           "ticks": "",
           "title": {
            "standoff": 15
           },
           "zerolinecolor": "white",
           "zerolinewidth": 2
          }
         }
        },
        "title": {
         "text": "Box plot of oldpeak"
        },
        "xaxis": {
         "anchor": "y",
         "domain": [
          0,
          1
         ]
        },
        "yaxis": {
         "anchor": "x",
         "domain": [
          0,
          1
         ],
         "title": {
          "text": "oldpeak"
         }
        }
       }
      }
     },
     "metadata": {},
     "output_type": "display_data"
    }
   ],
   "source": [
    "# draw box plots for numerical column using plotly and for loop\n",
    "for col in numerical_cols:\n",
    "    fig = px.box(df, y=col, title=f'Box plot of {col}')\n",
    "    fig.show()"
   ]
  },
  {
   "cell_type": "code",
   "execution_count": 148,
   "id": "c518ef37",
   "metadata": {},
   "outputs": [],
   "source": [
    "# print the row from df where trestbps value is 0\n",
    "df[df['trestbps'] == 0]\n",
    "\n",
    "# remove this row from data\n",
    "df = df[df['trestbps'] != 0]"
   ]
  },
  {
   "cell_type": "code",
   "execution_count": 149,
   "id": "565a8dd0",
   "metadata": {},
   "outputs": [
    {
     "name": "stdout",
     "output_type": "stream",
     "text": [
      "<class 'pandas.core.frame.DataFrame'>\n",
      "Index: 919 entries, 0 to 919\n",
      "Data columns (total 16 columns):\n",
      " #   Column    Non-Null Count  Dtype  \n",
      "---  ------    --------------  -----  \n",
      " 0   id        919 non-null    int64  \n",
      " 1   age       919 non-null    int64  \n",
      " 2   sex       919 non-null    object \n",
      " 3   dataset   919 non-null    object \n",
      " 4   cp        919 non-null    object \n",
      " 5   trestbps  919 non-null    float64\n",
      " 6   chol      919 non-null    float64\n",
      " 7   fbs       919 non-null    object \n",
      " 8   restecg   919 non-null    object \n",
      " 9   thalch    919 non-null    float64\n",
      " 10  exang     919 non-null    object \n",
      " 11  oldpeak   919 non-null    float64\n",
      " 12  slope     919 non-null    object \n",
      " 13  ca        919 non-null    float64\n",
      " 14  thal      919 non-null    object \n",
      " 15  num       919 non-null    int64  \n",
      "dtypes: float64(5), int64(3), object(8)\n",
      "memory usage: 122.1+ KB\n"
     ]
    }
   ],
   "source": [
    "df.info()"
   ]
  },
  {
   "cell_type": "code",
   "execution_count": 152,
   "id": "429ab1a6",
   "metadata": {},
   "outputs": [
    {
     "data": {
      "text/html": [
       "<div>\n",
       "<style scoped>\n",
       "    .dataframe tbody tr th:only-of-type {\n",
       "        vertical-align: middle;\n",
       "    }\n",
       "\n",
       "    .dataframe tbody tr th {\n",
       "        vertical-align: top;\n",
       "    }\n",
       "\n",
       "    .dataframe thead th {\n",
       "        text-align: right;\n",
       "    }\n",
       "</style>\n",
       "<table border=\"1\" class=\"dataframe\">\n",
       "  <thead>\n",
       "    <tr style=\"text-align: right;\">\n",
       "      <th></th>\n",
       "      <th>id</th>\n",
       "      <th>age</th>\n",
       "      <th>sex</th>\n",
       "      <th>dataset</th>\n",
       "      <th>cp</th>\n",
       "      <th>trestbps</th>\n",
       "      <th>chol</th>\n",
       "      <th>fbs</th>\n",
       "      <th>restecg</th>\n",
       "      <th>thalch</th>\n",
       "      <th>exang</th>\n",
       "      <th>oldpeak</th>\n",
       "      <th>slope</th>\n",
       "      <th>ca</th>\n",
       "      <th>thal</th>\n",
       "      <th>num</th>\n",
       "    </tr>\n",
       "  </thead>\n",
       "  <tbody>\n",
       "    <tr>\n",
       "      <th>0</th>\n",
       "      <td>1</td>\n",
       "      <td>63</td>\n",
       "      <td>Male</td>\n",
       "      <td>Cleveland</td>\n",
       "      <td>typical angina</td>\n",
       "      <td>145.0</td>\n",
       "      <td>233.0</td>\n",
       "      <td>True</td>\n",
       "      <td>lv hypertrophy</td>\n",
       "      <td>150.0</td>\n",
       "      <td>False</td>\n",
       "      <td>2.3</td>\n",
       "      <td>downsloping</td>\n",
       "      <td>0.0</td>\n",
       "      <td>fixed defect</td>\n",
       "      <td>0</td>\n",
       "    </tr>\n",
       "    <tr>\n",
       "      <th>1</th>\n",
       "      <td>2</td>\n",
       "      <td>67</td>\n",
       "      <td>Male</td>\n",
       "      <td>Cleveland</td>\n",
       "      <td>asymptomatic</td>\n",
       "      <td>160.0</td>\n",
       "      <td>286.0</td>\n",
       "      <td>False</td>\n",
       "      <td>lv hypertrophy</td>\n",
       "      <td>108.0</td>\n",
       "      <td>True</td>\n",
       "      <td>1.5</td>\n",
       "      <td>flat</td>\n",
       "      <td>3.0</td>\n",
       "      <td>normal</td>\n",
       "      <td>2</td>\n",
       "    </tr>\n",
       "    <tr>\n",
       "      <th>2</th>\n",
       "      <td>3</td>\n",
       "      <td>67</td>\n",
       "      <td>Male</td>\n",
       "      <td>Cleveland</td>\n",
       "      <td>asymptomatic</td>\n",
       "      <td>120.0</td>\n",
       "      <td>229.0</td>\n",
       "      <td>False</td>\n",
       "      <td>lv hypertrophy</td>\n",
       "      <td>129.0</td>\n",
       "      <td>True</td>\n",
       "      <td>2.6</td>\n",
       "      <td>flat</td>\n",
       "      <td>2.0</td>\n",
       "      <td>reversable defect</td>\n",
       "      <td>1</td>\n",
       "    </tr>\n",
       "    <tr>\n",
       "      <th>3</th>\n",
       "      <td>4</td>\n",
       "      <td>37</td>\n",
       "      <td>Male</td>\n",
       "      <td>Cleveland</td>\n",
       "      <td>non-anginal</td>\n",
       "      <td>130.0</td>\n",
       "      <td>250.0</td>\n",
       "      <td>False</td>\n",
       "      <td>normal</td>\n",
       "      <td>187.0</td>\n",
       "      <td>False</td>\n",
       "      <td>3.5</td>\n",
       "      <td>downsloping</td>\n",
       "      <td>0.0</td>\n",
       "      <td>normal</td>\n",
       "      <td>0</td>\n",
       "    </tr>\n",
       "    <tr>\n",
       "      <th>4</th>\n",
       "      <td>5</td>\n",
       "      <td>41</td>\n",
       "      <td>Female</td>\n",
       "      <td>Cleveland</td>\n",
       "      <td>atypical angina</td>\n",
       "      <td>130.0</td>\n",
       "      <td>204.0</td>\n",
       "      <td>False</td>\n",
       "      <td>lv hypertrophy</td>\n",
       "      <td>172.0</td>\n",
       "      <td>False</td>\n",
       "      <td>1.4</td>\n",
       "      <td>upsloping</td>\n",
       "      <td>0.0</td>\n",
       "      <td>normal</td>\n",
       "      <td>0</td>\n",
       "    </tr>\n",
       "  </tbody>\n",
       "</table>\n",
       "</div>"
      ],
      "text/plain": [
       "   id  age     sex    dataset  ...        slope   ca               thal num\n",
       "0   1   63    Male  Cleveland  ...  downsloping  0.0       fixed defect   0\n",
       "1   2   67    Male  Cleveland  ...         flat  3.0             normal   2\n",
       "2   3   67    Male  Cleveland  ...         flat  2.0  reversable defect   1\n",
       "3   4   37    Male  Cleveland  ...  downsloping  0.0             normal   0\n",
       "4   5   41  Female  Cleveland  ...    upsloping  0.0             normal   0\n",
       "\n",
       "[5 rows x 16 columns]"
      ]
     },
     "execution_count": 152,
     "metadata": {},
     "output_type": "execute_result"
    }
   ],
   "source": [
    "df.head()"
   ]
  },
  {
   "cell_type": "code",
   "execution_count": 156,
   "id": "f0c65974",
   "metadata": {},
   "outputs": [
    {
     "data": {
      "text/html": [
       "<div>\n",
       "<style scoped>\n",
       "    .dataframe tbody tr th:only-of-type {\n",
       "        vertical-align: middle;\n",
       "    }\n",
       "\n",
       "    .dataframe tbody tr th {\n",
       "        vertical-align: top;\n",
       "    }\n",
       "\n",
       "    .dataframe thead th {\n",
       "        text-align: right;\n",
       "    }\n",
       "</style>\n",
       "<table border=\"1\" class=\"dataframe\">\n",
       "  <thead>\n",
       "    <tr style=\"text-align: right;\">\n",
       "      <th></th>\n",
       "      <th>count</th>\n",
       "      <th>mean</th>\n",
       "      <th>std</th>\n",
       "      <th>min</th>\n",
       "      <th>25%</th>\n",
       "      <th>50%</th>\n",
       "      <th>75%</th>\n",
       "      <th>max</th>\n",
       "    </tr>\n",
       "    <tr>\n",
       "      <th>sex</th>\n",
       "      <th></th>\n",
       "      <th></th>\n",
       "      <th></th>\n",
       "      <th></th>\n",
       "      <th></th>\n",
       "      <th></th>\n",
       "      <th></th>\n",
       "      <th></th>\n",
       "    </tr>\n",
       "  </thead>\n",
       "  <tbody>\n",
       "    <tr>\n",
       "      <th>Female</th>\n",
       "      <td>194.0</td>\n",
       "      <td>132.151907</td>\n",
       "      <td>19.421092</td>\n",
       "      <td>94.0</td>\n",
       "      <td>120.0</td>\n",
       "      <td>130.0</td>\n",
       "      <td>140.00</td>\n",
       "      <td>200.0</td>\n",
       "    </tr>\n",
       "    <tr>\n",
       "      <th>Male</th>\n",
       "      <td>725.0</td>\n",
       "      <td>132.634800</td>\n",
       "      <td>17.618907</td>\n",
       "      <td>80.0</td>\n",
       "      <td>120.0</td>\n",
       "      <td>130.0</td>\n",
       "      <td>140.46</td>\n",
       "      <td>200.0</td>\n",
       "    </tr>\n",
       "  </tbody>\n",
       "</table>\n",
       "</div>"
      ],
      "text/plain": [
       "        count        mean        std   min    25%    50%     75%    max\n",
       "sex                                                                    \n",
       "Female  194.0  132.151907  19.421092  94.0  120.0  130.0  140.00  200.0\n",
       "Male    725.0  132.634800  17.618907  80.0  120.0  130.0  140.46  200.0"
      ]
     },
     "execution_count": 156,
     "metadata": {},
     "output_type": "execute_result"
    }
   ],
   "source": [
    "# groupby sex column with trestbps\n",
    "df.groupby('sex')['trestbps'].describe()"
   ]
  },
  {
   "cell_type": "code",
   "execution_count": 160,
   "id": "7b6b819d",
   "metadata": {},
   "outputs": [
    {
     "data": {
      "text/html": [
       "<div>\n",
       "<style scoped>\n",
       "    .dataframe tbody tr th:only-of-type {\n",
       "        vertical-align: middle;\n",
       "    }\n",
       "\n",
       "    .dataframe tbody tr th {\n",
       "        vertical-align: top;\n",
       "    }\n",
       "\n",
       "    .dataframe thead th {\n",
       "        text-align: right;\n",
       "    }\n",
       "</style>\n",
       "<table border=\"1\" class=\"dataframe\">\n",
       "  <thead>\n",
       "    <tr style=\"text-align: right;\">\n",
       "      <th></th>\n",
       "      <th>count</th>\n",
       "      <th>mean</th>\n",
       "      <th>std</th>\n",
       "      <th>min</th>\n",
       "      <th>25%</th>\n",
       "      <th>50%</th>\n",
       "      <th>75%</th>\n",
       "      <th>max</th>\n",
       "    </tr>\n",
       "    <tr>\n",
       "      <th>sex</th>\n",
       "      <th></th>\n",
       "      <th></th>\n",
       "      <th></th>\n",
       "      <th></th>\n",
       "      <th></th>\n",
       "      <th></th>\n",
       "      <th></th>\n",
       "      <th></th>\n",
       "    </tr>\n",
       "  </thead>\n",
       "  <tbody>\n",
       "    <tr>\n",
       "      <th>Female</th>\n",
       "      <td>194.0</td>\n",
       "      <td>240.597371</td>\n",
       "      <td>84.85351</td>\n",
       "      <td>0.0</td>\n",
       "      <td>204.25</td>\n",
       "      <td>240.5</td>\n",
       "      <td>288.0</td>\n",
       "      <td>564.0</td>\n",
       "    </tr>\n",
       "    <tr>\n",
       "      <th>Male</th>\n",
       "      <td>725.0</td>\n",
       "      <td>190.245352</td>\n",
       "      <td>112.64279</td>\n",
       "      <td>0.0</td>\n",
       "      <td>164.00</td>\n",
       "      <td>221.0</td>\n",
       "      <td>263.0</td>\n",
       "      <td>603.0</td>\n",
       "    </tr>\n",
       "  </tbody>\n",
       "</table>\n",
       "</div>"
      ],
      "text/plain": [
       "        count        mean        std  min     25%    50%    75%    max\n",
       "sex                                                                   \n",
       "Female  194.0  240.597371   84.85351  0.0  204.25  240.5  288.0  564.0\n",
       "Male    725.0  190.245352  112.64279  0.0  164.00  221.0  263.0  603.0"
      ]
     },
     "execution_count": 160,
     "metadata": {},
     "output_type": "execute_result"
    }
   ],
   "source": [
    "# groupby chol column with sex column\n",
    "df.groupby('sex')['chol'].describe()"
   ]
  },
  {
   "cell_type": "code",
   "execution_count": 161,
   "id": "168e4f1d",
   "metadata": {},
   "outputs": [
    {
     "data": {
      "application/vnd.plotly.v1+json": {
       "config": {
        "plotlyServerURL": "https://plot.ly"
       },
       "data": [
        {
         "bingroup": "x",
         "hovertemplate": "sex=Male<br>chol=%{x}<br>count=%{y}<extra></extra>",
         "legendgroup": "Male",
         "marker": {
          "color": "#636efa",
          "pattern": {
           "shape": ""
          }
         },
         "name": "Male",
         "orientation": "v",
         "showlegend": true,
         "type": "histogram",
         "x": {
          "bdata": "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",
          "dtype": "f8"
         },
         "xaxis": "x",
         "yaxis": "y"
        },
        {
         "bingroup": "x",
         "hovertemplate": "sex=Female<br>chol=%{x}<br>count=%{y}<extra></extra>",
         "legendgroup": "Female",
         "marker": {
          "color": "#EF553B",
          "pattern": {
           "shape": ""
          }
         },
         "name": "Female",
         "orientation": "v",
         "showlegend": true,
         "type": "histogram",
         "x": {
          "bdata": "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",
          "dtype": "f8"
         },
         "xaxis": "x",
         "yaxis": "y"
        }
       ],
       "layout": {
        "barmode": "relative",
        "legend": {
         "title": {
          "text": "sex"
         },
         "tracegroupgap": 0
        },
        "margin": {
         "t": 60
        },
        "template": {
         "data": {
          "bar": [
           {
            "error_x": {
             "color": "#2a3f5f"
            },
            "error_y": {
             "color": "#2a3f5f"
            },
            "marker": {
             "line": {
              "color": "#E5ECF6",
              "width": 0.5
             },
             "pattern": {
              "fillmode": "overlay",
              "size": 10,
              "solidity": 0.2
             }
            },
            "type": "bar"
           }
          ],
          "barpolar": [
           {
            "marker": {
             "line": {
              "color": "#E5ECF6",
              "width": 0.5
             },
             "pattern": {
              "fillmode": "overlay",
              "size": 10,
              "solidity": 0.2
             }
            },
            "type": "barpolar"
           }
          ],
          "carpet": [
           {
            "aaxis": {
             "endlinecolor": "#2a3f5f",
             "gridcolor": "white",
             "linecolor": "white",
             "minorgridcolor": "white",
             "startlinecolor": "#2a3f5f"
            },
            "baxis": {
             "endlinecolor": "#2a3f5f",
             "gridcolor": "white",
             "linecolor": "white",
             "minorgridcolor": "white",
             "startlinecolor": "#2a3f5f"
            },
            "type": "carpet"
           }
          ],
          "choropleth": [
           {
            "colorbar": {
             "outlinewidth": 0,
             "ticks": ""
            },
            "type": "choropleth"
           }
          ],
          "contour": [
           {
            "colorbar": {
             "outlinewidth": 0,
             "ticks": ""
            },
            "colorscale": [
             [
              0,
              "#0d0887"
             ],
             [
              0.1111111111111111,
              "#46039f"
             ],
             [
              0.2222222222222222,
              "#7201a8"
             ],
             [
              0.3333333333333333,
              "#9c179e"
             ],
             [
              0.4444444444444444,
              "#bd3786"
             ],
             [
              0.5555555555555556,
              "#d8576b"
             ],
             [
              0.6666666666666666,
              "#ed7953"
             ],
             [
              0.7777777777777778,
              "#fb9f3a"
             ],
             [
              0.8888888888888888,
              "#fdca26"
             ],
             [
              1,
              "#f0f921"
             ]
            ],
            "type": "contour"
           }
          ],
          "contourcarpet": [
           {
            "colorbar": {
             "outlinewidth": 0,
             "ticks": ""
            },
            "type": "contourcarpet"
           }
          ],
          "heatmap": [
           {
            "colorbar": {
             "outlinewidth": 0,
             "ticks": ""
            },
            "colorscale": [
             [
              0,
              "#0d0887"
             ],
             [
              0.1111111111111111,
              "#46039f"
             ],
             [
              0.2222222222222222,
              "#7201a8"
             ],
             [
              0.3333333333333333,
              "#9c179e"
             ],
             [
              0.4444444444444444,
              "#bd3786"
             ],
             [
              0.5555555555555556,
              "#d8576b"
             ],
             [
              0.6666666666666666,
              "#ed7953"
             ],
             [
              0.7777777777777778,
              "#fb9f3a"
             ],
             [
              0.8888888888888888,
              "#fdca26"
             ],
             [
              1,
              "#f0f921"
             ]
            ],
            "type": "heatmap"
           }
          ],
          "histogram": [
           {
            "marker": {
             "pattern": {
              "fillmode": "overlay",
              "size": 10,
              "solidity": 0.2
             }
            },
            "type": "histogram"
           }
          ],
          "histogram2d": [
           {
            "colorbar": {
             "outlinewidth": 0,
             "ticks": ""
            },
            "colorscale": [
             [
              0,
              "#0d0887"
             ],
             [
              0.1111111111111111,
              "#46039f"
             ],
             [
              0.2222222222222222,
              "#7201a8"
             ],
             [
              0.3333333333333333,
              "#9c179e"
             ],
             [
              0.4444444444444444,
              "#bd3786"
             ],
             [
              0.5555555555555556,
              "#d8576b"
             ],
             [
              0.6666666666666666,
              "#ed7953"
             ],
             [
              0.7777777777777778,
              "#fb9f3a"
             ],
             [
              0.8888888888888888,
              "#fdca26"
             ],
             [
              1,
              "#f0f921"
             ]
            ],
            "type": "histogram2d"
           }
          ],
          "histogram2dcontour": [
           {
            "colorbar": {
             "outlinewidth": 0,
             "ticks": ""
            },
            "colorscale": [
             [
              0,
              "#0d0887"
             ],
             [
              0.1111111111111111,
              "#46039f"
             ],
             [
              0.2222222222222222,
              "#7201a8"
             ],
             [
              0.3333333333333333,
              "#9c179e"
             ],
             [
              0.4444444444444444,
              "#bd3786"
             ],
             [
              0.5555555555555556,
              "#d8576b"
             ],
             [
              0.6666666666666666,
              "#ed7953"
             ],
             [
              0.7777777777777778,
              "#fb9f3a"
             ],
             [
              0.8888888888888888,
              "#fdca26"
             ],
             [
              1,
              "#f0f921"
             ]
            ],
            "type": "histogram2dcontour"
           }
          ],
          "mesh3d": [
           {
            "colorbar": {
             "outlinewidth": 0,
             "ticks": ""
            },
            "type": "mesh3d"
           }
          ],
          "parcoords": [
           {
            "line": {
             "colorbar": {
              "outlinewidth": 0,
              "ticks": ""
             }
            },
            "type": "parcoords"
           }
          ],
          "pie": [
           {
            "automargin": true,
            "type": "pie"
           }
          ],
          "scatter": [
           {
            "fillpattern": {
             "fillmode": "overlay",
             "size": 10,
             "solidity": 0.2
            },
            "type": "scatter"
           }
          ],
          "scatter3d": [
           {
            "line": {
             "colorbar": {
              "outlinewidth": 0,
              "ticks": ""
             }
            },
            "marker": {
             "colorbar": {
              "outlinewidth": 0,
              "ticks": ""
             }
            },
            "type": "scatter3d"
           }
          ],
          "scattercarpet": [
           {
            "marker": {
             "colorbar": {
              "outlinewidth": 0,
              "ticks": ""
             }
            },
            "type": "scattercarpet"
           }
          ],
          "scattergeo": [
           {
            "marker": {
             "colorbar": {
              "outlinewidth": 0,
              "ticks": ""
             }
            },
            "type": "scattergeo"
           }
          ],
          "scattergl": [
           {
            "marker": {
             "colorbar": {
              "outlinewidth": 0,
              "ticks": ""
             }
            },
            "type": "scattergl"
           }
          ],
          "scattermap": [
           {
            "marker": {
             "colorbar": {
              "outlinewidth": 0,
              "ticks": ""
             }
            },
            "type": "scattermap"
           }
          ],
          "scattermapbox": [
           {
            "marker": {
             "colorbar": {
              "outlinewidth": 0,
              "ticks": ""
             }
            },
            "type": "scattermapbox"
           }
          ],
          "scatterpolar": [
           {
            "marker": {
             "colorbar": {
              "outlinewidth": 0,
              "ticks": ""
             }
            },
            "type": "scatterpolar"
           }
          ],
          "scatterpolargl": [
           {
            "marker": {
             "colorbar": {
              "outlinewidth": 0,
              "ticks": ""
             }
            },
            "type": "scatterpolargl"
           }
          ],
          "scatterternary": [
           {
            "marker": {
             "colorbar": {
              "outlinewidth": 0,
              "ticks": ""
             }
            },
            "type": "scatterternary"
           }
          ],
          "surface": [
           {
            "colorbar": {
             "outlinewidth": 0,
             "ticks": ""
            },
            "colorscale": [
             [
              0,
              "#0d0887"
             ],
             [
              0.1111111111111111,
              "#46039f"
             ],
             [
              0.2222222222222222,
              "#7201a8"
             ],
             [
              0.3333333333333333,
              "#9c179e"
             ],
             [
              0.4444444444444444,
              "#bd3786"
             ],
             [
              0.5555555555555556,
              "#d8576b"
             ],
             [
              0.6666666666666666,
              "#ed7953"
             ],
             [
              0.7777777777777778,
              "#fb9f3a"
             ],
             [
              0.8888888888888888,
              "#fdca26"
             ],
             [
              1,
              "#f0f921"
             ]
            ],
            "type": "surface"
           }
          ],
          "table": [
           {
            "cells": {
             "fill": {
              "color": "#EBF0F8"
             },
             "line": {
              "color": "white"
             }
            },
            "header": {
             "fill": {
              "color": "#C8D4E3"
             },
             "line": {
              "color": "white"
             }
            },
            "type": "table"
           }
          ]
         },
         "layout": {
          "annotationdefaults": {
           "arrowcolor": "#2a3f5f",
           "arrowhead": 0,
           "arrowwidth": 1
          },
          "autotypenumbers": "strict",
          "coloraxis": {
           "colorbar": {
            "outlinewidth": 0,
            "ticks": ""
           }
          },
          "colorscale": {
           "diverging": [
            [
             0,
             "#8e0152"
            ],
            [
             0.1,
             "#c51b7d"
            ],
            [
             0.2,
             "#de77ae"
            ],
            [
             0.3,
             "#f1b6da"
            ],
            [
             0.4,
             "#fde0ef"
            ],
            [
             0.5,
             "#f7f7f7"
            ],
            [
             0.6,
             "#e6f5d0"
            ],
            [
             0.7,
             "#b8e186"
            ],
            [
             0.8,
             "#7fbc41"
            ],
            [
             0.9,
             "#4d9221"
            ],
            [
             1,
             "#276419"
            ]
           ],
           "sequential": [
            [
             0,
             "#0d0887"
            ],
            [
             0.1111111111111111,
             "#46039f"
            ],
            [
             0.2222222222222222,
             "#7201a8"
            ],
            [
             0.3333333333333333,
             "#9c179e"
            ],
            [
             0.4444444444444444,
             "#bd3786"
            ],
            [
             0.5555555555555556,
             "#d8576b"
            ],
            [
             0.6666666666666666,
             "#ed7953"
            ],
            [
             0.7777777777777778,
             "#fb9f3a"
            ],
            [
             0.8888888888888888,
             "#fdca26"
            ],
            [
             1,
             "#f0f921"
            ]
           ],
           "sequentialminus": [
            [
             0,
             "#0d0887"
            ],
            [
             0.1111111111111111,
             "#46039f"
            ],
            [
             0.2222222222222222,
             "#7201a8"
            ],
            [
             0.3333333333333333,
             "#9c179e"
            ],
            [
             0.4444444444444444,
             "#bd3786"
            ],
            [
             0.5555555555555556,
             "#d8576b"
            ],
            [
             0.6666666666666666,
             "#ed7953"
            ],
            [
             0.7777777777777778,
             "#fb9f3a"
            ],
            [
             0.8888888888888888,
             "#fdca26"
            ],
            [
             1,
             "#f0f921"
            ]
           ]
          },
          "colorway": [
           "#636efa",
           "#EF553B",
           "#00cc96",
           "#ab63fa",
           "#FFA15A",
           "#19d3f3",
           "#FF6692",
           "#B6E880",
           "#FF97FF",
           "#FECB52"
          ],
          "font": {
           "color": "#2a3f5f"
          },
          "geo": {
           "bgcolor": "white",
           "lakecolor": "white",
           "landcolor": "#E5ECF6",
           "showlakes": true,
           "showland": true,
           "subunitcolor": "white"
          },
          "hoverlabel": {
           "align": "left"
          },
          "hovermode": "closest",
          "mapbox": {
           "style": "light"
          },
          "paper_bgcolor": "white",
          "plot_bgcolor": "#E5ECF6",
          "polar": {
           "angularaxis": {
            "gridcolor": "white",
            "linecolor": "white",
            "ticks": ""
           },
           "bgcolor": "#E5ECF6",
           "radialaxis": {
            "gridcolor": "white",
            "linecolor": "white",
            "ticks": ""
           }
          },
          "scene": {
           "xaxis": {
            "backgroundcolor": "#E5ECF6",
            "gridcolor": "white",
            "gridwidth": 2,
            "linecolor": "white",
            "showbackground": true,
            "ticks": "",
            "zerolinecolor": "white"
           },
           "yaxis": {
            "backgroundcolor": "#E5ECF6",
            "gridcolor": "white",
            "gridwidth": 2,
            "linecolor": "white",
            "showbackground": true,
            "ticks": "",
            "zerolinecolor": "white"
           },
           "zaxis": {
            "backgroundcolor": "#E5ECF6",
            "gridcolor": "white",
            "gridwidth": 2,
            "linecolor": "white",
            "showbackground": true,
            "ticks": "",
            "zerolinecolor": "white"
           }
          },
          "shapedefaults": {
           "line": {
            "color": "#2a3f5f"
           }
          },
          "ternary": {
           "aaxis": {
            "gridcolor": "white",
            "linecolor": "white",
            "ticks": ""
           },
           "baxis": {
            "gridcolor": "white",
            "linecolor": "white",
            "ticks": ""
           },
           "bgcolor": "#E5ECF6",
           "caxis": {
            "gridcolor": "white",
            "linecolor": "white",
            "ticks": ""
           }
          },
          "title": {
           "x": 0.05
          },
          "xaxis": {
           "automargin": true,
           "gridcolor": "white",
           "linecolor": "white",
           "ticks": "",
           "title": {
            "standoff": 15
           },
           "zerolinecolor": "white",
           "zerolinewidth": 2
          },
          "yaxis": {
           "automargin": true,
           "gridcolor": "white",
           "linecolor": "white",
           "ticks": "",
           "title": {
            "standoff": 15
           },
           "zerolinecolor": "white",
           "zerolinewidth": 2
          }
         }
        },
        "xaxis": {
         "anchor": "y",
         "domain": [
          0,
          1
         ],
         "title": {
          "text": "chol"
         }
        },
        "yaxis": {
         "anchor": "x",
         "domain": [
          0,
          1
         ],
         "title": {
          "text": "count"
         }
        }
       }
      }
     },
     "metadata": {},
     "output_type": "display_data"
    }
   ],
   "source": [
    "# draw a histogram plot for chol column and color by sex\n",
    "fig = px.histogram(df, x='chol', color='sex')\n",
    "fig.show()"
   ]
  },
  {
   "cell_type": "code",
   "execution_count": 162,
   "id": "2caa7d44",
   "metadata": {},
   "outputs": [
    {
     "data": {
      "application/vnd.plotly.v1+json": {
       "config": {
        "plotlyServerURL": "https://plot.ly"
       },
       "data": [
        {
         "bingroup": "x",
         "hovertemplate": "sex=Male<br>trestbps=%{x}<br>count=%{y}<extra></extra>",
         "legendgroup": "Male",
         "marker": {
          "color": "#636efa",
          "pattern": {
           "shape": ""
          }
         },
         "name": "Male",
         "orientation": "v",
         "showlegend": true,
         "type": "histogram",
         "x": {
          "bdata": "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",
          "dtype": "f8"
         },
         "xaxis": "x",
         "yaxis": "y"
        },
        {
         "bingroup": "x",
         "hovertemplate": "sex=Female<br>trestbps=%{x}<br>count=%{y}<extra></extra>",
         "legendgroup": "Female",
         "marker": {
          "color": "#EF553B",
          "pattern": {
           "shape": ""
          }
         },
         "name": "Female",
         "orientation": "v",
         "showlegend": true,
         "type": "histogram",
         "x": {
          "bdata": "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",
          "dtype": "f8"
         },
         "xaxis": "x",
         "yaxis": "y"
        }
       ],
       "layout": {
        "barmode": "relative",
        "legend": {
         "title": {
          "text": "sex"
         },
         "tracegroupgap": 0
        },
        "margin": {
         "t": 60
        },
        "template": {
         "data": {
          "bar": [
           {
            "error_x": {
             "color": "#2a3f5f"
            },
            "error_y": {
             "color": "#2a3f5f"
            },
            "marker": {
             "line": {
              "color": "#E5ECF6",
              "width": 0.5
             },
             "pattern": {
              "fillmode": "overlay",
              "size": 10,
              "solidity": 0.2
             }
            },
            "type": "bar"
           }
          ],
          "barpolar": [
           {
            "marker": {
             "line": {
              "color": "#E5ECF6",
              "width": 0.5
             },
             "pattern": {
              "fillmode": "overlay",
              "size": 10,
              "solidity": 0.2
             }
            },
            "type": "barpolar"
           }
          ],
          "carpet": [
           {
            "aaxis": {
             "endlinecolor": "#2a3f5f",
             "gridcolor": "white",
             "linecolor": "white",
             "minorgridcolor": "white",
             "startlinecolor": "#2a3f5f"
            },
            "baxis": {
             "endlinecolor": "#2a3f5f",
             "gridcolor": "white",
             "linecolor": "white",
             "minorgridcolor": "white",
             "startlinecolor": "#2a3f5f"
            },
            "type": "carpet"
           }
          ],
          "choropleth": [
           {
            "colorbar": {
             "outlinewidth": 0,
             "ticks": ""
            },
            "type": "choropleth"
           }
          ],
          "contour": [
           {
            "colorbar": {
             "outlinewidth": 0,
             "ticks": ""
            },
            "colorscale": [
             [
              0,
              "#0d0887"
             ],
             [
              0.1111111111111111,
              "#46039f"
             ],
             [
              0.2222222222222222,
              "#7201a8"
             ],
             [
              0.3333333333333333,
              "#9c179e"
             ],
             [
              0.4444444444444444,
              "#bd3786"
             ],
             [
              0.5555555555555556,
              "#d8576b"
             ],
             [
              0.6666666666666666,
              "#ed7953"
             ],
             [
              0.7777777777777778,
              "#fb9f3a"
             ],
             [
              0.8888888888888888,
              "#fdca26"
             ],
             [
              1,
              "#f0f921"
             ]
            ],
            "type": "contour"
           }
          ],
          "contourcarpet": [
           {
            "colorbar": {
             "outlinewidth": 0,
             "ticks": ""
            },
            "type": "contourcarpet"
           }
          ],
          "heatmap": [
           {
            "colorbar": {
             "outlinewidth": 0,
             "ticks": ""
            },
            "colorscale": [
             [
              0,
              "#0d0887"
             ],
             [
              0.1111111111111111,
              "#46039f"
             ],
             [
              0.2222222222222222,
              "#7201a8"
             ],
             [
              0.3333333333333333,
              "#9c179e"
             ],
             [
              0.4444444444444444,
              "#bd3786"
             ],
             [
              0.5555555555555556,
              "#d8576b"
             ],
             [
              0.6666666666666666,
              "#ed7953"
             ],
             [
              0.7777777777777778,
              "#fb9f3a"
             ],
             [
              0.8888888888888888,
              "#fdca26"
             ],
             [
              1,
              "#f0f921"
             ]
            ],
            "type": "heatmap"
           }
          ],
          "histogram": [
           {
            "marker": {
             "pattern": {
              "fillmode": "overlay",
              "size": 10,
              "solidity": 0.2
             }
            },
            "type": "histogram"
           }
          ],
          "histogram2d": [
           {
            "colorbar": {
             "outlinewidth": 0,
             "ticks": ""
            },
            "colorscale": [
             [
              0,
              "#0d0887"
             ],
             [
              0.1111111111111111,
              "#46039f"
             ],
             [
              0.2222222222222222,
              "#7201a8"
             ],
             [
              0.3333333333333333,
              "#9c179e"
             ],
             [
              0.4444444444444444,
              "#bd3786"
             ],
             [
              0.5555555555555556,
              "#d8576b"
             ],
             [
              0.6666666666666666,
              "#ed7953"
             ],
             [
              0.7777777777777778,
              "#fb9f3a"
             ],
             [
              0.8888888888888888,
              "#fdca26"
             ],
             [
              1,
              "#f0f921"
             ]
            ],
            "type": "histogram2d"
           }
          ],
          "histogram2dcontour": [
           {
            "colorbar": {
             "outlinewidth": 0,
             "ticks": ""
            },
            "colorscale": [
             [
              0,
              "#0d0887"
             ],
             [
              0.1111111111111111,
              "#46039f"
             ],
             [
              0.2222222222222222,
              "#7201a8"
             ],
             [
              0.3333333333333333,
              "#9c179e"
             ],
             [
              0.4444444444444444,
              "#bd3786"
             ],
             [
              0.5555555555555556,
              "#d8576b"
             ],
             [
              0.6666666666666666,
              "#ed7953"
             ],
             [
              0.7777777777777778,
              "#fb9f3a"
             ],
             [
              0.8888888888888888,
              "#fdca26"
             ],
             [
              1,
              "#f0f921"
             ]
            ],
            "type": "histogram2dcontour"
           }
          ],
          "mesh3d": [
           {
            "colorbar": {
             "outlinewidth": 0,
             "ticks": ""
            },
            "type": "mesh3d"
           }
          ],
          "parcoords": [
           {
            "line": {
             "colorbar": {
              "outlinewidth": 0,
              "ticks": ""
             }
            },
            "type": "parcoords"
           }
          ],
          "pie": [
           {
            "automargin": true,
            "type": "pie"
           }
          ],
          "scatter": [
           {
            "fillpattern": {
             "fillmode": "overlay",
             "size": 10,
             "solidity": 0.2
            },
            "type": "scatter"
           }
          ],
          "scatter3d": [
           {
            "line": {
             "colorbar": {
              "outlinewidth": 0,
              "ticks": ""
             }
            },
            "marker": {
             "colorbar": {
              "outlinewidth": 0,
              "ticks": ""
             }
            },
            "type": "scatter3d"
           }
          ],
          "scattercarpet": [
           {
            "marker": {
             "colorbar": {
              "outlinewidth": 0,
              "ticks": ""
             }
            },
            "type": "scattercarpet"
           }
          ],
          "scattergeo": [
           {
            "marker": {
             "colorbar": {
              "outlinewidth": 0,
              "ticks": ""
             }
            },
            "type": "scattergeo"
           }
          ],
          "scattergl": [
           {
            "marker": {
             "colorbar": {
              "outlinewidth": 0,
              "ticks": ""
             }
            },
            "type": "scattergl"
           }
          ],
          "scattermap": [
           {
            "marker": {
             "colorbar": {
              "outlinewidth": 0,
              "ticks": ""
             }
            },
            "type": "scattermap"
           }
          ],
          "scattermapbox": [
           {
            "marker": {
             "colorbar": {
              "outlinewidth": 0,
              "ticks": ""
             }
            },
            "type": "scattermapbox"
           }
          ],
          "scatterpolar": [
           {
            "marker": {
             "colorbar": {
              "outlinewidth": 0,
              "ticks": ""
             }
            },
            "type": "scatterpolar"
           }
          ],
          "scatterpolargl": [
           {
            "marker": {
             "colorbar": {
              "outlinewidth": 0,
              "ticks": ""
             }
            },
            "type": "scatterpolargl"
           }
          ],
          "scatterternary": [
           {
            "marker": {
             "colorbar": {
              "outlinewidth": 0,
              "ticks": ""
             }
            },
            "type": "scatterternary"
           }
          ],
          "surface": [
           {
            "colorbar": {
             "outlinewidth": 0,
             "ticks": ""
            },
            "colorscale": [
             [
              0,
              "#0d0887"
             ],
             [
              0.1111111111111111,
              "#46039f"
             ],
             [
              0.2222222222222222,
              "#7201a8"
             ],
             [
              0.3333333333333333,
              "#9c179e"
             ],
             [
              0.4444444444444444,
              "#bd3786"
             ],
             [
              0.5555555555555556,
              "#d8576b"
             ],
             [
              0.6666666666666666,
              "#ed7953"
             ],
             [
              0.7777777777777778,
              "#fb9f3a"
             ],
             [
              0.8888888888888888,
              "#fdca26"
             ],
             [
              1,
              "#f0f921"
             ]
            ],
            "type": "surface"
           }
          ],
          "table": [
           {
            "cells": {
             "fill": {
              "color": "#EBF0F8"
             },
             "line": {
              "color": "white"
             }
            },
            "header": {
             "fill": {
              "color": "#C8D4E3"
             },
             "line": {
              "color": "white"
             }
            },
            "type": "table"
           }
          ]
         },
         "layout": {
          "annotationdefaults": {
           "arrowcolor": "#2a3f5f",
           "arrowhead": 0,
           "arrowwidth": 1
          },
          "autotypenumbers": "strict",
          "coloraxis": {
           "colorbar": {
            "outlinewidth": 0,
            "ticks": ""
           }
          },
          "colorscale": {
           "diverging": [
            [
             0,
             "#8e0152"
            ],
            [
             0.1,
             "#c51b7d"
            ],
            [
             0.2,
             "#de77ae"
            ],
            [
             0.3,
             "#f1b6da"
            ],
            [
             0.4,
             "#fde0ef"
            ],
            [
             0.5,
             "#f7f7f7"
            ],
            [
             0.6,
             "#e6f5d0"
            ],
            [
             0.7,
             "#b8e186"
            ],
            [
             0.8,
             "#7fbc41"
            ],
            [
             0.9,
             "#4d9221"
            ],
            [
             1,
             "#276419"
            ]
           ],
           "sequential": [
            [
             0,
             "#0d0887"
            ],
            [
             0.1111111111111111,
             "#46039f"
            ],
            [
             0.2222222222222222,
             "#7201a8"
            ],
            [
             0.3333333333333333,
             "#9c179e"
            ],
            [
             0.4444444444444444,
             "#bd3786"
            ],
            [
             0.5555555555555556,
             "#d8576b"
            ],
            [
             0.6666666666666666,
             "#ed7953"
            ],
            [
             0.7777777777777778,
             "#fb9f3a"
            ],
            [
             0.8888888888888888,
             "#fdca26"
            ],
            [
             1,
             "#f0f921"
            ]
           ],
           "sequentialminus": [
            [
             0,
             "#0d0887"
            ],
            [
             0.1111111111111111,
             "#46039f"
            ],
            [
             0.2222222222222222,
             "#7201a8"
            ],
            [
             0.3333333333333333,
             "#9c179e"
            ],
            [
             0.4444444444444444,
             "#bd3786"
            ],
            [
             0.5555555555555556,
             "#d8576b"
            ],
            [
             0.6666666666666666,
             "#ed7953"
            ],
            [
             0.7777777777777778,
             "#fb9f3a"
            ],
            [
             0.8888888888888888,
             "#fdca26"
            ],
            [
             1,
             "#f0f921"
            ]
           ]
          },
          "colorway": [
           "#636efa",
           "#EF553B",
           "#00cc96",
           "#ab63fa",
           "#FFA15A",
           "#19d3f3",
           "#FF6692",
           "#B6E880",
           "#FF97FF",
           "#FECB52"
          ],
          "font": {
           "color": "#2a3f5f"
          },
          "geo": {
           "bgcolor": "white",
           "lakecolor": "white",
           "landcolor": "#E5ECF6",
           "showlakes": true,
           "showland": true,
           "subunitcolor": "white"
          },
          "hoverlabel": {
           "align": "left"
          },
          "hovermode": "closest",
          "mapbox": {
           "style": "light"
          },
          "paper_bgcolor": "white",
          "plot_bgcolor": "#E5ECF6",
          "polar": {
           "angularaxis": {
            "gridcolor": "white",
            "linecolor": "white",
            "ticks": ""
           },
           "bgcolor": "#E5ECF6",
           "radialaxis": {
            "gridcolor": "white",
            "linecolor": "white",
            "ticks": ""
           }
          },
          "scene": {
           "xaxis": {
            "backgroundcolor": "#E5ECF6",
            "gridcolor": "white",
            "gridwidth": 2,
            "linecolor": "white",
            "showbackground": true,
            "ticks": "",
            "zerolinecolor": "white"
           },
           "yaxis": {
            "backgroundcolor": "#E5ECF6",
            "gridcolor": "white",
            "gridwidth": 2,
            "linecolor": "white",
            "showbackground": true,
            "ticks": "",
            "zerolinecolor": "white"
           },
           "zaxis": {
            "backgroundcolor": "#E5ECF6",
            "gridcolor": "white",
            "gridwidth": 2,
            "linecolor": "white",
            "showbackground": true,
            "ticks": "",
            "zerolinecolor": "white"
           }
          },
          "shapedefaults": {
           "line": {
            "color": "#2a3f5f"
           }
          },
          "ternary": {
           "aaxis": {
            "gridcolor": "white",
            "linecolor": "white",
            "ticks": ""
           },
           "baxis": {
            "gridcolor": "white",
            "linecolor": "white",
            "ticks": ""
           },
           "bgcolor": "#E5ECF6",
           "caxis": {
            "gridcolor": "white",
            "linecolor": "white",
            "ticks": ""
           }
          },
          "title": {
           "x": 0.05
          },
          "xaxis": {
           "automargin": true,
           "gridcolor": "white",
           "linecolor": "white",
           "ticks": "",
           "title": {
            "standoff": 15
           },
           "zerolinecolor": "white",
           "zerolinewidth": 2
          },
          "yaxis": {
           "automargin": true,
           "gridcolor": "white",
           "linecolor": "white",
           "ticks": "",
           "title": {
            "standoff": 15
           },
           "zerolinecolor": "white",
           "zerolinewidth": 2
          }
         }
        },
        "xaxis": {
         "anchor": "y",
         "domain": [
          0,
          1
         ],
         "title": {
          "text": "trestbps"
         }
        },
        "yaxis": {
         "anchor": "x",
         "domain": [
          0,
          1
         ],
         "title": {
          "text": "count"
         }
        }
       }
      }
     },
     "metadata": {},
     "output_type": "display_data"
    }
   ],
   "source": [
    "# draw a histogram plot for trestbps column and color by sex\n",
    "fig = px.histogram(df, x='trestbps', color='sex')\n",
    "fig.show()"
   ]
  },
  {
   "cell_type": "code",
   "execution_count": 164,
   "id": "4fc8221c",
   "metadata": {},
   "outputs": [
    {
     "data": {
      "application/vnd.plotly.v1+json": {
       "config": {
        "plotlyServerURL": "https://plot.ly"
       },
       "data": [
        {
         "bingroup": "x",
         "hovertemplate": "dataset=Cleveland<br>chol=%{x}<br>count=%{y}<extra></extra>",
         "legendgroup": "Cleveland",
         "marker": {
          "color": "#636efa",
          "pattern": {
           "shape": ""
          }
         },
         "name": "Cleveland",
         "orientation": "v",
         "showlegend": true,
         "type": "histogram",
         "x": {
          "bdata": "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",
          "dtype": "f8"
         },
         "xaxis": "x",
         "yaxis": "y"
        },
        {
         "bingroup": "x",
         "hovertemplate": "dataset=Hungary<br>chol=%{x}<br>count=%{y}<extra></extra>",
         "legendgroup": "Hungary",
         "marker": {
          "color": "#EF553B",
          "pattern": {
           "shape": ""
          }
         },
         "name": "Hungary",
         "orientation": "v",
         "showlegend": true,
         "type": "histogram",
         "x": {
          "bdata": "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",
          "dtype": "f8"
         },
         "xaxis": "x",
         "yaxis": "y"
        },
        {
         "bingroup": "x",
         "hovertemplate": "dataset=Switzerland<br>chol=%{x}<br>count=%{y}<extra></extra>",
         "legendgroup": "Switzerland",
         "marker": {
          "color": "#00cc96",
          "pattern": {
           "shape": ""
          }
         },
         "name": "Switzerland",
         "orientation": "v",
         "showlegend": true,
         "type": "histogram",
         "x": {
          "bdata": "AAAAAAAAAAAAAAAAAAAAAAAAAAAAAAAAAAAAAAAAAAAAAAAAAAAAAAAAAAAAAAAAAAAAAAAAAAAAAAAAAAAAAAAAAAAAAAAAAAAAAAAAAAAAAAAAAAAAAAAAAAAAAAAAAAAAAAAAAAAAAAAAAAAAAAAAAAAAAAAAAAAAAAAAAAAAAAAAAAAAAAAAAAAAAAAAAAAAAAAAAAAAAAAAAAAAAAAAAAAAAAAAAAAAAAAAAAAAAAAAAAAAAAAAAAAAAAAAAAAAAAAAAAAAAAAAAAAAAAAAAAAAAAAAAAAAAAAAAAAAAAAAAAAAAAAAAAAAAAAAAAAAAAAAAAAAAAAAAAAAAAAAAAAAAAAAAAAAAAAAAAAAAAAAAAAAAAAAAAAAAAAAAAAAAAAAAAAAAAAAAAAAAAAAAAAAAAAAAAAAAAAAAAAAAAAAAAAAAAAAAAAAAAAAAAAAAAAAAAAAAAAAAAAAAAAAAAAAAAAAAAAAAAAAAAAAAAAAAAAAAAAAAAAAAAAAAAAAAAAAAAAAAAAAAAAAAAAAAAAAAAAAAAAAAAAAAAAAAAAAAAAAAAAAAAAAAAAAAAAAAAAAAAAAAAAAAAAAAAAAAAAAAAAAAAAAAAAAAAAAAAAAAAAAAAAAAAAAAAAAAAAAAAAAAAAAAAAAAAAAAAAAAAAAAAAAAAAAAAAAAAAAAAAAAAAAAAAAAAAAAAAAAAAAAAAAAAAAAAAAAAAAAAAAAAAAAAAAAAAAAAAAAAAAAAAAAAAAAAAAAAAAAAAAAAAAAAAAAAAAAAAAAAAAAAAAAAAAAAAAAAAAAAAAAAAAAAAAAAAAAAAAAAAAAAAAAAAAAAAAAAAAAAAAAAAAAAAAAAAAAAAAAAAAAAAAAAAAAAAAAAAAAAAAAAAAAAAAAAAAAAAAAAAAAAAAAAAAAAAAAAAAAAAAAAAAAAAAAAAAAAAAAAAAAAAAAAAAAAAAAAAAAAAAAAAAAAAAAAAAAAAAAAAAAAAAAAAAAAAAAAAAAAAAAAAAAAAAAAAAAAAAAAAAAAAAAAAAAAAAAAAAAAAAAAAAAAAAAAAAAAAAAAAAAAAAAAAAAAAAAAAAAAAAAAAAAAAAAAAAAAAAAAAAAAAAAAAAAAAAAAAAAAAAAAAAAAAAAAAAAAAAAAAAAAAAAAAAAAAAAAAAAAAAAAAAAAAAAAAAAAAAAAAAAAAAAAAAAAAAAAAAAAAAAAAAAAAAAAAAAAAAAAAAAAAAAAAAAAAAAAAAAAAAAAAAAAAAAAAAAAAAAAAAAAAAAAAAAAAAAAAAAAAAAAAAAAAAAAAAAAAAAAAAAAAA",
          "dtype": "f8"
         },
         "xaxis": "x",
         "yaxis": "y"
        },
        {
         "bingroup": "x",
         "hovertemplate": "dataset=VA Long Beach<br>chol=%{x}<br>count=%{y}<extra></extra>",
         "legendgroup": "VA Long Beach",
         "marker": {
          "color": "#ab63fa",
          "pattern": {
           "shape": ""
          }
         },
         "name": "VA Long Beach",
         "orientation": "v",
         "showlegend": true,
         "type": "histogram",
         "x": {
          "bdata": "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",
          "dtype": "f8"
         },
         "xaxis": "x",
         "yaxis": "y"
        }
       ],
       "layout": {
        "barmode": "relative",
        "legend": {
         "title": {
          "text": "dataset"
         },
         "tracegroupgap": 0
        },
        "margin": {
         "t": 60
        },
        "template": {
         "data": {
          "bar": [
           {
            "error_x": {
             "color": "#2a3f5f"
            },
            "error_y": {
             "color": "#2a3f5f"
            },
            "marker": {
             "line": {
              "color": "#E5ECF6",
              "width": 0.5
             },
             "pattern": {
              "fillmode": "overlay",
              "size": 10,
              "solidity": 0.2
             }
            },
            "type": "bar"
           }
          ],
          "barpolar": [
           {
            "marker": {
             "line": {
              "color": "#E5ECF6",
              "width": 0.5
             },
             "pattern": {
              "fillmode": "overlay",
              "size": 10,
              "solidity": 0.2
             }
            },
            "type": "barpolar"
           }
          ],
          "carpet": [
           {
            "aaxis": {
             "endlinecolor": "#2a3f5f",
             "gridcolor": "white",
             "linecolor": "white",
             "minorgridcolor": "white",
             "startlinecolor": "#2a3f5f"
            },
            "baxis": {
             "endlinecolor": "#2a3f5f",
             "gridcolor": "white",
             "linecolor": "white",
             "minorgridcolor": "white",
             "startlinecolor": "#2a3f5f"
            },
            "type": "carpet"
           }
          ],
          "choropleth": [
           {
            "colorbar": {
             "outlinewidth": 0,
             "ticks": ""
            },
            "type": "choropleth"
           }
          ],
          "contour": [
           {
            "colorbar": {
             "outlinewidth": 0,
             "ticks": ""
            },
            "colorscale": [
             [
              0,
              "#0d0887"
             ],
             [
              0.1111111111111111,
              "#46039f"
             ],
             [
              0.2222222222222222,
              "#7201a8"
             ],
             [
              0.3333333333333333,
              "#9c179e"
             ],
             [
              0.4444444444444444,
              "#bd3786"
             ],
             [
              0.5555555555555556,
              "#d8576b"
             ],
             [
              0.6666666666666666,
              "#ed7953"
             ],
             [
              0.7777777777777778,
              "#fb9f3a"
             ],
             [
              0.8888888888888888,
              "#fdca26"
             ],
             [
              1,
              "#f0f921"
             ]
            ],
            "type": "contour"
           }
          ],
          "contourcarpet": [
           {
            "colorbar": {
             "outlinewidth": 0,
             "ticks": ""
            },
            "type": "contourcarpet"
           }
          ],
          "heatmap": [
           {
            "colorbar": {
             "outlinewidth": 0,
             "ticks": ""
            },
            "colorscale": [
             [
              0,
              "#0d0887"
             ],
             [
              0.1111111111111111,
              "#46039f"
             ],
             [
              0.2222222222222222,
              "#7201a8"
             ],
             [
              0.3333333333333333,
              "#9c179e"
             ],
             [
              0.4444444444444444,
              "#bd3786"
             ],
             [
              0.5555555555555556,
              "#d8576b"
             ],
             [
              0.6666666666666666,
              "#ed7953"
             ],
             [
              0.7777777777777778,
              "#fb9f3a"
             ],
             [
              0.8888888888888888,
              "#fdca26"
             ],
             [
              1,
              "#f0f921"
             ]
            ],
            "type": "heatmap"
           }
          ],
          "histogram": [
           {
            "marker": {
             "pattern": {
              "fillmode": "overlay",
              "size": 10,
              "solidity": 0.2
             }
            },
            "type": "histogram"
           }
          ],
          "histogram2d": [
           {
            "colorbar": {
             "outlinewidth": 0,
             "ticks": ""
            },
            "colorscale": [
             [
              0,
              "#0d0887"
             ],
             [
              0.1111111111111111,
              "#46039f"
             ],
             [
              0.2222222222222222,
              "#7201a8"
             ],
             [
              0.3333333333333333,
              "#9c179e"
             ],
             [
              0.4444444444444444,
              "#bd3786"
             ],
             [
              0.5555555555555556,
              "#d8576b"
             ],
             [
              0.6666666666666666,
              "#ed7953"
             ],
             [
              0.7777777777777778,
              "#fb9f3a"
             ],
             [
              0.8888888888888888,
              "#fdca26"
             ],
             [
              1,
              "#f0f921"
             ]
            ],
            "type": "histogram2d"
           }
          ],
          "histogram2dcontour": [
           {
            "colorbar": {
             "outlinewidth": 0,
             "ticks": ""
            },
            "colorscale": [
             [
              0,
              "#0d0887"
             ],
             [
              0.1111111111111111,
              "#46039f"
             ],
             [
              0.2222222222222222,
              "#7201a8"
             ],
             [
              0.3333333333333333,
              "#9c179e"
             ],
             [
              0.4444444444444444,
              "#bd3786"
             ],
             [
              0.5555555555555556,
              "#d8576b"
             ],
             [
              0.6666666666666666,
              "#ed7953"
             ],
             [
              0.7777777777777778,
              "#fb9f3a"
             ],
             [
              0.8888888888888888,
              "#fdca26"
             ],
             [
              1,
              "#f0f921"
             ]
            ],
            "type": "histogram2dcontour"
           }
          ],
          "mesh3d": [
           {
            "colorbar": {
             "outlinewidth": 0,
             "ticks": ""
            },
            "type": "mesh3d"
           }
          ],
          "parcoords": [
           {
            "line": {
             "colorbar": {
              "outlinewidth": 0,
              "ticks": ""
             }
            },
            "type": "parcoords"
           }
          ],
          "pie": [
           {
            "automargin": true,
            "type": "pie"
           }
          ],
          "scatter": [
           {
            "fillpattern": {
             "fillmode": "overlay",
             "size": 10,
             "solidity": 0.2
            },
            "type": "scatter"
           }
          ],
          "scatter3d": [
           {
            "line": {
             "colorbar": {
              "outlinewidth": 0,
              "ticks": ""
             }
            },
            "marker": {
             "colorbar": {
              "outlinewidth": 0,
              "ticks": ""
             }
            },
            "type": "scatter3d"
           }
          ],
          "scattercarpet": [
           {
            "marker": {
             "colorbar": {
              "outlinewidth": 0,
              "ticks": ""
             }
            },
            "type": "scattercarpet"
           }
          ],
          "scattergeo": [
           {
            "marker": {
             "colorbar": {
              "outlinewidth": 0,
              "ticks": ""
             }
            },
            "type": "scattergeo"
           }
          ],
          "scattergl": [
           {
            "marker": {
             "colorbar": {
              "outlinewidth": 0,
              "ticks": ""
             }
            },
            "type": "scattergl"
           }
          ],
          "scattermap": [
           {
            "marker": {
             "colorbar": {
              "outlinewidth": 0,
              "ticks": ""
             }
            },
            "type": "scattermap"
           }
          ],
          "scattermapbox": [
           {
            "marker": {
             "colorbar": {
              "outlinewidth": 0,
              "ticks": ""
             }
            },
            "type": "scattermapbox"
           }
          ],
          "scatterpolar": [
           {
            "marker": {
             "colorbar": {
              "outlinewidth": 0,
              "ticks": ""
             }
            },
            "type": "scatterpolar"
           }
          ],
          "scatterpolargl": [
           {
            "marker": {
             "colorbar": {
              "outlinewidth": 0,
              "ticks": ""
             }
            },
            "type": "scatterpolargl"
           }
          ],
          "scatterternary": [
           {
            "marker": {
             "colorbar": {
              "outlinewidth": 0,
              "ticks": ""
             }
            },
            "type": "scatterternary"
           }
          ],
          "surface": [
           {
            "colorbar": {
             "outlinewidth": 0,
             "ticks": ""
            },
            "colorscale": [
             [
              0,
              "#0d0887"
             ],
             [
              0.1111111111111111,
              "#46039f"
             ],
             [
              0.2222222222222222,
              "#7201a8"
             ],
             [
              0.3333333333333333,
              "#9c179e"
             ],
             [
              0.4444444444444444,
              "#bd3786"
             ],
             [
              0.5555555555555556,
              "#d8576b"
             ],
             [
              0.6666666666666666,
              "#ed7953"
             ],
             [
              0.7777777777777778,
              "#fb9f3a"
             ],
             [
              0.8888888888888888,
              "#fdca26"
             ],
             [
              1,
              "#f0f921"
             ]
            ],
            "type": "surface"
           }
          ],
          "table": [
           {
            "cells": {
             "fill": {
              "color": "#EBF0F8"
             },
             "line": {
              "color": "white"
             }
            },
            "header": {
             "fill": {
              "color": "#C8D4E3"
             },
             "line": {
              "color": "white"
             }
            },
            "type": "table"
           }
          ]
         },
         "layout": {
          "annotationdefaults": {
           "arrowcolor": "#2a3f5f",
           "arrowhead": 0,
           "arrowwidth": 1
          },
          "autotypenumbers": "strict",
          "coloraxis": {
           "colorbar": {
            "outlinewidth": 0,
            "ticks": ""
           }
          },
          "colorscale": {
           "diverging": [
            [
             0,
             "#8e0152"
            ],
            [
             0.1,
             "#c51b7d"
            ],
            [
             0.2,
             "#de77ae"
            ],
            [
             0.3,
             "#f1b6da"
            ],
            [
             0.4,
             "#fde0ef"
            ],
            [
             0.5,
             "#f7f7f7"
            ],
            [
             0.6,
             "#e6f5d0"
            ],
            [
             0.7,
             "#b8e186"
            ],
            [
             0.8,
             "#7fbc41"
            ],
            [
             0.9,
             "#4d9221"
            ],
            [
             1,
             "#276419"
            ]
           ],
           "sequential": [
            [
             0,
             "#0d0887"
            ],
            [
             0.1111111111111111,
             "#46039f"
            ],
            [
             0.2222222222222222,
             "#7201a8"
            ],
            [
             0.3333333333333333,
             "#9c179e"
            ],
            [
             0.4444444444444444,
             "#bd3786"
            ],
            [
             0.5555555555555556,
             "#d8576b"
            ],
            [
             0.6666666666666666,
             "#ed7953"
            ],
            [
             0.7777777777777778,
             "#fb9f3a"
            ],
            [
             0.8888888888888888,
             "#fdca26"
            ],
            [
             1,
             "#f0f921"
            ]
           ],
           "sequentialminus": [
            [
             0,
             "#0d0887"
            ],
            [
             0.1111111111111111,
             "#46039f"
            ],
            [
             0.2222222222222222,
             "#7201a8"
            ],
            [
             0.3333333333333333,
             "#9c179e"
            ],
            [
             0.4444444444444444,
             "#bd3786"
            ],
            [
             0.5555555555555556,
             "#d8576b"
            ],
            [
             0.6666666666666666,
             "#ed7953"
            ],
            [
             0.7777777777777778,
             "#fb9f3a"
            ],
            [
             0.8888888888888888,
             "#fdca26"
            ],
            [
             1,
             "#f0f921"
            ]
           ]
          },
          "colorway": [
           "#636efa",
           "#EF553B",
           "#00cc96",
           "#ab63fa",
           "#FFA15A",
           "#19d3f3",
           "#FF6692",
           "#B6E880",
           "#FF97FF",
           "#FECB52"
          ],
          "font": {
           "color": "#2a3f5f"
          },
          "geo": {
           "bgcolor": "white",
           "lakecolor": "white",
           "landcolor": "#E5ECF6",
           "showlakes": true,
           "showland": true,
           "subunitcolor": "white"
          },
          "hoverlabel": {
           "align": "left"
          },
          "hovermode": "closest",
          "mapbox": {
           "style": "light"
          },
          "paper_bgcolor": "white",
          "plot_bgcolor": "#E5ECF6",
          "polar": {
           "angularaxis": {
            "gridcolor": "white",
            "linecolor": "white",
            "ticks": ""
           },
           "bgcolor": "#E5ECF6",
           "radialaxis": {
            "gridcolor": "white",
            "linecolor": "white",
            "ticks": ""
           }
          },
          "scene": {
           "xaxis": {
            "backgroundcolor": "#E5ECF6",
            "gridcolor": "white",
            "gridwidth": 2,
            "linecolor": "white",
            "showbackground": true,
            "ticks": "",
            "zerolinecolor": "white"
           },
           "yaxis": {
            "backgroundcolor": "#E5ECF6",
            "gridcolor": "white",
            "gridwidth": 2,
            "linecolor": "white",
            "showbackground": true,
            "ticks": "",
            "zerolinecolor": "white"
           },
           "zaxis": {
            "backgroundcolor": "#E5ECF6",
            "gridcolor": "white",
            "gridwidth": 2,
            "linecolor": "white",
            "showbackground": true,
            "ticks": "",
            "zerolinecolor": "white"
           }
          },
          "shapedefaults": {
           "line": {
            "color": "#2a3f5f"
           }
          },
          "ternary": {
           "aaxis": {
            "gridcolor": "white",
            "linecolor": "white",
            "ticks": ""
           },
           "baxis": {
            "gridcolor": "white",
            "linecolor": "white",
            "ticks": ""
           },
           "bgcolor": "#E5ECF6",
           "caxis": {
            "gridcolor": "white",
            "linecolor": "white",
            "ticks": ""
           }
          },
          "title": {
           "x": 0.05
          },
          "xaxis": {
           "automargin": true,
           "gridcolor": "white",
           "linecolor": "white",
           "ticks": "",
           "title": {
            "standoff": 15
           },
           "zerolinecolor": "white",
           "zerolinewidth": 2
          },
          "yaxis": {
           "automargin": true,
           "gridcolor": "white",
           "linecolor": "white",
           "ticks": "",
           "title": {
            "standoff": 15
           },
           "zerolinecolor": "white",
           "zerolinewidth": 2
          }
         }
        },
        "xaxis": {
         "anchor": "y",
         "domain": [
          0,
          1
         ],
         "title": {
          "text": "chol"
         }
        },
        "yaxis": {
         "anchor": "x",
         "domain": [
          0,
          1
         ],
         "title": {
          "text": "count"
         }
        }
       }
      }
     },
     "metadata": {},
     "output_type": "display_data"
    }
   ],
   "source": [
    "fig = px.histogram(df, x='chol', color='dataset')\n",
    "fig.show()"
   ]
  },
  {
   "cell_type": "markdown",
   "id": "100731fc",
   "metadata": {},
   "source": [
    "<span style=\"color:gold; font-weight:bold; font-size:28px\"> Machine Learning</span>"
   ]
  },
  {
   "cell_type": "code",
   "execution_count": 165,
   "id": "504d48de",
   "metadata": {},
   "outputs": [
    {
     "data": {
      "text/plain": [
       "Index(['id', 'age', 'sex', 'dataset', 'cp', 'trestbps', 'chol', 'fbs',\n",
       "       'restecg', 'thalch', 'exang', 'oldpeak', 'slope', 'ca', 'thal', 'num'],\n",
       "      dtype='object')"
      ]
     },
     "execution_count": 165,
     "metadata": {},
     "output_type": "execute_result"
    }
   ],
   "source": [
    "df.columns"
   ]
  },
  {
   "cell_type": "code",
   "execution_count": 166,
   "id": "74e9901b",
   "metadata": {},
   "outputs": [
    {
     "data": {
      "text/plain": [
       "num\n",
       "0    411\n",
       "1    265\n",
       "2    109\n",
       "3    106\n",
       "4     28\n",
       "Name: count, dtype: int64"
      ]
     },
     "execution_count": 166,
     "metadata": {},
     "output_type": "execute_result"
    }
   ],
   "source": [
    "df['num'].value_counts()"
   ]
  },
  {
   "cell_type": "markdown",
   "id": "37ad9548",
   "metadata": {},
   "source": [
    "The traget Column is `num` which is the predicted attribute. We wiil use this column to predict the heart disease.\n",
    "The unique values in this column are: [0, 1, 2, 3, 4], which states that there are 5 types of heart diseases.\n",
    "* `0= no heart disease`\n",
    "* `1= mild heart disease `\n",
    "* `2= moderate heart disease  `\n",
    "* `3 = severe heart disease `\n",
    "* `4= critical heart disease  `"
   ]
  },
  {
   "cell_type": "code",
   "execution_count": 167,
   "id": "91f164d8",
   "metadata": {},
   "outputs": [
    {
     "name": "stdout",
     "output_type": "stream",
     "text": [
      "<class 'pandas.core.frame.DataFrame'>\n",
      "Index: 919 entries, 0 to 919\n",
      "Data columns (total 16 columns):\n",
      " #   Column    Non-Null Count  Dtype  \n",
      "---  ------    --------------  -----  \n",
      " 0   id        919 non-null    int64  \n",
      " 1   age       919 non-null    int64  \n",
      " 2   sex       919 non-null    object \n",
      " 3   dataset   919 non-null    object \n",
      " 4   cp        919 non-null    object \n",
      " 5   trestbps  919 non-null    float64\n",
      " 6   chol      919 non-null    float64\n",
      " 7   fbs       919 non-null    object \n",
      " 8   restecg   919 non-null    object \n",
      " 9   thalch    919 non-null    float64\n",
      " 10  exang     919 non-null    object \n",
      " 11  oldpeak   919 non-null    float64\n",
      " 12  slope     919 non-null    object \n",
      " 13  ca        919 non-null    float64\n",
      " 14  thal      919 non-null    object \n",
      " 15  num       919 non-null    int64  \n",
      "dtypes: float64(5), int64(3), object(8)\n",
      "memory usage: 122.1+ KB\n"
     ]
    }
   ],
   "source": [
    "df.info()"
   ]
  },
  {
   "cell_type": "code",
   "execution_count": 168,
   "id": "f464b923",
   "metadata": {},
   "outputs": [],
   "source": [
    "# split the data into x and y\n",
    "X = df.drop('num', axis=1)\n",
    "y = df['num']\n",
    "\n",
    "# encode x data using for loop for all categorical columns and save it for inverse transform\n",
    "label_encoders = {}\n",
    "for col in X.columns:\n",
    "    if X[col].dtype == 'object' or X[col].dtype == 'category':\n",
    "        le = LabelEncoder()\n",
    "        X[col] = le.fit_transform(X[col])\n",
    "        label_encoders[col] = le\n",
    "    else:\n",
    "        pass\n",
    "\n",
    "# split the data in train test split\n",
    "X_train, X_test, y_train, y_test = train_test_split(X, y, test_size=0.2, random_state=42)"
   ]
  },
  {
   "cell_type": "markdown",
   "id": "3789f9ab",
   "metadata": {},
   "source": [
    "Enlist all the models that you will use to predict the heart disease. These models should be classifiers for multiclass classification\n",
    "\n",
    "1. Logistic Regression\n",
    "2. KNN\n",
    "3. NB\n",
    "4. SVM\n",
    "5. Decision Tree\n",
    "6. Random Forest\n",
    "7. XGboost\n",
    "8. LightGBM\n",
    "9. AdaBoost\n",
    "10. Gradient boost classifier"
   ]
  },
  {
   "cell_type": "code",
   "execution_count": 172,
   "id": "0496ff24",
   "metadata": {},
   "outputs": [],
   "source": [
    "# import all models\n",
    "from sklearn.linear_model import LogisticRegression\n",
    "from sklearn.tree import DecisionTreeClassifier, plot_tree\n",
    "from sklearn.ensemble import RandomForestClassifier, GradientBoostingClassifier, AdaBoostClassifier\n",
    "from sklearn.svm import SVC\n",
    "from xgboost import XGBClassifier\n",
    "# from lightgbm import LGBMClassifier\n",
    "from sklearn.neighbors import KNeighborsClassifier\n",
    "from sklearn.naive_bayes import GaussianNB\n",
    "\n",
    "# import pipeline\n",
    "from sklearn.pipeline import Pipeline\n",
    "\n",
    "# import metrics\n",
    "from sklearn.metrics import accuracy_score, classification_report, confusion_matrix\n",
    "\n"
   ]
  },
  {
   "cell_type": "code",
   "execution_count": 183,
   "id": "a06be3a7",
   "metadata": {},
   "outputs": [
    {
     "name": "stdout",
     "output_type": "stream",
     "text": [
      "Model: Logistic Regression\n",
      "Cross-Validation Accuracy: 0.5184\n",
      "Test Accuracy: 0.5000\n",
      "\n",
      "Model: Decision Tree\n",
      "Cross-Validation Accuracy: 0.6354\n",
      "Test Accuracy: 0.6196\n",
      "\n",
      "Model: Random Forest\n",
      "Cross-Validation Accuracy: 0.6707\n",
      "Test Accuracy: 0.6522\n",
      "\n",
      "Model: Gradient Boosting\n",
      "Cross-Validation Accuracy: 0.6707\n",
      "Test Accuracy: 0.6902\n",
      "\n",
      "Model: AdaBoost\n",
      "Cross-Validation Accuracy: 0.6694\n",
      "Test Accuracy: 0.6304\n",
      "\n",
      "Model: SVC\n",
      "Cross-Validation Accuracy: 0.5837\n",
      "Test Accuracy: 0.5815\n",
      "\n",
      "Model: XGBoost\n",
      "Cross-Validation Accuracy: 0.6558\n",
      "Test Accuracy: 0.6467\n",
      "\n",
      "Model: KNeighbors\n",
      "Cross-Validation Accuracy: 0.5837\n",
      "Test Accuracy: 0.5924\n",
      "\n",
      "Model: Naive Bayes\n",
      "Cross-Validation Accuracy: 0.5796\n",
      "Test Accuracy: 0.5489\n",
      "\n",
      "Best Model:  Pipeline(steps=[('classifier', GradientBoostingClassifier(random_state=42))])\n"
     ]
    }
   ],
   "source": [
    "# create a function to train and evaluate all the model\n",
    "\n",
    "models = {\n",
    "    \"Logistic Regression\": LogisticRegression(random_state=42),\n",
    "    \"Decision Tree\": DecisionTreeClassifier(random_state=42),\n",
    "    \"Random Forest\": RandomForestClassifier(random_state=42),\n",
    "    \"Gradient Boosting\": GradientBoostingClassifier(random_state=42),\n",
    "    \"AdaBoost\": AdaBoostClassifier(random_state=42),\n",
    "    \"SVC\": SVC(random_state=42),\n",
    "    \"XGBoost\": XGBClassifier(random_state=42),\n",
    "    \"KNeighbors\": KNeighborsClassifier(),\n",
    "        \"Naive Bayes\": GaussianNB()\n",
    "    }\n",
    "\n",
    "best_model = None\n",
    "best_accuracy = 0\n",
    "\n",
    "for name, model in models.items():\n",
    "    # create a pipeline for each model\n",
    "    pipeline = Pipeline([\n",
    "        ('classifier', model)\n",
    "    ])\n",
    "\n",
    "    # perform cross validation\n",
    "    scores = cross_val_score(pipeline, X_train, y_train, cv=5)\n",
    "\n",
    "    # Calculate mean accuracy\n",
    "    mean_accuracy = scores.mean()\n",
    "\n",
    "    # fit the pipeline on the training data\n",
    "    pipeline.fit(X_train, y_train)\n",
    "\n",
    "    # make predictions on the test data\n",
    "    y_pred = pipeline.predict(X_test)\n",
    "\n",
    "    # calculate accuracy score\n",
    "    accuracy = accuracy_score(y_test, y_pred)\n",
    "\n",
    "    # print the performance metrics\n",
    "    print(f\"Model: {name}\")\n",
    "    print(f\"Cross-Validation Accuracy: {mean_accuracy:.4f}\")\n",
    "    print(f\"Test Accuracy: {accuracy:.4f}\")\n",
    "    print( )\n",
    "\n",
    "    # check if current model has best accuracy score\n",
    "    if accuracy > best_accuracy:\n",
    "        best_accuracy = accuracy\n",
    "        best_model = pipeline\n",
    "    \n",
    "# Retrieve the best model\n",
    "print(\"Best Model: \", best_model)\n",
    "\n",
    "# save the best model\n",
    "import pickle\n",
    "pickle.dump(best_model, open('best_model.pkl', 'wb'))\n",
    "\n"
   ]
  },
  {
   "cell_type": "markdown",
   "id": "c4074c2c",
   "metadata": {},
   "source": [
    "#### Outputs:\n",
    "1. The minimum age to have a heart disease starts from 28 years old\n",
    "2. Most of the people get heart diseases from 53 to 54 years old.\n",
    "3. Most of the males and females are with heart disease at the age of 54 to 55 years.\n",
    "4. Male percentage in the data 78.91%\n",
    "5. Female percentage in the data 21.09%\n",
    "6. We have highest number of people from Cleveland (304) and lowest from Switzerland (123).\n",
    "    1. The highest number of females in the dataset are from Cleveland (97) and the lowest from VALong Beach (6).\n",
    "    2. The highest number of males inn this dataset are from Hungary (212) and lowest from Switzerland (113)\n",
    "7. The mean, median and mode values while grouping age and dataset column show completely different values.\n",
    "8. The most number of chest pain type in people is asymptomatic (496).\n",
    "    1. The highest type of chest pain in male is asymptomatic (426) and lowest is typical angina (36).\n",
    "    2. The highestt type of chest pain in female is asymptomatic (70) and lowest type is typicla angina (10).\n",
    "9. Steps to Impute Missing Values\n",
    "    1. Import Libraries\n",
    "    2. Load the data\n",
    "    3. find the columns with missing values and store in object\n",
    "    4. find the column based on data types\n",
    "        1. numeric\n",
    "        2. categories\n",
    "        3. Boolean\n",
    "    5. Find the function to impute missing values\n",
    "    6. apply the function to our dataset with missing values\n",
    "    7. check the missing values agfter imputation\n",
    "    8. We used Random forest regressor to impute all the numerical columns while used random forest classifier to impute ll the categorical, object and boolean columns.\n",
    " 10. We drew box plots for all the numerical columns and only found out 1 outlier where the value of trestbps was 0, that particular row was removed. We founf none other outliers in the dataset.\n"
   ]
  },
  {
   "cell_type": "markdown",
   "id": "be90aca3",
   "metadata": {},
   "source": []
  }
 ],
 "metadata": {
  "kernelspec": {
   "display_name": "ml_env",
   "language": "python",
   "name": "python3"
  },
  "language_info": {
   "codemirror_mode": {
    "name": "ipython",
    "version": 3
   },
   "file_extension": ".py",
   "mimetype": "text/x-python",
   "name": "python",
   "nbconvert_exporter": "python",
   "pygments_lexer": "ipython3",
   "version": "3.9.21"
  }
 },
 "nbformat": 4,
 "nbformat_minor": 5
}
